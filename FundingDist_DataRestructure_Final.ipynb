{
 "cells": [
  {
   "cell_type": "markdown",
   "metadata": {},
   "source": [
    "## Set up"
   ]
  },
  {
   "cell_type": "markdown",
   "metadata": {},
   "source": [
    "### Import libraries"
   ]
  },
  {
   "cell_type": "code",
   "execution_count": 42,
   "metadata": {},
   "outputs": [],
   "source": [
    "import arcpy\n",
    "import pandas as pd"
   ]
  },
  {
   "cell_type": "markdown",
   "metadata": {},
   "source": [
    "### Make a feature class from the layer package"
   ]
  },
  {
   "cell_type": "code",
   "execution_count": 43,
   "metadata": {},
   "outputs": [
    {
     "name": "stdout",
     "output_type": "stream",
     "text": [
      "Number of features in source: 10278\n",
      "Feature class has been successfully exported to: C:\\Users\\gcowan\\Documents\\ArcGIS\\Projects\\Distribution Analysis\\Data Restructure\\Funding_Distribution_AR25\\Funding_Distribution_AR25.gdb\n"
     ]
    }
   ],
   "source": [
    "# Define file path to layer package and geodatabase; file suffix\n",
    "FundingDist_lpkx = r\"C:\\Users\\gcowan\\Documents\\ArcGIS\\Projects\\Distribution Analysis\\Data Restructure\\Funding_Distribution_AR25\\FundingDistribution_AR25.lpkx\"\n",
    "project_gdb = r\"C:\\Users\\gcowan\\Documents\\ArcGIS\\Projects\\Distribution Analysis\\Data Restructure\\Funding_Distribution_AR25\\Funding_Distribution_AR25.gdb\"\n",
    "suffix = \"AR25\"\n",
    "\n",
    "# Define the target feature class path in the project geodatabase where you would like to export features to\n",
    "Funding_Dist = f\"{project_gdb}\\\\Funding_Dist_{suffix}\"\n",
    "\n",
    "# Make a feature layer from the layer package (.lpkx)\n",
    "arcpy.management.MakeFeatureLayer(FundingDist_lpkx, \"temp_layer\")\n",
    "\n",
    "# Clear any existing selection\n",
    "arcpy.management.SelectLayerByAttribute(\"temp_layer\", \"CLEAR_SELECTION\")\n",
    "\n",
    "# Ensure all features will be included\n",
    "count = int(arcpy.management.GetCount(\"temp_layer\")[0])\n",
    "print(f\"Number of features in source: {count}\")\n",
    "\n",
    "# Export the feature layer to your project geodatabase\n",
    "arcpy.management.CopyFeatures(\"temp_layer\", Funding_Dist)\n",
    "\n",
    "# Optional cleanup if needed (delete the temporary layer)\n",
    "arcpy.management.Delete(\"temp_layer\")\n",
    "\n",
    "print(f\"Feature class has been successfully exported to: {project_gdb}\")"
   ]
  },
  {
   "cell_type": "markdown",
   "metadata": {},
   "source": [
    "## Remove Unneeded Fields"
   ]
  },
  {
   "cell_type": "code",
   "execution_count": 44,
   "metadata": {},
   "outputs": [
    {
     "name": "stdout",
     "output_type": "stream",
     "text": [
      "Fields deleted successfully.\n"
     ]
    }
   ],
   "source": [
    "fields_to_remove = [\"CIscore\", 'Asthma', 'Cardiovascular', 'Cleanups', 'Diesel_PM', 'Drinking_Water', 'Education', 'FID_CES4PP_ctAR25', \n",
    "                    'FID_PP_AR25', 'GroundwaterThreats', 'Haz_Waste', 'HousBurd', 'Imp_Water_Bodies', 'Lead', 'Ling_Isol',\n",
    "                    'Low_Birth_Weight', 'Ozone', 'Pesticides', 'PM2_5', 'Point_Count', 'Pollution', 'PollutionScore', 'PopChar', \n",
    "                    'PopCharScore', 'Poverty', 'Solid_Waste', 'Tox_Releases', 'Traffic', 'Unemployment', \"point_noppggrf_total\", \n",
    "                    \"Poly_NOPPGGRF_TOTAL\", \"CT_NOPPGGRF_TOTAL\", \"Line_NOPPGGRF_TOTAL\", \"point_ppggrf_total\", \"Poly_PPGGRF_TOTAL\", \n",
    "                    \"CT_PPGGRF_TOTAL\", \"Line_PPGGRF_TOTAL\", \"point_ggrf_total\", \"Poly_GGRF_TOTAL\", \"CT_GGRF_TOTAL\", \n",
    "                    \"Line_GGRF_TOTAL\", \"ExclCTdata\", \"Tract\", \"ZIP\", \"Census_Tract\", \"PP_boundary_Area\"]\n",
    "\n",
    "# Delete fields\n",
    "try:\n",
    "    arcpy.DeleteField_management(Funding_Dist, fields_to_remove)\n",
    "    print(\"Fields deleted successfully.\")\n",
    "except Exception as e:\n",
    "    print(f\"An error occurred: {e}\")"
   ]
  },
  {
   "cell_type": "markdown",
   "metadata": {},
   "source": [
    "## Rename a few fields"
   ]
  },
  {
   "cell_type": "code",
   "execution_count": 45,
   "metadata": {},
   "outputs": [
    {
     "data": {
      "text/html": [
       "<div class='gpresult'><h2 class='msg-title'>Messages</h2><div id='messages'>Start Time: Wednesday, June 18, 2025 10:31:48 AM<br>Succeeded at Wednesday, June 18, 2025 10:31:48 AM (Elapsed Time: 0.22 seconds)<br></div><div id = 'default' /></div></div>"
      ],
      "text/plain": [
       "<Result 'C:\\\\Users\\\\gcowan\\\\Documents\\\\ArcGIS\\\\Projects\\\\Distribution Analysis\\\\Data Restructure\\\\Funding_Distribution_AR25\\\\Funding_Distribution_AR25.gdb\\\\Funding_Dist_AR25'>"
      ]
     },
     "execution_count": 45,
     "metadata": {},
     "output_type": "execute_result"
    }
   ],
   "source": [
    "# Rename fields\n",
    "arcpy.AlterField_management(Funding_Dist, \"PP_boundary_Designatio\", new_field_name=\"Designation\")\n",
    "arcpy.AlterField_management(Funding_Dist, \"PP_boundary_Name\", new_field_name=\"Tribal_Name\")\n",
    "arcpy.AlterField_management(Funding_Dist, \"PP_boundary_Geography\", new_field_name=\"Geography\")\n",
    "arcpy.AlterField_management(Funding_Dist, \"PP_boundary_Tract\", new_field_name=\"Census_Tract\")\n"
   ]
  },
  {
   "cell_type": "markdown",
   "metadata": {},
   "source": [
    "## Create 'Wide' Data Layer"
   ]
  },
  {
   "cell_type": "markdown",
   "metadata": {},
   "source": [
    "### Calculate fields for 'wide' layer\n"
   ]
  },
  {
   "cell_type": "markdown",
   "metadata": {},
   "source": [
    "#### Percent BIPOC"
   ]
  },
  {
   "cell_type": "code",
   "execution_count": 46,
   "metadata": {},
   "outputs": [
    {
     "name": "stdout",
     "output_type": "stream",
     "text": [
      "Field 'PctBIPOC' has been calculated with NULLs for invalid values.\n"
     ]
    }
   ],
   "source": [
    "# Percent BIPOC (PctBIPOC)\n",
    "\n",
    "BIPOC_fields = [\"Hispanic\", \"African_American\", \"Native_American\", \"Other_Multiple\", \"Asian_American\", \"Pacific_Islander\"]\n",
    "new_field = \"PctBIPOC\"\n",
    "\n",
    "# Add the new field\n",
    "if new_field not in [f.name for f in arcpy.ListFields(Funding_Dist)]:\n",
    "    arcpy.AddField_management(Funding_Dist, new_field, \"DOUBLE\")\n",
    "\n",
    "# Use an UpdateCursor to calculate the sum of BIPOC percentages\n",
    "with arcpy.da.UpdateCursor(Funding_Dist, BIPOC_fields + [new_field]) as cursor:\n",
    "    for row in cursor:\n",
    "        # Check for invalid values (None, -999, -1998) \n",
    "        if any(value in (None, -999, -1998) for value in row[:-1]):\n",
    "            row[-1] = None  # Assign NULL if invalid values are present\n",
    "        else:\n",
    "            # Sum the values and cap at 100 if no invalid values\n",
    "            total = sum(value for value in row[:-1])\n",
    "            row[-1] = min(total, 100)\n",
    "        cursor.updateRow(row)\n",
    "\n",
    "print(f\"Field '{new_field}' has been calculated with NULLs for invalid values.\")\n"
   ]
  },
  {
   "cell_type": "markdown",
   "metadata": {},
   "source": [
    "#### BIPOC Majority"
   ]
  },
  {
   "cell_type": "code",
   "execution_count": 47,
   "metadata": {},
   "outputs": [
    {
     "name": "stdout",
     "output_type": "stream",
     "text": [
      "Field 'BIPOCMaj' has been populated with NULL added for missing demographic information.\n"
     ]
    }
   ],
   "source": [
    "# Areas with BIOPOC Majority (BIPOCMaj)\n",
    "\n",
    "classification_field = \"PctBIPOC\"\n",
    "new_field = \"BIPOCMaj\"\n",
    "\n",
    "# Add the new field\n",
    "if new_field not in [f.name for f in arcpy.ListFields(Funding_Dist)]:\n",
    "    arcpy.AddField_management(Funding_Dist, new_field, \"TEXT\", field_length=10)\n",
    "\n",
    "# Use an UpdateCursor to classify the rows\n",
    "with arcpy.da.UpdateCursor(Funding_Dist, [classification_field, new_field]) as cursor:\n",
    "    for row in cursor:\n",
    "        if row[0] == 0 or row[0] is None:  # Set to NULL if PctBIPOC is 0 or null\n",
    "            row[1] = None\n",
    "        else:\n",
    "            row[1] = \"BIPOC\" if row[0] > 0 else \"White\"\n",
    "        cursor.updateRow(row)\n",
    "\n",
    "print(f\"Field '{new_field}' has been populated with NULL added for missing demographic information.\")"
   ]
  },
  {
   "cell_type": "markdown",
   "metadata": {},
   "source": [
    "#### Demographic Majority"
   ]
  },
  {
   "cell_type": "code",
   "execution_count": 48,
   "metadata": {},
   "outputs": [
    {
     "name": "stdout",
     "output_type": "stream",
     "text": [
      "Field 'DemogMaj' has been populated with added NULL for missing demographic information.\n"
     ]
    }
   ],
   "source": [
    "# Demographic Majoirty of Area (DemogMaj)\n",
    "\n",
    "fields_to_compare = [\"Hispanic\", \"African_American\", \"Native_American\", \"Other_Multiple\", \"Asian_American\", \"Pacific_Islander\", \"White\"]\n",
    "classification_field = \"DemogMaj\"\n",
    "\n",
    "# Add the classification field\n",
    "if classification_field not in [f.name for f in arcpy.ListFields(Funding_Dist)]:\n",
    "    arcpy.AddField_management(Funding_Dist, classification_field, \"TEXT\", field_length=50)\n",
    "\n",
    "# Use an UpdateCursor to classify based on the greatest value\n",
    "with arcpy.da.UpdateCursor(Funding_Dist, fields_to_compare + [classification_field]) as cursor:\n",
    "    for row in cursor:\n",
    "        # Create a dictionary of field names and their values\n",
    "        field_values = {field: value for field, value in zip(fields_to_compare, row[:-1]) if value is not None}\n",
    "        if field_values:  # Ensure there are non-null values\n",
    "            # Find the field with the greatest value\n",
    "            majority_field = max(field_values, key=field_values.get)\n",
    "            row[-1] = majority_field  # Set the classification to the field name\n",
    "        else:\n",
    "            row[-1] = None  # Set to None if all values are null\n",
    "        cursor.updateRow(row)\n",
    "\n",
    "print(f\"Field '{classification_field}' has been populated with added NULL for missing demographic information.\")"
   ]
  },
  {
   "cell_type": "markdown",
   "metadata": {},
   "source": [
    "#### Total GGRF funding"
   ]
  },
  {
   "cell_type": "code",
   "execution_count": 49,
   "metadata": {},
   "outputs": [
    {
     "name": "stdout",
     "output_type": "stream",
     "text": [
      "Matching fields: ['CT_NOPPGGRF_4', 'CT_NOPPGGRF_8', 'CT_NOPPGGRF_9', 'CT_NOPPGGRF_80', 'CT_NOPPGGRF_82', 'CT_NOPPGGRF_88', 'CT_NOPPGGRF_90', 'CT_NOPPGGRF_128', 'CT_NOPPGGRF_337', 'CT_NOPPGGRF_1136', 'CT_PPGGRF_4', 'CT_PPGGRF_8', 'CT_PPGGRF_9', 'CT_PPGGRF_80', 'CT_PPGGRF_82', 'CT_PPGGRF_88', 'CT_PPGGRF_90', 'CT_PPGGRF_128', 'CT_PPGGRF_189', 'CT_PPGGRF_329', 'CT_PPGGRF_337', 'CT_PPGGRF_837', 'Poly_NOPPGGRF_68', 'Poly_NOPPGGRF_78', 'Poly_NOPPGGRF_86', 'Poly_NOPPGGRF_251', 'Poly_NOPPGGRF_265', 'Poly_NOPPGGRF_345', 'Poly_NOPPGGRF_549', 'Poly_NOPPGGRF_695', 'Poly_PPGGRF_7', 'Poly_PPGGRF_68', 'Poly_PPGGRF_78', 'Poly_PPGGRF_251', 'Poly_PPGGRF_265', 'Poly_PPGGRF_695', 'Point_NOPPGGRF_1', 'Point_NOPPGGRF_2', 'Point_NOPPGGRF_3', 'Point_NOPPGGRF_5', 'Point_NOPPGGRF_11', 'Point_NOPPGGRF_14', 'Point_NOPPGGRF_41', 'Point_NOPPGGRF_45', 'Point_NOPPGGRF_68', 'Point_NOPPGGRF_72', 'Point_NOPPGGRF_76', 'Point_NOPPGGRF_78', 'Point_NOPPGGRF_86', 'Point_NOPPGGRF_124', 'Point_NOPPGGRF_132', 'Point_NOPPGGRF_134', 'Point_NOPPGGRF_136', 'Point_NOPPGGRF_138', 'Point_NOPPGGRF_142', 'Point_NOPPGGRF_148', 'Point_NOPPGGRF_191', 'Point_NOPPGGRF_193', 'Point_NOPPGGRF_235', 'Point_NOPPGGRF_237', 'Point_NOPPGGRF_239', 'Point_NOPPGGRF_243', 'Point_NOPPGGRF_245', 'Point_NOPPGGRF_247', 'Point_NOPPGGRF_249', 'Point_NOPPGGRF_251', 'Point_NOPPGGRF_253', 'Point_NOPPGGRF_255', 'Point_NOPPGGRF_257', 'Point_NOPPGGRF_259', 'Point_NOPPGGRF_261', 'Point_NOPPGGRF_263', 'Point_NOPPGGRF_265', 'Point_NOPPGGRF_331', 'Point_NOPPGGRF_333', 'Point_NOPPGGRF_335', 'Point_NOPPGGRF_339', 'Point_NOPPGGRF_341', 'Point_NOPPGGRF_345', 'Point_NOPPGGRF_471', 'Point_NOPPGGRF_475', 'Point_NOPPGGRF_477', 'Point_NOPPGGRF_479', 'Point_NOPPGGRF_547', 'Point_NOPPGGRF_549', 'Point_NOPPGGRF_613', 'Point_NOPPGGRF_615', 'Point_NOPPGGRF_617', 'Point_NOPPGGRF_619', 'Point_NOPPGGRF_621', 'Point_NOPPGGRF_690', 'Point_NOPPGGRF_765', 'Point_NOPPGGRF_839', 'Point_NOPPGGRF_981', 'Point_NOPPGGRF_1140', 'Point_NOPPGGRF_1144', 'Point_NOPPGGRF_1291', 'Point_NOPPGGRF_1309', 'Point_NOPPGGRF_1327', 'Point_NOPPGGRF_1399', 'Point_NOPPGGRF_1417', 'Point_NOPPGGRF_1435', 'Point_PPGGRF_1', 'Point_PPGGRF_3', 'Point_PPGGRF_5', 'Point_PPGGRF_7', 'Point_PPGGRF_10', 'Point_PPGGRF_11', 'Point_PPGGRF_14', 'Point_PPGGRF_41', 'Point_PPGGRF_45', 'Point_PPGGRF_68', 'Point_PPGGRF_76', 'Point_PPGGRF_78', 'Point_PPGGRF_86', 'Point_PPGGRF_120', 'Point_PPGGRF_124', 'Point_PPGGRF_130', 'Point_PPGGRF_132', 'Point_PPGGRF_134', 'Point_PPGGRF_136', 'Point_PPGGRF_138', 'Point_PPGGRF_142', 'Point_PPGGRF_148', 'Point_PPGGRF_191', 'Point_PPGGRF_193', 'Point_PPGGRF_235', 'Point_PPGGRF_237', 'Point_PPGGRF_239', 'Point_PPGGRF_245', 'Point_PPGGRF_247', 'Point_PPGGRF_251', 'Point_PPGGRF_253', 'Point_PPGGRF_257', 'Point_PPGGRF_259', 'Point_PPGGRF_261', 'Point_PPGGRF_263', 'Point_PPGGRF_265', 'Point_PPGGRF_267', 'Point_PPGGRF_269', 'Point_PPGGRF_271', 'Point_PPGGRF_333', 'Point_PPGGRF_335', 'Point_PPGGRF_339', 'Point_PPGGRF_341', 'Point_PPGGRF_345', 'Point_PPGGRF_471', 'Point_PPGGRF_475', 'Point_PPGGRF_479', 'Point_PPGGRF_547', 'Point_PPGGRF_549', 'Point_PPGGRF_613', 'Point_PPGGRF_619', 'Point_PPGGRF_621', 'Point_PPGGRF_690', 'Point_PPGGRF_695', 'Point_PPGGRF_765', 'Point_PPGGRF_1291', 'Point_PPGGRF_1309', 'Point_PPGGRF_1327', 'Point_PPGGRF_1417', 'Point_PPGGRF_1435', 'Line_NOPPGGRF_68', 'Line_NOPPGGRF_78', 'Line_NOPPGGRF_549', 'Line_PPGGRF_68', 'Line_PPGGRF_78']\n"
     ]
    }
   ],
   "source": [
    "# Get list of all program funding input fields\n",
    "\n",
    "fields = [f.name for f in arcpy.ListFields(Funding_Dist)]\n",
    "\n",
    "# Define keywords to search for\n",
    "keywords = [\"point_\", \"CT_\", \"Poly_\", \"Line_\"]\n",
    "\n",
    "# Use pandas to filter matching fields (case-insensitive)\n",
    "df = pd.Series(fields)\n",
    "matching_fields = df[df.str.contains('|'.join(keywords), case=False)].tolist()\n",
    "\n",
    "# Print results\n",
    "print(\"Matching fields:\", matching_fields)"
   ]
  },
  {
   "cell_type": "code",
   "execution_count": 50,
   "metadata": {},
   "outputs": [
    {
     "name": "stdout",
     "output_type": "stream",
     "text": [
      "Field 'GGRF' has been calculated.\n"
     ]
    }
   ],
   "source": [
    "# Total GGRF funding in area (GGRF) \n",
    "    # Update field list with output from above field\n",
    "GGRF_fields = ['CT_NOPPGGRF_4', 'CT_NOPPGGRF_8', 'CT_NOPPGGRF_9', 'CT_NOPPGGRF_80', 'CT_NOPPGGRF_82', 'CT_NOPPGGRF_88', \n",
    "               'CT_NOPPGGRF_90', 'CT_NOPPGGRF_128', 'CT_NOPPGGRF_337', 'CT_NOPPGGRF_1136', 'CT_PPGGRF_4', 'CT_PPGGRF_8', \n",
    "               'CT_PPGGRF_9', 'CT_PPGGRF_80', 'CT_PPGGRF_82', 'CT_PPGGRF_88', 'CT_PPGGRF_90', 'CT_PPGGRF_128', 'CT_PPGGRF_189', \n",
    "               'CT_PPGGRF_329', 'CT_PPGGRF_337', 'CT_PPGGRF_837', 'Poly_NOPPGGRF_68', 'Poly_NOPPGGRF_78', 'Poly_NOPPGGRF_86', \n",
    "               'Poly_NOPPGGRF_251', 'Poly_NOPPGGRF_265', 'Poly_NOPPGGRF_345', 'Poly_NOPPGGRF_549', 'Poly_NOPPGGRF_695', \n",
    "               'Poly_PPGGRF_7', 'Poly_PPGGRF_68', 'Poly_PPGGRF_78', 'Poly_PPGGRF_251', 'Poly_PPGGRF_265', 'Poly_PPGGRF_695',\n",
    "               'Point_NOPPGGRF_1', 'Point_NOPPGGRF_2', 'Point_NOPPGGRF_3', 'Point_NOPPGGRF_5', 'Point_NOPPGGRF_11', \n",
    "               'Point_NOPPGGRF_14', 'Point_NOPPGGRF_41', 'Point_NOPPGGRF_45', 'Point_NOPPGGRF_68', 'Point_NOPPGGRF_72', \n",
    "               'Point_NOPPGGRF_76', 'Point_NOPPGGRF_78', 'Point_NOPPGGRF_86', 'Point_NOPPGGRF_124', 'Point_NOPPGGRF_132',\n",
    "               'Point_NOPPGGRF_134', 'Point_NOPPGGRF_136', 'Point_NOPPGGRF_138', 'Point_NOPPGGRF_142', 'Point_NOPPGGRF_148', \n",
    "               'Point_NOPPGGRF_191', 'Point_NOPPGGRF_193', 'Point_NOPPGGRF_235', 'Point_NOPPGGRF_237', 'Point_NOPPGGRF_239', \n",
    "               'Point_NOPPGGRF_243', 'Point_NOPPGGRF_245', 'Point_NOPPGGRF_247', 'Point_NOPPGGRF_249', 'Point_NOPPGGRF_251', \n",
    "               'Point_NOPPGGRF_253', 'Point_NOPPGGRF_255', 'Point_NOPPGGRF_257', 'Point_NOPPGGRF_259', 'Point_NOPPGGRF_261', \n",
    "               'Point_NOPPGGRF_263', 'Point_NOPPGGRF_265', 'Point_NOPPGGRF_331', 'Point_NOPPGGRF_333', 'Point_NOPPGGRF_335', \n",
    "               'Point_NOPPGGRF_339', 'Point_NOPPGGRF_341', 'Point_NOPPGGRF_345', 'Point_NOPPGGRF_471', 'Point_NOPPGGRF_475', \n",
    "               'Point_NOPPGGRF_477', 'Point_NOPPGGRF_479', 'Point_NOPPGGRF_547', 'Point_NOPPGGRF_549', 'Point_NOPPGGRF_613',\n",
    "               'Point_NOPPGGRF_615', 'Point_NOPPGGRF_617', 'Point_NOPPGGRF_619', 'Point_NOPPGGRF_621', 'Point_NOPPGGRF_690',\n",
    "               'Point_NOPPGGRF_765', 'Point_NOPPGGRF_839', 'Point_NOPPGGRF_981', 'Point_NOPPGGRF_1140', 'Point_NOPPGGRF_1144',\n",
    "               'Point_NOPPGGRF_1291', 'Point_NOPPGGRF_1309', 'Point_NOPPGGRF_1327', 'Point_NOPPGGRF_1399', 'Point_NOPPGGRF_1417',\n",
    "               'Point_NOPPGGRF_1435', 'Point_PPGGRF_1', 'Point_PPGGRF_3', 'Point_PPGGRF_5', 'Point_PPGGRF_7', 'Point_PPGGRF_10', \n",
    "               'Point_PPGGRF_11', 'Point_PPGGRF_14', 'Point_PPGGRF_41', 'Point_PPGGRF_45', 'Point_PPGGRF_68', 'Point_PPGGRF_76',\n",
    "               'Point_PPGGRF_78', 'Point_PPGGRF_86', 'Point_PPGGRF_120', 'Point_PPGGRF_124', 'Point_PPGGRF_130', \n",
    "               'Point_PPGGRF_132', 'Point_PPGGRF_134', 'Point_PPGGRF_136', 'Point_PPGGRF_138', 'Point_PPGGRF_142', \n",
    "               'Point_PPGGRF_148', 'Point_PPGGRF_191', 'Point_PPGGRF_193', 'Point_PPGGRF_235', 'Point_PPGGRF_237', \n",
    "               'Point_PPGGRF_239', 'Point_PPGGRF_245', 'Point_PPGGRF_247', 'Point_PPGGRF_251', 'Point_PPGGRF_253', \n",
    "               'Point_PPGGRF_257', 'Point_PPGGRF_259', 'Point_PPGGRF_261', 'Point_PPGGRF_263', 'Point_PPGGRF_265', \n",
    "               'Point_PPGGRF_267', 'Point_PPGGRF_269', 'Point_PPGGRF_271', 'Point_PPGGRF_333', 'Point_PPGGRF_335', \n",
    "               'Point_PPGGRF_339', 'Point_PPGGRF_341', 'Point_PPGGRF_345', 'Point_PPGGRF_471', 'Point_PPGGRF_475', \n",
    "               'Point_PPGGRF_479', 'Point_PPGGRF_547', 'Point_PPGGRF_549', 'Point_PPGGRF_613', 'Point_PPGGRF_619', \n",
    "               'Point_PPGGRF_621', 'Point_PPGGRF_690', 'Point_PPGGRF_695', 'Point_PPGGRF_765', 'Point_PPGGRF_1291', \n",
    "               'Point_PPGGRF_1309', 'Point_PPGGRF_1327', 'Point_PPGGRF_1417', 'Point_PPGGRF_1435', 'Line_NOPPGGRF_68',\n",
    "               'Line_NOPPGGRF_78', 'Line_NOPPGGRF_549', 'Line_PPGGRF_68', 'Line_PPGGRF_78']\n",
    "\n",
    "new_field = \"GGRF\"\n",
    "\n",
    "# Add the new field \n",
    "if new_field not in [f.name for f in arcpy.ListFields(Funding_Dist)]:\n",
    "    arcpy.AddField_management(Funding_Dist, new_field, \"DOUBLE\")\n",
    "\n",
    "# Use an UpdateCursor to calculate the sum of the fields\n",
    "with arcpy.da.UpdateCursor(Funding_Dist, GGRF_fields + [new_field]) as cursor:\n",
    "    for row in cursor:\n",
    "        # Sum the values of the fields, treating None as 0\n",
    "        total = sum(value if value is not None else 0 for value in row[:-1])  \n",
    "        row[-1] = total  # Set the sum in the new field\n",
    "        cursor.updateRow(row)\n",
    "\n",
    "print(f\"Field '{new_field}' has been calculated.\")"
   ]
  },
  {
   "cell_type": "code",
   "execution_count": 51,
   "metadata": {},
   "outputs": [
    {
     "name": "stdout",
     "output_type": "stream",
     "text": [
      "The total sum of the field 'GGRF_sum' is: 12775208202.749277\n"
     ]
    }
   ],
   "source": [
    "# Check GGRF field total\n",
    "\n",
    "GGRF_sum = 0\n",
    "\n",
    "# Use a SearchCursor to iterate through the rows\n",
    "with arcpy.da.SearchCursor(Funding_Dist, ['GGRF']) as cursor:\n",
    "    for row in cursor:\n",
    "        # Add the value of the field to the total sum\n",
    "        GGRF_sum += row[0]\n",
    "\n",
    "# Print the result\n",
    "print(f\"The total sum of the field '{'GGRF_sum'}' is: {GGRF_sum}\")"
   ]
  },
  {
   "cell_type": "markdown",
   "metadata": {},
   "source": [
    "#### Percentile ranking of all areas based on GGRF funding"
   ]
  },
  {
   "cell_type": "code",
   "execution_count": 52,
   "metadata": {},
   "outputs": [
    {
     "name": "stdout",
     "output_type": "stream",
     "text": [
      "CCI Percentile values rounded to two decimal places have been calculated and stored in the field 'CCI_pct'.\n"
     ]
    }
   ],
   "source": [
    "# Percentile ranking of each area based on total GGRF funding within its respective geography (CCI_pct) \n",
    "\n",
    "input_field = \"GGRF\"\n",
    "percentile_field = \"CCI_pct\"\n",
    "\n",
    "# Add the new percentile field \n",
    "if percentile_field not in [f.name for f in arcpy.ListFields(Funding_Dist)]:\n",
    "    arcpy.AddField_management(Funding_Dist, percentile_field, \"DOUBLE\")\n",
    "\n",
    "# Step 1: Extract values from the source field\n",
    "values = []\n",
    "with arcpy.da.SearchCursor(Funding_Dist, [input_field]) as cursor:\n",
    "    for row in cursor:\n",
    "        if row[0] is not None:  # Exclude None values\n",
    "            values.append(row[0])\n",
    "\n",
    "# Step 2: Calculate percentiles as decimals\n",
    "values = sorted(values)  # Sort values for percentile calculation\n",
    "percentile_ranks = {value: i / (len(values) - 1) for i, value in enumerate(values)} \n",
    "\n",
    "# Step 3: Update the percentile field\n",
    "with arcpy.da.UpdateCursor(Funding_Dist, [input_field, percentile_field]) as cursor:\n",
    "    for row in cursor:\n",
    "        if row[0] is not None:  # Check for valid values\n",
    "            # Assign the rounded decimal percentile rank to the new field\n",
    "            row[1] = round(percentile_ranks[row[0]], 2)\n",
    "        else:\n",
    "            row[1] = None  # Assign NULL for invalid values\n",
    "        cursor.updateRow(row)\n",
    "\n",
    "print(f\"CCI Percentile values rounded to two decimal places have been calculated and stored in the field '{percentile_field}'.\")\n"
   ]
  },
  {
   "cell_type": "markdown",
   "metadata": {},
   "source": [
    "#### Decile ranking of all areas based on GGRF funding"
   ]
  },
  {
   "cell_type": "code",
   "execution_count": 53,
   "metadata": {},
   "outputs": [
    {
     "name": "stdout",
     "output_type": "stream",
     "text": [
      "CCI deciles have been calculated and stored in the field 'CCIdecile'.\n"
     ]
    }
   ],
   "source": [
    "# Decile ranking of each area based on total GGRF funding within its respective geography (CCIdecile)\n",
    "\n",
    "input_field = \"GGRF\"\n",
    "category_field = \"CCIdecile\" \n",
    "\n",
    "# Add the new category field \n",
    "if category_field not in [f.name for f in arcpy.ListFields(Funding_Dist)]:\n",
    "    arcpy.AddField_management(Funding_Dist, category_field, \"TEXT\", field_length=50) \n",
    "\n",
    "# Step 1: Extract values from the source field\n",
    "values = []\n",
    "with arcpy.da.SearchCursor(Funding_Dist, [input_field]) as cursor:\n",
    "    for row in cursor:\n",
    "        if row[0] is not None:  # Exclude None values\n",
    "            values.append(row[0])\n",
    "\n",
    "# Step 2: Sort values and define categories\n",
    "values = sorted(values)  # Sort values for decile calculation\n",
    "categories = [\n",
    "    \"Lowest 10 Percentiles\",\n",
    "    \">10th-20th Percentile\",\n",
    "    \">20th-30th Percentile\",\n",
    "    \">30th-40th Percentile\",\n",
    "    \">40th-50th Percentile\",\n",
    "    \">50th-60th Percentile\",\n",
    "    \">60th-70th Percentile\",\n",
    "    \">70th-80th Percentile\",\n",
    "    \">80th-90th Percentile\",\n",
    "    \"Highest 10 Percentiles\"\n",
    "]\n",
    "category_mapping = {value: categories[int(i / (len(values) / 10))] for i, value in enumerate(values)}\n",
    "\n",
    "# Step 3: Update the category field\n",
    "with arcpy.da.UpdateCursor(Funding_Dist, [input_field, category_field]) as cursor:\n",
    "    for row in cursor:\n",
    "        if row[0] is not None:  # Check for valid values\n",
    "            # Assign the category label to the new field\n",
    "            row[1] = category_mapping[row[0]]\n",
    "        else:\n",
    "            row[1] = None  # Assign NULL for invalid values\n",
    "        cursor.updateRow(row)\n",
    "\n",
    "print(f\"CCI deciles have been calculated and stored in the field '{category_field}'.\")\n"
   ]
  },
  {
   "cell_type": "markdown",
   "metadata": {},
   "source": [
    "#### Quartile ranking of all areas based on GGRF funding"
   ]
  },
  {
   "cell_type": "code",
   "execution_count": 54,
   "metadata": {},
   "outputs": [
    {
     "name": "stdout",
     "output_type": "stream",
     "text": [
      "CCI quartile categories have been calculated and stored in the field 'CCIquartile'.\n"
     ]
    }
   ],
   "source": [
    "# Quartile ranking of each area based on total GGRF funding within its respective geography (CCIquartile) \n",
    "\n",
    "input_field = \"GGRF\"\n",
    "category_field = \"CCIquartile\" \n",
    "\n",
    "# Add the new category field \n",
    "if category_field not in [f.name for f in arcpy.ListFields(Funding_Dist)]:\n",
    "    arcpy.AddField_management(Funding_Dist, category_field, \"TEXT\", field_length=50) \n",
    "\n",
    "# Step 1: Extract values from the source field\n",
    "values = []\n",
    "with arcpy.da.SearchCursor(Funding_Dist, [input_field]) as cursor:\n",
    "    for row in cursor:\n",
    "        if row[0] is not None:  # Exclude None values\n",
    "            values.append(row[0])\n",
    "\n",
    "# Step 2: Sort values and define categories\n",
    "values = sorted(values)  # Sort values for quartile calculation\n",
    "categories = [\n",
    "    \"<25th Percentile\",       # 0% to 25%\n",
    "    \">25th-50th Percentile\",   # 25% to 50%\n",
    "    \">50th-75th Percentile\",   # 50% to 75%\n",
    "    \">75th Percentile\"       # 75% to 100%\n",
    "]\n",
    "quartile_mapping = {value: categories[int(i / (len(values) / 4))] for i, value in enumerate(values)}\n",
    "\n",
    "# Step 3: Update the category field\n",
    "with arcpy.da.UpdateCursor(Funding_Dist, [input_field, category_field]) as cursor:\n",
    "    for row in cursor:\n",
    "        if row[0] is not None:  # Check for valid values\n",
    "            # Assign the quartile label to the new field\n",
    "            row[1] = quartile_mapping[row[0]]\n",
    "        else:\n",
    "            row[1] = None  # Assign NULL for invalid values\n",
    "        cursor.updateRow(row)\n",
    "\n",
    "print(f\"CCI quartile categories have been calculated and stored in the field '{category_field}'.\")\n"
   ]
  },
  {
   "cell_type": "markdown",
   "metadata": {},
   "source": [
    "#### GGRF funding per capita"
   ]
  },
  {
   "cell_type": "code",
   "execution_count": 55,
   "metadata": {},
   "outputs": [
    {
     "name": "stdout",
     "output_type": "stream",
     "text": [
      "Per capita funding values have been calculated and stored in the field 'CCIpc'.\n"
     ]
    }
   ],
   "source": [
    "# GGRF funding per capita for each area (CCIpc)\n",
    "\n",
    "input_field = \"GGRF\"\n",
    "population_field = \"Population\"\n",
    "per_capita_field = \"CCIpc\"\n",
    "\n",
    "# Add the new per capita field \n",
    "if per_capita_field not in [f.name for f in arcpy.ListFields(Funding_Dist)]:\n",
    "    arcpy.AddField_management(Funding_Dist, per_capita_field, \"DOUBLE\") \n",
    "\n",
    "# Calculate per capita funding\n",
    "with arcpy.da.UpdateCursor(Funding_Dist, [input_field, population_field, per_capita_field]) as cursor:\n",
    "    for row in cursor:\n",
    "        funding = row[0]\n",
    "        population = row[1]\n",
    "\n",
    "        # Check if population is valid and non-zero\n",
    "        if population and population > 0:\n",
    "            row[2] = funding / population  # Calculate per capita funding\n",
    "        else:\n",
    "            row[2] = None  # Assign NULL if population is 0 or None\n",
    "\n",
    "        cursor.updateRow(row)\n",
    "\n",
    "print(f\"Per capita funding values have been calculated and stored in the field '{per_capita_field}'.\")\n"
   ]
  },
  {
   "cell_type": "markdown",
   "metadata": {},
   "source": [
    "#### Percentile ranking of areas based on per capita funding"
   ]
  },
  {
   "cell_type": "code",
   "execution_count": 56,
   "metadata": {},
   "outputs": [
    {
     "name": "stdout",
     "output_type": "stream",
     "text": [
      "CCIpc Percentile values rounded to two decimal places have been calculated and stored in the field 'CCIpcPct'.\n"
     ]
    }
   ],
   "source": [
    "# GGRF funding per capita percentile ranking (CCIpcPct)\n",
    "\n",
    "input_field = \"CCIpc\"\n",
    "percentile_field = \"CCIpcPct\"\n",
    "\n",
    "# Add the new percentile field\n",
    "if percentile_field not in [f.name for f in arcpy.ListFields(Funding_Dist)]:\n",
    "    arcpy.AddField_management(Funding_Dist, percentile_field, \"DOUBLE\")\n",
    "\n",
    "# Step 1: Extract values from the source field (ignoring None values)\n",
    "values = []\n",
    "with arcpy.da.SearchCursor(Funding_Dist, [input_field]) as cursor:\n",
    "    for row in cursor:\n",
    "        if row[0] is not None:  # Exclude None values\n",
    "            values.append(row[0])\n",
    "\n",
    "# Ensure we have at least one valid value\n",
    "if len(values) > 0:\n",
    "    # Step 2: Calculate percentiles as decimals\n",
    "    values = sorted(values)  # Sort values for percentile calculation\n",
    "    percentile_ranks = {value: i / (len(values) - 1) for i, value in enumerate(values)}  # Decimal percentile rank\n",
    "\n",
    "    # Step 3: Update the percentile field\n",
    "    with arcpy.da.UpdateCursor(Funding_Dist, [input_field, percentile_field]) as cursor:\n",
    "        for row in cursor:\n",
    "            if row[0] is not None:  # Check for valid values in CCIpc\n",
    "                # Assign the percentile rank as a decimal, rounded to two decimal places\n",
    "                row[1] = round(percentile_ranks[row[0]], 2)\n",
    "            else:\n",
    "                row[1] = None  # Assign NULL for invalid values (None in CCIpc)\n",
    "            cursor.updateRow(row)\n",
    "\n",
    "    print(f\"CCIpc Percentile values rounded to two decimal places have been calculated and stored in the field '{percentile_field}'.\")\n",
    "else:\n",
    "    print(\"No valid values found in the input field.\")\n"
   ]
  },
  {
   "cell_type": "markdown",
   "metadata": {},
   "source": [
    "#### Decile ranking of areas based on per capita funding"
   ]
  },
  {
   "cell_type": "code",
   "execution_count": 57,
   "metadata": {},
   "outputs": [
    {
     "name": "stdout",
     "output_type": "stream",
     "text": [
      "CCI categories have been calculated and stored in the field 'CCIpcDecile'.\n"
     ]
    }
   ],
   "source": [
    "# GGRF funding per capita decile ranking (CCIpcDecile)\n",
    "\n",
    "input_field = \"CCIpc\"\n",
    "category_field = \"CCIpcDecile\" \n",
    "\n",
    "# Add the new category field\n",
    "if category_field not in [f.name for f in arcpy.ListFields(Funding_Dist)]:\n",
    "    arcpy.AddField_management(Funding_Dist, category_field, \"TEXT\", field_length=50)\n",
    "\n",
    "# Step 1: Extract values from the source field\n",
    "values = []\n",
    "with arcpy.da.SearchCursor(Funding_Dist, [input_field]) as cursor:\n",
    "    for row in cursor:\n",
    "        if row[0] is not None:  # Exclude None values\n",
    "            values.append(row[0])\n",
    "\n",
    "# Step 2: Sort values and define categories\n",
    "values = sorted(values)  # Sort values for decile calculation\n",
    "categories = [\n",
    "    \"Lowest 10 Percentiles\",\n",
    "    \">10th-20th Percentile\",\n",
    "    \">20th-30th Percentile\",\n",
    "    \">30th-40th Percentile\",\n",
    "    \">40th-50th Percentile\",\n",
    "    \">50th-60th Percentile\",\n",
    "    \">60th-70th Percentile\",\n",
    "    \">70th-80th Percentile\",\n",
    "    \">80th-90th Percentile\",\n",
    "    \"Highest 10 Percentiles\"\n",
    "]\n",
    "\n",
    "# Calculate deciles and map to categories\n",
    "category_mapping = {value: categories[int(i / (len(values) / 10))] for i, value in enumerate(values)}\n",
    "\n",
    "# Step 3: Update the category field\n",
    "with arcpy.da.UpdateCursor(Funding_Dist, [input_field, category_field]) as cursor:\n",
    "    for row in cursor:\n",
    "        if row[0] is not None:  # Check for valid values in CCIpc\n",
    "            # Assign the appropriate category label\n",
    "            row[1] = category_mapping[row[0]]\n",
    "        else:\n",
    "            row[1] = None  # Assign NULL if CCIpc is None\n",
    "        cursor.updateRow(row)\n",
    "\n",
    "print(f\"CCI categories have been calculated and stored in the field '{category_field}'.\")\n"
   ]
  },
  {
   "cell_type": "markdown",
   "metadata": {},
   "source": [
    "#### Quartile ranking of areas based on per capita funding"
   ]
  },
  {
   "cell_type": "code",
   "execution_count": 58,
   "metadata": {},
   "outputs": [
    {
     "name": "stdout",
     "output_type": "stream",
     "text": [
      "CCI quartile categories have been calculated and stored in the field 'CCIpcQuartile'.\n"
     ]
    }
   ],
   "source": [
    "# GGRF funding per capita quartile ranking (CCIpcQuartile)\n",
    "\n",
    "input_field = \"CCIpc\"\n",
    "category_field = \"CCIpcQuartile\"  \n",
    "\n",
    "# Add the new category field if it doesn't exist\n",
    "if category_field not in [f.name for f in arcpy.ListFields(Funding_Dist)]:\n",
    "    arcpy.AddField_management(Funding_Dist, category_field, \"TEXT\", field_length=50) \n",
    "\n",
    "# Step 1: Extract values from the source field\n",
    "values = []\n",
    "with arcpy.da.SearchCursor(Funding_Dist, [input_field]) as cursor:\n",
    "    for row in cursor:\n",
    "        if row[0] is not None:  # Exclude None values\n",
    "            values.append(row[0])\n",
    "\n",
    "# Step 2: Sort values and define categories for quartiles\n",
    "values = sorted(values)  # Sort values for quartile calculation\n",
    "categories = [\n",
    "    \"<25th Percentile\",       # 0% to 25%\n",
    "    \">25th-50th Percentile\",   # 25% to 50%\n",
    "    \">50th-75th Percentile\",   # 50% to 75%\n",
    "    \">75th Percentile\"       # 75% to 100%\n",
    "]\n",
    "\n",
    "# Calculate quartiles and map to categories\n",
    "quartile_mapping = {value: categories[int(i / (len(values) / 4))] for i, value in enumerate(values)}\n",
    "\n",
    "# Step 3: Update the category field\n",
    "with arcpy.da.UpdateCursor(Funding_Dist, [input_field, category_field]) as cursor:\n",
    "    for row in cursor:\n",
    "        if row[0] is not None:  # Check for valid values in CCIpc\n",
    "            # Assign the appropriate quartile label\n",
    "            row[1] = quartile_mapping[row[0]]\n",
    "        else:\n",
    "            row[1] = None  # Assign NULL if CCIpc is None\n",
    "        cursor.updateRow(row)\n",
    "\n",
    "print(f\"CCI quartile categories have been calculated and stored in the field '{category_field}'.\")\n"
   ]
  },
  {
   "cell_type": "markdown",
   "metadata": {},
   "source": [
    "#### 5% ranges of CES score"
   ]
  },
  {
   "cell_type": "code",
   "execution_count": 59,
   "metadata": {},
   "outputs": [
    {
     "name": "stdout",
     "output_type": "stream",
     "text": [
      "5% range categories have been calculated and stored in the field 'CES4range'.\n"
     ]
    }
   ],
   "source": [
    "# Groups areas based on 5% increments based on CES 4.0 score (CES4range)\n",
    "\n",
    "input_field = \"CIscoreP\"\n",
    "range_field = \"CES4range\" \n",
    "\n",
    "# Add the new range field\n",
    "if range_field not in [f.name for f in arcpy.ListFields(Funding_Dist)]:\n",
    "    arcpy.AddField_management(Funding_Dist, range_field, \"TEXT\", field_length=50)\n",
    "\n",
    "# Step 1: Extract values from the source field\n",
    "values = []\n",
    "with arcpy.da.SearchCursor(Funding_Dist, [input_field]) as cursor:\n",
    "    for row in cursor:\n",
    "        if row[0] is not None:  # Exclude None values\n",
    "            values.append(row[0])\n",
    "\n",
    "# Step 2: Sort values and define 5% range categories\n",
    "values = sorted(values)  # Sort values\n",
    "categories = [f\"{i * 5}%-{(i + 1) * 5}%\" for i in range(20)]  # 5% ranges from 0% to 100%\n",
    "\n",
    "# Map values to 5% ranges\n",
    "range_mapping = {}\n",
    "bin_size = len(values) / 20  # Divide sorted values into 20 bins (5% each)\n",
    "for i, value in enumerate(values):\n",
    "    range_mapping[value] = categories[int(i // bin_size)]  # Assign range category\n",
    "\n",
    "# Step 3: Update the range field\n",
    "with arcpy.da.UpdateCursor(Funding_Dist, [input_field, range_field]) as cursor:\n",
    "    for row in cursor:\n",
    "        if row[0] is not None:  # Check for valid values in CIscoreP\n",
    "            # Assign the appropriate range label\n",
    "            row[1] = range_mapping[row[0]]\n",
    "        else:\n",
    "            row[1] = None  # Assign NULL if CIscoreP is None\n",
    "        cursor.updateRow(row)\n",
    "\n",
    "print(f\"5% range categories have been calculated and stored in the field '{range_field}'.\")\n"
   ]
  },
  {
   "cell_type": "markdown",
   "metadata": {},
   "source": [
    "#### 10% ranges based on CES score"
   ]
  },
  {
   "cell_type": "code",
   "execution_count": 60,
   "metadata": {},
   "outputs": [
    {
     "name": "stdout",
     "output_type": "stream",
     "text": [
      "10% range categories have been calculated and stored in the field 'CES4decile'.\n"
     ]
    }
   ],
   "source": [
    "# Groups areas based on 10% increments based on CES 4.0 score (CES4decile)\n",
    "\n",
    "input_field = \"CIscoreP\"\n",
    "decile_field = \"CES4decile\"  \n",
    "\n",
    "# Add the new decile field \n",
    "if decile_field not in [f.name for f in arcpy.ListFields(Funding_Dist)]:\n",
    "    arcpy.AddField_management(Funding_Dist, decile_field, \"TEXT\", field_length=50)  \n",
    "\n",
    "# Step 1: Extract values from the source field\n",
    "values = []\n",
    "with arcpy.da.SearchCursor(Funding_Dist, [input_field]) as cursor:\n",
    "    for row in cursor:\n",
    "        if row[0] is not None:  # Exclude None values\n",
    "            values.append(row[0])\n",
    "\n",
    "# Step 2: Sort values and define 10% range categories\n",
    "values = sorted(values)  # Sort values\n",
    "categories = [f\"{i * 10}%-{(i + 1) * 10}%\" for i in range(10)]  # 10% ranges from 0% to 100%\n",
    "\n",
    "# Map values to 10% ranges\n",
    "range_mapping = {}\n",
    "bin_size = len(values) / 10  # Divide sorted values into 10 bins (10% each)\n",
    "for i, value in enumerate(values):\n",
    "    range_mapping[value] = categories[int(i // bin_size)]  # Assign range category\n",
    "\n",
    "# Step 3: Update the decile field\n",
    "with arcpy.da.UpdateCursor(Funding_Dist, [input_field, decile_field]) as cursor:\n",
    "    for row in cursor:\n",
    "        if row[0] is not None:  # Check for valid values in CIscoreP\n",
    "            # Assign the appropriate decile label\n",
    "            row[1] = range_mapping[row[0]]\n",
    "        else:\n",
    "            row[1] = None  # Assign NULL if CIscoreP is None\n",
    "        cursor.updateRow(row)\n",
    "\n",
    "print(f\"10% range categories have been calculated and stored in the field '{decile_field}'.\")\n"
   ]
  },
  {
   "cell_type": "markdown",
   "metadata": {},
   "source": [
    "#### Simplified priority population designations"
   ]
  },
  {
   "cell_type": "code",
   "execution_count": 61,
   "metadata": {},
   "outputs": [
    {
     "name": "stdout",
     "output_type": "stream",
     "text": [
      "Simplified priority population categorization completed successfully.\n"
     ]
    }
   ],
   "source": [
    "# Simplified priority population designation based on the \"Designation\" field (PP_simple)\n",
    "\n",
    "input_field = \"Designation\"  \n",
    "output_field = \"PP_simple\" \n",
    "\n",
    "# Add the new field \n",
    "if output_field not in [field.name for field in arcpy.ListFields(Funding_Dist)]:\n",
    "    arcpy.AddField_management(Funding_Dist, output_field, \"TEXT\", field_length=100)\n",
    "\n",
    "# Define the aggregation logic as a dictionary\n",
    "category_mapping = {\n",
    "    \"DAC 1/2 mile neighbor: low-income community\": \"DAC 1/2 Mile Neighbor: Low-Income Community\",\n",
    "    \"Low-income community\": \"Low-Income Community\",\n",
    "    \"Disadvantaged community: CES\": \"Disadvantaged Community\",\n",
    "    \"Disadvantaged community: CES, Disadvantaged community: Tribal land, Low-income community\": \"Disadvantaged Community\",\n",
    "    \"Disadvantaged community: CES, Low-income community\": \"Disadvantaged Community\",\n",
    "    \"Disadvantaged community: Tribal land\": \"Disadvantaged Community\",\n",
    "    \"Disadvantaged community: Tribal land, Low-income community\": \"Disadvantaged Community\",\n",
    "    \"DAC 1/2 mile neighbor: low-income household eligible\": \"Not a Priority Population Area: Low-Income Households are Eligible\",\n",
    "    \"Low-income household eligible\": \"Not a Priority Population Area: Low-Income Households are Eligible\"\n",
    "}\n",
    "\n",
    "# Update the new field based on the input field's values\n",
    "with arcpy.da.UpdateCursor(Funding_Dist, [input_field, output_field]) as cursor:\n",
    "    for row in cursor:\n",
    "        input_value = row[0]  # Value from the input field\n",
    "        # Determine the category based on the mapping\n",
    "        category = category_mapping.get(input_value, \"Unknown\")  # Default to \"Unknown\" if no match\n",
    "        row[1] = category  # Set the category in the output field\n",
    "        cursor.updateRow(row)\n",
    "\n",
    "print(\"Simplified priority population categorization completed successfully.\")\n"
   ]
  },
  {
   "cell_type": "markdown",
   "metadata": {},
   "source": [
    "### Create program sum fields"
   ]
  },
  {
   "cell_type": "code",
   "execution_count": 62,
   "metadata": {},
   "outputs": [
    {
     "name": "stdout",
     "output_type": "stream",
     "text": [
      "{\n",
      "    \"1\": [\"Point_NOPPGGRF_1\", \"Point_PPGGRF_1\"],\n",
      "    \"2\": [\"Point_NOPPGGRF_2\"],\n",
      "    \"3\": [\"Point_NOPPGGRF_3\", \"Point_PPGGRF_3\"],\n",
      "    \"4\": [\"CT_NOPPGGRF_4\", \"CT_PPGGRF_4\"],\n",
      "    \"5\": [\"Point_NOPPGGRF_5\", \"Point_PPGGRF_5\"],\n",
      "    \"7\": [\"Poly_PPGGRF_7\", \"Point_PPGGRF_7\"],\n",
      "    \"8\": [\"CT_NOPPGGRF_8\", \"CT_PPGGRF_8\"],\n",
      "    \"9\": [\"CT_NOPPGGRF_9\", \"CT_PPGGRF_9\"],\n",
      "    \"10\": [\"Point_PPGGRF_10\"],\n",
      "    \"11\": [\"Point_NOPPGGRF_11\", \"Point_PPGGRF_11\"],\n",
      "    \"14\": [\"Point_NOPPGGRF_14\", \"Point_PPGGRF_14\"],\n",
      "    \"41\": [\"Point_NOPPGGRF_41\", \"Point_PPGGRF_41\"],\n",
      "    \"45\": [\"Point_NOPPGGRF_45\", \"Point_PPGGRF_45\"],\n",
      "    \"68\": [\"Poly_NOPPGGRF_68\", \"Poly_PPGGRF_68\", \"Point_NOPPGGRF_68\", \"Point_PPGGRF_68\", \"Line_NOPPGGRF_68\", \"Line_PPGGRF_68\"],\n",
      "    \"72\": [\"Point_NOPPGGRF_72\"],\n",
      "    \"76\": [\"Point_NOPPGGRF_76\", \"Point_PPGGRF_76\"],\n",
      "    \"78\": [\"Poly_NOPPGGRF_78\", \"Poly_PPGGRF_78\", \"Point_NOPPGGRF_78\", \"Point_PPGGRF_78\", \"Line_NOPPGGRF_78\", \"Line_PPGGRF_78\"],\n",
      "    \"80\": [\"CT_NOPPGGRF_80\", \"CT_PPGGRF_80\"],\n",
      "    \"82\": [\"CT_NOPPGGRF_82\", \"CT_PPGGRF_82\"],\n",
      "    \"86\": [\"Poly_NOPPGGRF_86\", \"Point_NOPPGGRF_86\", \"Point_PPGGRF_86\"],\n",
      "    \"88\": [\"CT_NOPPGGRF_88\", \"CT_PPGGRF_88\"],\n",
      "    \"90\": [\"CT_NOPPGGRF_90\", \"CT_PPGGRF_90\"],\n",
      "    \"120\": [\"Point_PPGGRF_120\"],\n",
      "    \"124\": [\"Point_NOPPGGRF_124\", \"Point_PPGGRF_124\"],\n",
      "    \"128\": [\"CT_NOPPGGRF_128\", \"CT_PPGGRF_128\"],\n",
      "    \"130\": [\"Point_PPGGRF_130\"],\n",
      "    \"132\": [\"Point_NOPPGGRF_132\", \"Point_PPGGRF_132\"],\n",
      "    \"134\": [\"Point_NOPPGGRF_134\", \"Point_PPGGRF_134\"],\n",
      "    \"136\": [\"Point_NOPPGGRF_136\", \"Point_PPGGRF_136\"],\n",
      "    \"138\": [\"Point_NOPPGGRF_138\", \"Point_PPGGRF_138\"],\n",
      "    \"142\": [\"Point_NOPPGGRF_142\", \"Point_PPGGRF_142\"],\n",
      "    \"148\": [\"Point_NOPPGGRF_148\", \"Point_PPGGRF_148\"],\n",
      "    \"189\": [\"CT_PPGGRF_189\"],\n",
      "    \"191\": [\"Point_NOPPGGRF_191\", \"Point_PPGGRF_191\"],\n",
      "    \"193\": [\"Point_NOPPGGRF_193\", \"Point_PPGGRF_193\"],\n",
      "    \"235\": [\"Point_NOPPGGRF_235\", \"Point_PPGGRF_235\"],\n",
      "    \"237\": [\"Point_NOPPGGRF_237\", \"Point_PPGGRF_237\"],\n",
      "    \"239\": [\"Point_NOPPGGRF_239\", \"Point_PPGGRF_239\"],\n",
      "    \"243\": [\"Point_NOPPGGRF_243\"],\n",
      "    \"245\": [\"Point_NOPPGGRF_245\", \"Point_PPGGRF_245\"],\n",
      "    \"247\": [\"Point_NOPPGGRF_247\", \"Point_PPGGRF_247\"],\n",
      "    \"249\": [\"Point_NOPPGGRF_249\"],\n",
      "    \"251\": [\"Poly_NOPPGGRF_251\", \"Poly_PPGGRF_251\", \"Point_NOPPGGRF_251\", \"Point_PPGGRF_251\"],\n",
      "    \"253\": [\"Point_NOPPGGRF_253\", \"Point_PPGGRF_253\"],\n",
      "    \"255\": [\"Point_NOPPGGRF_255\"],\n",
      "    \"257\": [\"Point_NOPPGGRF_257\", \"Point_PPGGRF_257\"],\n",
      "    \"259\": [\"Point_NOPPGGRF_259\", \"Point_PPGGRF_259\"],\n",
      "    \"261\": [\"Point_NOPPGGRF_261\", \"Point_PPGGRF_261\"],\n",
      "    \"263\": [\"Point_NOPPGGRF_263\", \"Point_PPGGRF_263\"],\n",
      "    \"265\": [\"Poly_NOPPGGRF_265\", \"Poly_PPGGRF_265\", \"Point_NOPPGGRF_265\", \"Point_PPGGRF_265\"],\n",
      "    \"267\": [\"Point_PPGGRF_267\"],\n",
      "    \"269\": [\"Point_PPGGRF_269\"],\n",
      "    \"271\": [\"Point_PPGGRF_271\"],\n",
      "    \"329\": [\"CT_PPGGRF_329\"],\n",
      "    \"331\": [\"Point_NOPPGGRF_331\"],\n",
      "    \"333\": [\"Point_NOPPGGRF_333\", \"Point_PPGGRF_333\"],\n",
      "    \"335\": [\"Point_NOPPGGRF_335\", \"Point_PPGGRF_335\"],\n",
      "    \"337\": [\"CT_NOPPGGRF_337\", \"CT_PPGGRF_337\"],\n",
      "    \"339\": [\"Point_NOPPGGRF_339\", \"Point_PPGGRF_339\"],\n",
      "    \"341\": [\"Point_NOPPGGRF_341\", \"Point_PPGGRF_341\"],\n",
      "    \"345\": [\"Poly_NOPPGGRF_345\", \"Point_NOPPGGRF_345\", \"Point_PPGGRF_345\"],\n",
      "    \"471\": [\"Point_NOPPGGRF_471\", \"Point_PPGGRF_471\"],\n",
      "    \"475\": [\"Point_NOPPGGRF_475\", \"Point_PPGGRF_475\"],\n",
      "    \"477\": [\"Point_NOPPGGRF_477\"],\n",
      "    \"479\": [\"Point_NOPPGGRF_479\", \"Point_PPGGRF_479\"],\n",
      "    \"547\": [\"Point_NOPPGGRF_547\", \"Point_PPGGRF_547\"],\n",
      "    \"549\": [\"Poly_NOPPGGRF_549\", \"Point_NOPPGGRF_549\", \"Point_PPGGRF_549\", \"Line_NOPPGGRF_549\"],\n",
      "    \"613\": [\"Point_NOPPGGRF_613\", \"Point_PPGGRF_613\"],\n",
      "    \"615\": [\"Point_NOPPGGRF_615\"],\n",
      "    \"617\": [\"Point_NOPPGGRF_617\"],\n",
      "    \"619\": [\"Point_NOPPGGRF_619\", \"Point_PPGGRF_619\"],\n",
      "    \"621\": [\"Point_NOPPGGRF_621\", \"Point_PPGGRF_621\"],\n",
      "    \"690\": [\"Point_NOPPGGRF_690\", \"Point_PPGGRF_690\"],\n",
      "    \"695\": [\"Poly_NOPPGGRF_695\", \"Poly_PPGGRF_695\", \"Point_PPGGRF_695\"],\n",
      "    \"765\": [\"Point_NOPPGGRF_765\", \"Point_PPGGRF_765\"],\n",
      "    \"837\": [\"CT_PPGGRF_837\"],\n",
      "    \"839\": [\"Point_NOPPGGRF_839\"],\n",
      "    \"981\": [\"Point_NOPPGGRF_981\"],\n",
      "    \"1136\": [\"CT_NOPPGGRF_1136\"],\n",
      "    \"1140\": [\"Point_NOPPGGRF_1140\"],\n",
      "    \"1144\": [\"Point_NOPPGGRF_1144\"],\n",
      "    \"1291\": [\"Point_NOPPGGRF_1291\", \"Point_PPGGRF_1291\"],\n",
      "    \"1309\": [\"Point_NOPPGGRF_1309\", \"Point_PPGGRF_1309\"],\n",
      "    \"1327\": [\"Point_NOPPGGRF_1327\", \"Point_PPGGRF_1327\"],\n",
      "    \"1399\": [\"Point_NOPPGGRF_1399\"],\n",
      "    \"1417\": [\"Point_NOPPGGRF_1417\", \"Point_PPGGRF_1417\"],\n",
      "    \"1435\": [\"Point_NOPPGGRF_1435\", \"Point_PPGGRF_1435\"],\n",
      "}\n"
     ]
    }
   ],
   "source": [
    "# generate and format a list of all funding columns\n",
    "\n",
    "# List all field names\n",
    "fields = [f.name for f in arcpy.ListFields(Funding_Dist)]\n",
    "\n",
    "# Define keywords to search for\n",
    "keywords = [\"point_\", \"CT_\", \"Poly_\", \"Line_\"]\n",
    "\n",
    "# Filter fields with matching keywords\n",
    "df = pd.Series(fields)\n",
    "matching_fields = df[df.str.contains('|'.join(keywords), case=False)].tolist()\n",
    "\n",
    "# Group fields by numeric suffix only\n",
    "grouped_dict = {}\n",
    "for field in matching_fields:\n",
    "    if \"_\" in field:\n",
    "        suffix2 = field.rsplit(\"_\", 1)[-1]\n",
    "        if suffix2.isdigit():  # Only include numeric suffixes\n",
    "            grouped_dict.setdefault(suffix2, []).append(field)\n",
    "\n",
    "# Print in desired format\n",
    "print(\"{\")\n",
    "for key in sorted(grouped_dict, key=lambda x: int(x)):\n",
    "    values = grouped_dict[key]\n",
    "    formatted_values = \", \".join(f'\"{v}\"' for v in values)\n",
    "    print(f'    \"{key}\": [{formatted_values}],')\n",
    "print(\"}\")"
   ]
  },
  {
   "cell_type": "code",
   "execution_count": 63,
   "metadata": {},
   "outputs": [
    {
     "name": "stdout",
     "output_type": "stream",
     "text": [
      "Fields have been grouped and summed successfully.\n"
     ]
    }
   ],
   "source": [
    "# Create program specific funding columns \n",
    "    # paste the list from the above output into the field_groups section of the code \n",
    "    # combine the fields needed from subprogram names list\n",
    "\n",
    "Funding_Dist = f\"{project_gdb}\\\\Funding_Dist_{suffix}\"\n",
    "\n",
    "# Define groups based on suffixes\n",
    "field_groups = {\n",
    "    \"1\": [\"Point_NOPPGGRF_1\", \"Point_PPGGRF_1\"],\n",
    "    \"2\": [\"Point_NOPPGGRF_2\"],\n",
    "    \"3\": [\"Point_NOPPGGRF_3\", \"Point_PPGGRF_3\"],\n",
    "    \"4\": [\"CT_NOPPGGRF_4\", \"CT_PPGGRF_4\"],\n",
    "    \"5\": [\"Point_NOPPGGRF_5\", \"Point_PPGGRF_5\"],\n",
    "    \"7\": [\"Poly_PPGGRF_7\", \"Point_PPGGRF_7\"],\n",
    "    \"8\": [\"CT_NOPPGGRF_8\", \"CT_PPGGRF_8\"],\n",
    "    \"9\": [\"CT_NOPPGGRF_9\", \"CT_PPGGRF_9\"],\n",
    "    \"10\": [\"Point_PPGGRF_10\", \"Point_PPGGRF_269\", \"Point_PPGGRF_271\", \"Point_NOPPGGRF_547\", \"Point_PPGGRF_547\"],\n",
    "    \"11\": [\"Point_NOPPGGRF_11\", \"Point_PPGGRF_11\"],\n",
    "    \"14\": [\"Point_NOPPGGRF_14\", \"Point_PPGGRF_14\"],\n",
    "    \"41\": [\"Point_NOPPGGRF_41\", \"Point_PPGGRF_41\"],\n",
    "    \"45\": [\"Point_NOPPGGRF_45\", \"Point_PPGGRF_45\"],\n",
    "    \"68\": [\"Poly_NOPPGGRF_68\", \"Poly_PPGGRF_68\", \"Point_NOPPGGRF_68\", \"Point_PPGGRF_68\", \"Line_NOPPGGRF_68\", \"Line_PPGGRF_68\"],\n",
    "    \"72\": [\"Point_NOPPGGRF_72\"],\n",
    "    \"76\": [\"Point_NOPPGGRF_76\", \"Point_PPGGRF_76\"],\n",
    "    \"78\": [\"Poly_NOPPGGRF_78\", \"Poly_PPGGRF_78\", \"Point_NOPPGGRF_78\", \"Point_PPGGRF_78\", \"Line_NOPPGGRF_78\", \"Line_PPGGRF_78\"],\n",
    "    \"80\": [\"CT_NOPPGGRF_80\", \"CT_PPGGRF_80\"],\n",
    "    \"82\": [\"CT_NOPPGGRF_82\", \"CT_PPGGRF_82\"],\n",
    "    \"86\": [\"Poly_NOPPGGRF_86\", \"Point_NOPPGGRF_86\", \"Point_PPGGRF_86\"],\n",
    "    \"88\": [\"CT_NOPPGGRF_88\", \"CT_PPGGRF_88\"],\n",
    "    \"90\": [\"CT_NOPPGGRF_90\", \"CT_PPGGRF_90\"],\n",
    "    \"120\": [\"Point_PPGGRF_120\"],\n",
    "    \"124\": [\"Point_NOPPGGRF_124\", \"Point_PPGGRF_124\"],\n",
    "    \"128\": [\"CT_NOPPGGRF_128\", \"CT_PPGGRF_128\"],\n",
    "    \"130\": [\"Point_PPGGRF_130\"],\n",
    "    \"132\": [\"Point_NOPPGGRF_132\", \"Point_PPGGRF_132\"],\n",
    "    \"134\": [\"Point_NOPPGGRF_134\", \"Point_PPGGRF_134\"],\n",
    "    \"136\": [\"Point_NOPPGGRF_136\", \"Point_PPGGRF_136\"],\n",
    "    \"138\": [\"Point_NOPPGGRF_138\", \"Point_PPGGRF_138\"],\n",
    "    \"142\": [\"Point_NOPPGGRF_142\", \"Point_PPGGRF_142\", \"CT_PPGGRF_329\"],\n",
    "    \"148\": [\"Point_NOPPGGRF_148\", \"Point_PPGGRF_148\"],\n",
    "    \"189\": [\"CT_PPGGRF_189\"],\n",
    "    \"191\": [\"Point_NOPPGGRF_191\", \"Point_PPGGRF_191\"],\n",
    "    \"193\": [\"Point_NOPPGGRF_193\", \"Point_PPGGRF_193\"],\n",
    "    \"235\": [\"Point_NOPPGGRF_235\", \"Point_PPGGRF_235\"],\n",
    "    \"237\": [\"Point_NOPPGGRF_237\", \"Point_PPGGRF_237\"],\n",
    "    \"239\": [\"Point_NOPPGGRF_239\", \"Point_PPGGRF_239\"],\n",
    "    \"243\": [\"Point_NOPPGGRF_243\"],\n",
    "    \"245\": [\"Point_NOPPGGRF_245\", \"Point_PPGGRF_245\"],\n",
    "    \"247\": [\"Point_NOPPGGRF_247\", \"Point_PPGGRF_247\"],\n",
    "    \"249\": [\"Point_NOPPGGRF_249\"],\n",
    "    \"251\": [\"Poly_NOPPGGRF_251\", \"Poly_PPGGRF_251\", \"Point_NOPPGGRF_251\", \"Point_PPGGRF_251\"],\n",
    "    \"253\": [\"Point_NOPPGGRF_253\", \"Point_PPGGRF_253\"],\n",
    "    \"255\": [\"Point_NOPPGGRF_255\"],\n",
    "    \"257\": [\"Point_NOPPGGRF_257\", \"Point_PPGGRF_257\"],\n",
    "    \"259\": [\"Point_NOPPGGRF_259\", \"Point_PPGGRF_259\"],\n",
    "    \"261\": [\"Point_NOPPGGRF_261\", \"Point_PPGGRF_261\"],\n",
    "    \"263\": [\"Point_NOPPGGRF_263\", \"Point_PPGGRF_263\"],\n",
    "    \"265\": [\"Poly_NOPPGGRF_265\", \"Poly_PPGGRF_265\", \"Point_NOPPGGRF_265\", \"Point_PPGGRF_265\"],\n",
    "    \"267\": [\"Point_PPGGRF_267\"],\n",
    "    \"331\": [\"Point_NOPPGGRF_331\"],\n",
    "    \"333\": [\"Point_NOPPGGRF_333\", \"Point_PPGGRF_333\"],\n",
    "    \"335\": [\"Point_NOPPGGRF_335\", \"Point_PPGGRF_335\"],\n",
    "    \"337\": [\"CT_NOPPGGRF_337\", \"CT_PPGGRF_337\"],\n",
    "    \"339\": [\"Point_NOPPGGRF_339\", \"Point_PPGGRF_339\"],\n",
    "    \"341\": [\"Point_NOPPGGRF_341\", \"Point_PPGGRF_341\"],\n",
    "    \"345\": [\"Poly_NOPPGGRF_345\", \"Point_NOPPGGRF_345\", \"Point_PPGGRF_345\"],\n",
    "    \"471\": [\"Point_NOPPGGRF_471\", \"Point_PPGGRF_471\"],\n",
    "    \"475\": [\"Point_NOPPGGRF_475\", \"Point_PPGGRF_475\"],\n",
    "    \"477\": [\"Point_NOPPGGRF_477\"],\n",
    "    \"479\": [\"Point_NOPPGGRF_479\", \"Point_PPGGRF_479\"],\n",
    "    \"549\": [\"Poly_NOPPGGRF_549\", \"Point_NOPPGGRF_549\", \"Point_PPGGRF_549\", \"Line_NOPPGGRF_549\"],\n",
    "    \"613\": [\"Point_NOPPGGRF_613\", \"Point_PPGGRF_613\"],\n",
    "    \"615\": [\"Point_NOPPGGRF_615\"],\n",
    "    \"617\": [\"Point_NOPPGGRF_617\"],\n",
    "    \"619\": [\"Point_NOPPGGRF_619\", \"Point_PPGGRF_619\"],\n",
    "    \"621\": [\"Point_NOPPGGRF_621\", \"Point_PPGGRF_621\"],\n",
    "    \"690\": [\"Point_NOPPGGRF_690\", \"Point_PPGGRF_690\"],\n",
    "    \"695\": [\"Poly_NOPPGGRF_695\", \"Poly_PPGGRF_695\", \"Point_PPGGRF_695\"],\n",
    "    \"765\": [\"Point_NOPPGGRF_765\", \"Point_PPGGRF_765\"],\n",
    "    \"837\": [\"CT_PPGGRF_837\"],\n",
    "    \"839\": [\"Point_NOPPGGRF_839\"],\n",
    "    \"981\": [\"Point_NOPPGGRF_981\"],\n",
    "    \"1136\": [\"CT_NOPPGGRF_1136\"],\n",
    "    \"1140\": [\"Point_NOPPGGRF_1140\"],\n",
    "    \"1144\": [\"Point_NOPPGGRF_1144\"],\n",
    "    \"1291\": [\"Point_NOPPGGRF_1291\", \"Point_PPGGRF_1291\"],\n",
    "    \"1309\": [\"Point_NOPPGGRF_1309\", \"Point_PPGGRF_1309\"],\n",
    "    \"1327\": [\"Point_NOPPGGRF_1327\", \"Point_PPGGRF_1327\"],\n",
    "    \"1399\": [\"Point_NOPPGGRF_1399\"],\n",
    "    \"1417\": [\"Point_NOPPGGRF_1417\", \"Point_PPGGRF_1417\"],\n",
    "    \"1435\": [\"Point_NOPPGGRF_1435\", \"Point_PPGGRF_1435\"],\n",
    "}\n",
    "\n",
    "# Add a field for each group and calculate the sum of the grouped fields\n",
    "for group, fields in field_groups.items():\n",
    "    # Add a new field for the summed value of each group\n",
    "    new_field_name = f\"sum_group_{group}\"\n",
    "    arcpy.AddField_management(Funding_Dist, new_field_name, \"DOUBLE\")\n",
    "    \n",
    "    # Use an update cursor to calculate the sum for each record\n",
    "    with arcpy.da.UpdateCursor(Funding_Dist, fields + [new_field_name]) as cursor:\n",
    "        for row in cursor:\n",
    "            # Sum the values of the fields in the group\n",
    "            total_sum = sum([row[fields.index(field)] if row[fields.index(field)] is not None else 0 for field in fields])\n",
    "            row[-1] = total_sum  # Assign the sum to the new field\n",
    "            cursor.updateRow(row)\n",
    "\n",
    "print(\"Fields have been grouped and summed successfully.\")"
   ]
  },
  {
   "cell_type": "markdown",
   "metadata": {},
   "source": [
    "### Check totals prior to saving layer"
   ]
  },
  {
   "cell_type": "code",
   "execution_count": 74,
   "metadata": {},
   "outputs": [
    {
     "name": "stdout",
     "output_type": "stream",
     "text": [
      "Fields that start with 'sum_group_':\n",
      "['sum_group_1', 'sum_group_2', 'sum_group_3', 'sum_group_4', 'sum_group_5', 'sum_group_7', 'sum_group_8', 'sum_group_9', 'sum_group_10', 'sum_group_11', 'sum_group_14', 'sum_group_41', 'sum_group_45', 'sum_group_68', 'sum_group_72', 'sum_group_76', 'sum_group_78', 'sum_group_80', 'sum_group_82', 'sum_group_86', 'sum_group_88', 'sum_group_90', 'sum_group_120', 'sum_group_124', 'sum_group_128', 'sum_group_130', 'sum_group_132', 'sum_group_134', 'sum_group_136', 'sum_group_138', 'sum_group_142', 'sum_group_148', 'sum_group_189', 'sum_group_191', 'sum_group_193', 'sum_group_235', 'sum_group_237', 'sum_group_239', 'sum_group_243', 'sum_group_245', 'sum_group_247', 'sum_group_249', 'sum_group_251', 'sum_group_253', 'sum_group_255', 'sum_group_257', 'sum_group_259', 'sum_group_261', 'sum_group_263', 'sum_group_265', 'sum_group_267', 'sum_group_331', 'sum_group_333', 'sum_group_335', 'sum_group_337', 'sum_group_339', 'sum_group_341', 'sum_group_345', 'sum_group_471', 'sum_group_475', 'sum_group_477', 'sum_group_479', 'sum_group_549', 'sum_group_613', 'sum_group_615', 'sum_group_617', 'sum_group_619', 'sum_group_621', 'sum_group_690', 'sum_group_695', 'sum_group_765', 'sum_group_837', 'sum_group_839', 'sum_group_981', 'sum_group_1136', 'sum_group_1140', 'sum_group_1144', 'sum_group_1291', 'sum_group_1309', 'sum_group_1327', 'sum_group_1399', 'sum_group_1417', 'sum_group_1435']\n"
     ]
    }
   ],
   "source": [
    "# List all field names\n",
    "fields = [f.name for f in arcpy.ListFields(Funding_Dist)]\n",
    "\n",
    "# Filter fields that start with 'sum_group_'\n",
    "sum_group_fields = [field for field in fields if field.startswith(\"sum_group_\")]\n",
    "\n",
    "# Print the result\n",
    "print(\"Fields that start with 'sum_group_':\")\n",
    "print(sum_group_fields)"
   ]
  },
  {
   "cell_type": "code",
   "execution_count": 75,
   "metadata": {},
   "outputs": [
    {
     "name": "stdout",
     "output_type": "stream",
     "text": [
      "The total sum of all summed calculated program fields is: 12,775,208,203\n"
     ]
    }
   ],
   "source": [
    "# Check sum of all program funding from calculated fields\n",
    "    # Copy the list from above into the program_sum_fields list\n",
    "\n",
    "program_sum_fields = ['sum_group_1', 'sum_group_2', 'sum_group_3', 'sum_group_4', 'sum_group_5', 'sum_group_7', 'sum_group_8', 'sum_group_9', 'sum_group_10', \n",
    "                      'sum_group_11', 'sum_group_14', 'sum_group_41', 'sum_group_45', 'sum_group_68', 'sum_group_72', 'sum_group_76', 'sum_group_78', \n",
    "                      'sum_group_80', 'sum_group_82', 'sum_group_86', 'sum_group_88', 'sum_group_90', 'sum_group_120', 'sum_group_124', 'sum_group_128', \n",
    "                      'sum_group_130', 'sum_group_132', 'sum_group_134', 'sum_group_136', 'sum_group_138', 'sum_group_142', 'sum_group_148', 'sum_group_189', \n",
    "                      'sum_group_191', 'sum_group_193', 'sum_group_235', 'sum_group_237', 'sum_group_239', 'sum_group_243', 'sum_group_245', 'sum_group_247', \n",
    "                      'sum_group_249', 'sum_group_251', 'sum_group_253', 'sum_group_255', 'sum_group_257', 'sum_group_259', 'sum_group_261', 'sum_group_263', \n",
    "                      'sum_group_265', 'sum_group_267', 'sum_group_331', 'sum_group_333', 'sum_group_335', 'sum_group_337', 'sum_group_339', 'sum_group_341', \n",
    "                      'sum_group_345', 'sum_group_471', 'sum_group_475', 'sum_group_477', 'sum_group_479', 'sum_group_549', 'sum_group_613', 'sum_group_615', \n",
    "                      'sum_group_617', 'sum_group_619', 'sum_group_621', 'sum_group_690', 'sum_group_695', 'sum_group_765', 'sum_group_837', 'sum_group_839', \n",
    "                      'sum_group_981', 'sum_group_1136', 'sum_group_1140', 'sum_group_1144', 'sum_group_1291', 'sum_group_1309', 'sum_group_1327', \n",
    "                      'sum_group_1399', 'sum_group_1417', 'sum_group_1435']\n",
    "\n",
    "\n",
    "# Initialize a total variable for all fields\n",
    "total_sum = 0\n",
    "\n",
    "# Use a SearchCursor to iterate through the field values\n",
    "with arcpy.da.SearchCursor(Funding_Dist, program_sum_fields) as cursor:\n",
    "    for row in cursor:\n",
    "        for value in row:\n",
    "            if value is not None:  # Ensure the value is not NULL\n",
    "                total_sum += value\n",
    "\n",
    "# Round and print the result\n",
    "total_sum = round(total_sum)\n",
    "print(f\"The total sum of all summed calculated program fields is: {total_sum:,}\")"
   ]
  },
  {
   "cell_type": "code",
   "execution_count": 76,
   "metadata": {},
   "outputs": [
    {
     "name": "stdout",
     "output_type": "stream",
     "text": [
      "Matching fields: ['CT_NOPPGGRF_4', 'CT_NOPPGGRF_8', 'CT_NOPPGGRF_9', 'CT_NOPPGGRF_80', 'CT_NOPPGGRF_82', 'CT_NOPPGGRF_88', 'CT_NOPPGGRF_90', 'CT_NOPPGGRF_128', 'CT_NOPPGGRF_337', 'CT_NOPPGGRF_1136', 'CT_PPGGRF_4', 'CT_PPGGRF_8', 'CT_PPGGRF_9', 'CT_PPGGRF_80', 'CT_PPGGRF_82', 'CT_PPGGRF_88', 'CT_PPGGRF_90', 'CT_PPGGRF_128', 'CT_PPGGRF_189', 'CT_PPGGRF_329', 'CT_PPGGRF_337', 'CT_PPGGRF_837', 'Poly_NOPPGGRF_68', 'Poly_NOPPGGRF_78', 'Poly_NOPPGGRF_86', 'Poly_NOPPGGRF_251', 'Poly_NOPPGGRF_265', 'Poly_NOPPGGRF_345', 'Poly_NOPPGGRF_549', 'Poly_NOPPGGRF_695', 'Poly_PPGGRF_7', 'Poly_PPGGRF_68', 'Poly_PPGGRF_78', 'Poly_PPGGRF_251', 'Poly_PPGGRF_265', 'Poly_PPGGRF_695', 'Point_NOPPGGRF_1', 'Point_NOPPGGRF_2', 'Point_NOPPGGRF_3', 'Point_NOPPGGRF_5', 'Point_NOPPGGRF_11', 'Point_NOPPGGRF_14', 'Point_NOPPGGRF_41', 'Point_NOPPGGRF_45', 'Point_NOPPGGRF_68', 'Point_NOPPGGRF_72', 'Point_NOPPGGRF_76', 'Point_NOPPGGRF_78', 'Point_NOPPGGRF_86', 'Point_NOPPGGRF_124', 'Point_NOPPGGRF_132', 'Point_NOPPGGRF_134', 'Point_NOPPGGRF_136', 'Point_NOPPGGRF_138', 'Point_NOPPGGRF_142', 'Point_NOPPGGRF_148', 'Point_NOPPGGRF_191', 'Point_NOPPGGRF_193', 'Point_NOPPGGRF_235', 'Point_NOPPGGRF_237', 'Point_NOPPGGRF_239', 'Point_NOPPGGRF_243', 'Point_NOPPGGRF_245', 'Point_NOPPGGRF_247', 'Point_NOPPGGRF_249', 'Point_NOPPGGRF_251', 'Point_NOPPGGRF_253', 'Point_NOPPGGRF_255', 'Point_NOPPGGRF_257', 'Point_NOPPGGRF_259', 'Point_NOPPGGRF_261', 'Point_NOPPGGRF_263', 'Point_NOPPGGRF_265', 'Point_NOPPGGRF_331', 'Point_NOPPGGRF_333', 'Point_NOPPGGRF_335', 'Point_NOPPGGRF_339', 'Point_NOPPGGRF_341', 'Point_NOPPGGRF_345', 'Point_NOPPGGRF_471', 'Point_NOPPGGRF_475', 'Point_NOPPGGRF_477', 'Point_NOPPGGRF_479', 'Point_NOPPGGRF_547', 'Point_NOPPGGRF_549', 'Point_NOPPGGRF_613', 'Point_NOPPGGRF_615', 'Point_NOPPGGRF_617', 'Point_NOPPGGRF_619', 'Point_NOPPGGRF_621', 'Point_NOPPGGRF_690', 'Point_NOPPGGRF_765', 'Point_NOPPGGRF_839', 'Point_NOPPGGRF_981', 'Point_NOPPGGRF_1140', 'Point_NOPPGGRF_1144', 'Point_NOPPGGRF_1291', 'Point_NOPPGGRF_1309', 'Point_NOPPGGRF_1327', 'Point_NOPPGGRF_1399', 'Point_NOPPGGRF_1417', 'Point_NOPPGGRF_1435', 'Point_PPGGRF_1', 'Point_PPGGRF_3', 'Point_PPGGRF_5', 'Point_PPGGRF_7', 'Point_PPGGRF_10', 'Point_PPGGRF_11', 'Point_PPGGRF_14', 'Point_PPGGRF_41', 'Point_PPGGRF_45', 'Point_PPGGRF_68', 'Point_PPGGRF_76', 'Point_PPGGRF_78', 'Point_PPGGRF_86', 'Point_PPGGRF_120', 'Point_PPGGRF_124', 'Point_PPGGRF_130', 'Point_PPGGRF_132', 'Point_PPGGRF_134', 'Point_PPGGRF_136', 'Point_PPGGRF_138', 'Point_PPGGRF_142', 'Point_PPGGRF_148', 'Point_PPGGRF_191', 'Point_PPGGRF_193', 'Point_PPGGRF_235', 'Point_PPGGRF_237', 'Point_PPGGRF_239', 'Point_PPGGRF_245', 'Point_PPGGRF_247', 'Point_PPGGRF_251', 'Point_PPGGRF_253', 'Point_PPGGRF_257', 'Point_PPGGRF_259', 'Point_PPGGRF_261', 'Point_PPGGRF_263', 'Point_PPGGRF_265', 'Point_PPGGRF_267', 'Point_PPGGRF_269', 'Point_PPGGRF_271', 'Point_PPGGRF_333', 'Point_PPGGRF_335', 'Point_PPGGRF_339', 'Point_PPGGRF_341', 'Point_PPGGRF_345', 'Point_PPGGRF_471', 'Point_PPGGRF_475', 'Point_PPGGRF_479', 'Point_PPGGRF_547', 'Point_PPGGRF_549', 'Point_PPGGRF_613', 'Point_PPGGRF_619', 'Point_PPGGRF_621', 'Point_PPGGRF_690', 'Point_PPGGRF_695', 'Point_PPGGRF_765', 'Point_PPGGRF_1291', 'Point_PPGGRF_1309', 'Point_PPGGRF_1327', 'Point_PPGGRF_1417', 'Point_PPGGRF_1435', 'Line_NOPPGGRF_68', 'Line_NOPPGGRF_78', 'Line_NOPPGGRF_549', 'Line_PPGGRF_68', 'Line_PPGGRF_78']\n"
     ]
    }
   ],
   "source": [
    "# Get list of all program funding input fields\n",
    "\n",
    "fields = [f.name for f in arcpy.ListFields(Funding_Dist)]\n",
    "\n",
    "# Define keywords to search for\n",
    "keywords = [\"point_\", \"CT_\", \"Poly_\", \"Line_\"]\n",
    "\n",
    "# Use pandas to filter matching fields (case-insensitive)\n",
    "df = pd.Series(fields)\n",
    "matching_fields = df[df.str.contains('|'.join(keywords), case=False)].tolist()\n",
    "\n",
    "# Print results\n",
    "print(\"Matching fields:\", matching_fields)"
   ]
  },
  {
   "cell_type": "code",
   "execution_count": 77,
   "metadata": {},
   "outputs": [
    {
     "name": "stdout",
     "output_type": "stream",
     "text": [
      "The total sum of all summed input program fields is: 12,775,208,203\n"
     ]
    }
   ],
   "source": [
    "# Check sum of all program funding from the input data fields (to check against the total from calculated fields above)\n",
    "    # Paste the list above into the \"fields\" variable below and remove the \"total\" fields\n",
    "    \n",
    "fields = ['CT_NOPPGGRF_4', 'CT_NOPPGGRF_8', 'CT_NOPPGGRF_9', 'CT_NOPPGGRF_80', 'CT_NOPPGGRF_82', 'CT_NOPPGGRF_88', 'CT_NOPPGGRF_90', 'CT_NOPPGGRF_128', \n",
    "          'CT_NOPPGGRF_337', 'CT_NOPPGGRF_1136', 'CT_PPGGRF_4', 'CT_PPGGRF_8', 'CT_PPGGRF_9', 'CT_PPGGRF_80', 'CT_PPGGRF_82', 'CT_PPGGRF_88', 'CT_PPGGRF_90', \n",
    "          'CT_PPGGRF_128', 'CT_PPGGRF_189', 'CT_PPGGRF_329', 'CT_PPGGRF_337', 'CT_PPGGRF_837', \n",
    "          'Poly_NOPPGGRF_68', 'Poly_NOPPGGRF_78', 'Poly_NOPPGGRF_86', 'Poly_NOPPGGRF_251', 'Poly_NOPPGGRF_265', 'Poly_NOPPGGRF_345', 'Poly_NOPPGGRF_549', \n",
    "          'Poly_NOPPGGRF_695', 'Poly_PPGGRF_7', 'Poly_PPGGRF_68', 'Poly_PPGGRF_78', 'Poly_PPGGRF_251', 'Poly_PPGGRF_265', 'Poly_PPGGRF_695', \n",
    "          'Point_NOPPGGRF_1', 'Point_NOPPGGRF_2', 'Point_NOPPGGRF_3', 'Point_NOPPGGRF_5', \n",
    "          'Point_NOPPGGRF_11', 'Point_NOPPGGRF_14', 'Point_NOPPGGRF_41', 'Point_NOPPGGRF_45', 'Point_NOPPGGRF_68', 'Point_NOPPGGRF_72', 'Point_NOPPGGRF_76', \n",
    "          'Point_NOPPGGRF_78', 'Point_NOPPGGRF_86', 'Point_NOPPGGRF_124', 'Point_NOPPGGRF_132', 'Point_NOPPGGRF_134', 'Point_NOPPGGRF_136', \n",
    "          'Point_NOPPGGRF_138', 'Point_NOPPGGRF_142', 'Point_NOPPGGRF_148', 'Point_NOPPGGRF_191', 'Point_NOPPGGRF_193', 'Point_NOPPGGRF_235', \n",
    "          'Point_NOPPGGRF_237', 'Point_NOPPGGRF_239', 'Point_NOPPGGRF_243', 'Point_NOPPGGRF_245', 'Point_NOPPGGRF_247', 'Point_NOPPGGRF_249', \n",
    "          'Point_NOPPGGRF_251', 'Point_NOPPGGRF_253', 'Point_NOPPGGRF_255', 'Point_NOPPGGRF_257', 'Point_NOPPGGRF_259', 'Point_NOPPGGRF_261', \n",
    "          'Point_NOPPGGRF_263', 'Point_NOPPGGRF_265', 'Point_NOPPGGRF_331', 'Point_NOPPGGRF_333', 'Point_NOPPGGRF_335', 'Point_NOPPGGRF_339', \n",
    "          'Point_NOPPGGRF_341', 'Point_NOPPGGRF_345', 'Point_NOPPGGRF_471', 'Point_NOPPGGRF_475', 'Point_NOPPGGRF_477', 'Point_NOPPGGRF_479', \n",
    "          'Point_NOPPGGRF_547', 'Point_NOPPGGRF_549', 'Point_NOPPGGRF_613', 'Point_NOPPGGRF_615', 'Point_NOPPGGRF_617', 'Point_NOPPGGRF_619', \n",
    "          'Point_NOPPGGRF_621', 'Point_NOPPGGRF_690', 'Point_NOPPGGRF_765', 'Point_NOPPGGRF_839', 'Point_NOPPGGRF_981', 'Point_NOPPGGRF_1140', \n",
    "          'Point_NOPPGGRF_1144', 'Point_NOPPGGRF_1291', 'Point_NOPPGGRF_1309', 'Point_NOPPGGRF_1327', 'Point_NOPPGGRF_1399', 'Point_NOPPGGRF_1417', \n",
    "          'Point_NOPPGGRF_1435', 'Point_PPGGRF_1', 'Point_PPGGRF_3', 'Point_PPGGRF_5', 'Point_PPGGRF_7', 'Point_PPGGRF_10', 'Point_PPGGRF_11', \n",
    "          'Point_PPGGRF_14', 'Point_PPGGRF_41', 'Point_PPGGRF_45', 'Point_PPGGRF_68', 'Point_PPGGRF_76', 'Point_PPGGRF_78', 'Point_PPGGRF_86', \n",
    "          'Point_PPGGRF_120', 'Point_PPGGRF_124', 'Point_PPGGRF_130', 'Point_PPGGRF_132', 'Point_PPGGRF_134', 'Point_PPGGRF_136', 'Point_PPGGRF_138', \n",
    "          'Point_PPGGRF_142', 'Point_PPGGRF_148', 'Point_PPGGRF_191', 'Point_PPGGRF_193', 'Point_PPGGRF_235', 'Point_PPGGRF_237', 'Point_PPGGRF_239', \n",
    "          'Point_PPGGRF_245', 'Point_PPGGRF_247', 'Point_PPGGRF_251', 'Point_PPGGRF_253', 'Point_PPGGRF_257', 'Point_PPGGRF_259', 'Point_PPGGRF_261',\n",
    "          'Point_PPGGRF_263', 'Point_PPGGRF_265', 'Point_PPGGRF_267', 'Point_PPGGRF_269', 'Point_PPGGRF_271', 'Point_PPGGRF_333', 'Point_PPGGRF_335', \n",
    "          'Point_PPGGRF_339', 'Point_PPGGRF_341', 'Point_PPGGRF_345', 'Point_PPGGRF_471', 'Point_PPGGRF_475', 'Point_PPGGRF_479', 'Point_PPGGRF_547',\n",
    "          'Point_PPGGRF_549', 'Point_PPGGRF_613', 'Point_PPGGRF_619', 'Point_PPGGRF_621', 'Point_PPGGRF_690', 'Point_PPGGRF_695', 'Point_PPGGRF_765',\n",
    "          'Point_PPGGRF_1291', 'Point_PPGGRF_1309', 'Point_PPGGRF_1327', 'Point_PPGGRF_1417', 'Point_PPGGRF_1435', \n",
    "          'Line_NOPPGGRF_68', 'Line_NOPPGGRF_78', 'Line_NOPPGGRF_549', 'Line_PPGGRF_68', 'Line_PPGGRF_78']\n",
    "\n",
    "\n",
    "# Initialize a total variable for all fields\n",
    "total_sum = 0\n",
    "\n",
    "# Use a SearchCursor to iterate through the field values\n",
    "with arcpy.da.SearchCursor(Funding_Dist, fields) as cursor:\n",
    "    for row in cursor:\n",
    "        for value in row:\n",
    "            if value is not None:  # Ensure the value is not NULL\n",
    "                total_sum += value\n",
    "\n",
    "# Round and print the result\n",
    "total_sum = round(total_sum)\n",
    "print(f\"The total sum of all summed input program fields is: {total_sum:,}\")"
   ]
  },
  {
   "cell_type": "code",
   "execution_count": 78,
   "metadata": {},
   "outputs": [
    {
     "name": "stdout",
     "output_type": "stream",
     "text": [
      "The total summed calculated CT field is: 1,486,278,349\n",
      "The total summed calculated poly field is: 126,206,277\n",
      "The total summed calculated point field is: 10,904,132,106\n",
      "The total summed calculated line field is: 258,591,471\n",
      "The grand total of all four fields is: 12,775,208,203\n"
     ]
    }
   ],
   "source": [
    "# Calculate SUM of totals using input totals (to check against above program total) - QC\n",
    "\n",
    "# List of fields to sum\n",
    "fields_CT = ['CT_NOPPGGRF_4', 'CT_NOPPGGRF_8', 'CT_NOPPGGRF_9', 'CT_NOPPGGRF_80', 'CT_NOPPGGRF_82', 'CT_NOPPGGRF_88', 'CT_NOPPGGRF_90', 'CT_NOPPGGRF_128', \n",
    "          'CT_NOPPGGRF_337', 'CT_NOPPGGRF_1136', 'CT_PPGGRF_4', 'CT_PPGGRF_8', 'CT_PPGGRF_9', 'CT_PPGGRF_80', 'CT_PPGGRF_82', 'CT_PPGGRF_88', 'CT_PPGGRF_90', \n",
    "          'CT_PPGGRF_128', 'CT_PPGGRF_189', 'CT_PPGGRF_329', 'CT_PPGGRF_337', 'CT_PPGGRF_837']\n",
    "\n",
    "fields_poly = ['Poly_NOPPGGRF_68', 'Poly_NOPPGGRF_78', 'Poly_NOPPGGRF_86', 'Poly_NOPPGGRF_251', 'Poly_NOPPGGRF_265', 'Poly_NOPPGGRF_345', 'Poly_NOPPGGRF_549', \n",
    "          'Poly_NOPPGGRF_695', 'Poly_PPGGRF_7', 'Poly_PPGGRF_68', 'Poly_PPGGRF_78', 'Poly_PPGGRF_251', 'Poly_PPGGRF_265', 'Poly_PPGGRF_695']\n",
    "\n",
    "fields_point = ['Point_NOPPGGRF_1', 'Point_NOPPGGRF_2', 'Point_NOPPGGRF_3', 'Point_NOPPGGRF_5', \n",
    "          'Point_NOPPGGRF_11', 'Point_NOPPGGRF_14', 'Point_NOPPGGRF_41', 'Point_NOPPGGRF_45', 'Point_NOPPGGRF_68', 'Point_NOPPGGRF_72', 'Point_NOPPGGRF_76', \n",
    "          'Point_NOPPGGRF_78', 'Point_NOPPGGRF_86', 'Point_NOPPGGRF_124', 'Point_NOPPGGRF_132', 'Point_NOPPGGRF_134', 'Point_NOPPGGRF_136', \n",
    "          'Point_NOPPGGRF_138', 'Point_NOPPGGRF_142', 'Point_NOPPGGRF_148', 'Point_NOPPGGRF_191', 'Point_NOPPGGRF_193', 'Point_NOPPGGRF_235', \n",
    "          'Point_NOPPGGRF_237', 'Point_NOPPGGRF_239', 'Point_NOPPGGRF_243', 'Point_NOPPGGRF_245', 'Point_NOPPGGRF_247', 'Point_NOPPGGRF_249', \n",
    "          'Point_NOPPGGRF_251', 'Point_NOPPGGRF_253', 'Point_NOPPGGRF_255', 'Point_NOPPGGRF_257', 'Point_NOPPGGRF_259', 'Point_NOPPGGRF_261', \n",
    "          'Point_NOPPGGRF_263', 'Point_NOPPGGRF_265', 'Point_NOPPGGRF_331', 'Point_NOPPGGRF_333', 'Point_NOPPGGRF_335', 'Point_NOPPGGRF_339', \n",
    "          'Point_NOPPGGRF_341', 'Point_NOPPGGRF_345', 'Point_NOPPGGRF_471', 'Point_NOPPGGRF_475', 'Point_NOPPGGRF_477', 'Point_NOPPGGRF_479', \n",
    "          'Point_NOPPGGRF_547', 'Point_NOPPGGRF_549', 'Point_NOPPGGRF_613', 'Point_NOPPGGRF_615', 'Point_NOPPGGRF_617', 'Point_NOPPGGRF_619', \n",
    "          'Point_NOPPGGRF_621', 'Point_NOPPGGRF_690', 'Point_NOPPGGRF_765', 'Point_NOPPGGRF_839', 'Point_NOPPGGRF_981', 'Point_NOPPGGRF_1140', \n",
    "          'Point_NOPPGGRF_1144', 'Point_NOPPGGRF_1291', 'Point_NOPPGGRF_1309', 'Point_NOPPGGRF_1327', 'Point_NOPPGGRF_1399', 'Point_NOPPGGRF_1417', \n",
    "          'Point_NOPPGGRF_1435', 'Point_PPGGRF_1', 'Point_PPGGRF_3', 'Point_PPGGRF_5', 'Point_PPGGRF_7', 'Point_PPGGRF_10', 'Point_PPGGRF_11', \n",
    "          'Point_PPGGRF_14', 'Point_PPGGRF_41', 'Point_PPGGRF_45', 'Point_PPGGRF_68', 'Point_PPGGRF_76', 'Point_PPGGRF_78', 'Point_PPGGRF_86', \n",
    "          'Point_PPGGRF_120', 'Point_PPGGRF_124', 'Point_PPGGRF_130', 'Point_PPGGRF_132', 'Point_PPGGRF_134', 'Point_PPGGRF_136', 'Point_PPGGRF_138', \n",
    "          'Point_PPGGRF_142', 'Point_PPGGRF_148', 'Point_PPGGRF_191', 'Point_PPGGRF_193', 'Point_PPGGRF_235', 'Point_PPGGRF_237', 'Point_PPGGRF_239', \n",
    "          'Point_PPGGRF_245', 'Point_PPGGRF_247', 'Point_PPGGRF_251', 'Point_PPGGRF_253', 'Point_PPGGRF_257', 'Point_PPGGRF_259', 'Point_PPGGRF_261',\n",
    "          'Point_PPGGRF_263', 'Point_PPGGRF_265', 'Point_PPGGRF_267', 'Point_PPGGRF_269', 'Point_PPGGRF_271', 'Point_PPGGRF_333', 'Point_PPGGRF_335', \n",
    "          'Point_PPGGRF_339', 'Point_PPGGRF_341', 'Point_PPGGRF_345', 'Point_PPGGRF_471', 'Point_PPGGRF_475', 'Point_PPGGRF_479', 'Point_PPGGRF_547',\n",
    "          'Point_PPGGRF_549', 'Point_PPGGRF_613', 'Point_PPGGRF_619', 'Point_PPGGRF_621', 'Point_PPGGRF_690', 'Point_PPGGRF_695', 'Point_PPGGRF_765',\n",
    "          'Point_PPGGRF_1291', 'Point_PPGGRF_1309', 'Point_PPGGRF_1327', 'Point_PPGGRF_1417', 'Point_PPGGRF_1435']\n",
    "\n",
    "fields_line = ['Line_NOPPGGRF_68', 'Line_NOPPGGRF_78', 'Line_NOPPGGRF_549', 'Line_PPGGRF_68', 'Line_PPGGRF_78']\n",
    "\n",
    "# Dictionary to store totals\n",
    "totals = {\"CT\": 0, \"poly\": 0, \"point\": 0, \"line\": 0}\n",
    "\n",
    "# Sum values for each category\n",
    "for category, fields in zip(totals.keys(), [fields_CT, fields_poly, fields_point, fields_line]):\n",
    "    with arcpy.da.SearchCursor(Funding_Dist, fields) as cursor:\n",
    "        for row in cursor:\n",
    "            for value in row:\n",
    "                if value is not None:  # Ensure value is not NULL\n",
    "                    totals[category] += value\n",
    "\n",
    "# Print individual totals\n",
    "grand_total = 0\n",
    "for category, total in totals.items():\n",
    "    total = round(total)\n",
    "    grand_total += total\n",
    "    print(f\"The total summed calculated {category} field is: {total:,}\")\n",
    "\n",
    "# Print grand total\n",
    "print(f\"The grand total of all four fields is: {grand_total:,}\")"
   ]
  },
  {
   "cell_type": "markdown",
   "metadata": {},
   "source": [
    "### Save 'wide' version of the feature layer"
   ]
  },
  {
   "cell_type": "code",
   "execution_count": 118,
   "metadata": {},
   "outputs": [
    {
     "name": "stdout",
     "output_type": "stream",
     "text": [
      "Feature class copied successfully to C:\\Users\\gcowan\\Documents\\ArcGIS\\Projects\\Distribution Analysis\\Data Restructure\\Funding_Distribution_AR25\\Funding_Distribution_AR25.gdb\\Funding_Dist_AR25_wide\n"
     ]
    }
   ],
   "source": [
    "# Path to save the 'wide' version of the feature class\n",
    "Funding_Dist_wide = f\"{project_gdb}\\\\Funding_Dist_{suffix}_wide\"\n",
    "\n",
    "# Step 1: Create a copy of the feature class\n",
    "try:\n",
    "    arcpy.CopyFeatures_management(Funding_Dist, Funding_Dist_wide)\n",
    "    print(f\"Feature class copied successfully to {Funding_Dist_wide}\")\n",
    "except Exception as e:\n",
    "    print(f\"An error occurred while copying the feature class: {e}\")"
   ]
  },
  {
   "cell_type": "code",
   "execution_count": 119,
   "metadata": {},
   "outputs": [
    {
     "data": {
      "text/html": [
       "<div class='gpresult'><h2 class='msg-title'>Messages</h2><div id='messages'>Start Time: Wednesday, June 18, 2025 11:24:54 AM<br>Succeeded at Wednesday, June 18, 2025 11:24:55 AM (Elapsed Time: 0.84 seconds)<br></div><div id = 'default' /></div></div>"
      ],
      "text/plain": [
       "<Result 'C:\\\\Users\\\\gcowan\\\\Documents\\\\ArcGIS\\\\Projects\\\\Distribution Analysis\\\\Data Restructure\\\\Funding_Distribution_AR25\\\\Funding_Distribution_AR25.gdb\\\\Funding_Dist_AR25_wide'>"
      ]
     },
     "execution_count": 119,
     "metadata": {},
     "output_type": "execute_result"
    }
   ],
   "source": [
    "#Rename GGRF field\n",
    "\n",
    "arcpy.AlterField_management(\n",
    "    in_table=Funding_Dist_wide,\n",
    "    field=\"GGRF\",\n",
    "    new_field_name=\"Funding_Amount\",\n",
    "    new_field_alias=\"Funding Amount\"\n",
    ")"
   ]
  },
  {
   "cell_type": "code",
   "execution_count": 120,
   "metadata": {},
   "outputs": [
    {
     "name": "stdout",
     "output_type": "stream",
     "text": [
      "Fields deleted successfully.\n"
     ]
    }
   ],
   "source": [
    "# delete unneeded fields\n",
    "    # update point; line; CT fields from list above\n",
    "\n",
    "# List of fields to delete for \"wide\"\n",
    "fields_to_delete = ['CT_NOPPGGRF_4', 'CT_NOPPGGRF_8', 'CT_NOPPGGRF_9', 'CT_NOPPGGRF_80', 'CT_NOPPGGRF_82', 'CT_NOPPGGRF_88', \n",
    "                    'CT_NOPPGGRF_90', 'CT_NOPPGGRF_128', 'CT_NOPPGGRF_337', 'CT_NOPPGGRF_1136', 'CT_PPGGRF_4', 'CT_PPGGRF_8', \n",
    "                    'CT_PPGGRF_9', 'CT_PPGGRF_80', 'CT_PPGGRF_82', 'CT_PPGGRF_88', 'CT_PPGGRF_90', 'CT_PPGGRF_128', \n",
    "                    'CT_PPGGRF_189', 'CT_PPGGRF_329', 'CT_PPGGRF_337', 'CT_PPGGRF_837', 'CT_NOPPGGRF_TOTAL', 'CT_PPGGRF_TOTAL', \n",
    "                    'CT_GGRF_TOTAL', 'Poly_NOPPGGRF_68', 'Poly_NOPPGGRF_78', 'Poly_NOPPGGRF_86', 'Poly_NOPPGGRF_251', \n",
    "                    'Poly_NOPPGGRF_265', 'Poly_NOPPGGRF_345', 'Poly_NOPPGGRF_549', 'Poly_NOPPGGRF_695', 'Poly_PPGGRF_7', \n",
    "                    'Poly_PPGGRF_68', 'Poly_PPGGRF_78', 'Poly_PPGGRF_251', 'Poly_PPGGRF_265', 'Poly_PPGGRF_695', \n",
    "                    'Poly_NOPPGGRF_TOTAL', 'Poly_PPGGRF_TOTAL', 'Poly_GGRF_TOTAL', 'Point_NOPPGGRF_1', 'Point_NOPPGGRF_2',\n",
    "                    'Point_NOPPGGRF_3', 'Point_NOPPGGRF_5', 'Point_NOPPGGRF_11', 'Point_NOPPGGRF_14', 'Point_NOPPGGRF_41',\n",
    "                    'Point_NOPPGGRF_45', 'Point_NOPPGGRF_68', 'Point_NOPPGGRF_72', 'Point_NOPPGGRF_76', 'Point_NOPPGGRF_78',\n",
    "                    'Point_NOPPGGRF_86', 'Point_NOPPGGRF_124', 'Point_NOPPGGRF_132', 'Point_NOPPGGRF_134',\n",
    "                    'Point_NOPPGGRF_136', 'Point_NOPPGGRF_138', 'Point_NOPPGGRF_142', 'Point_NOPPGGRF_148',\n",
    "                    'Point_NOPPGGRF_191', 'Point_NOPPGGRF_193', 'Point_NOPPGGRF_235', 'Point_NOPPGGRF_237',\n",
    "                    'Point_NOPPGGRF_239', 'Point_NOPPGGRF_243', 'Point_NOPPGGRF_245', 'Point_NOPPGGRF_247',\n",
    "                    'Point_NOPPGGRF_249', 'Point_NOPPGGRF_251', 'Point_NOPPGGRF_253', 'Point_NOPPGGRF_255', \n",
    "                    'Point_NOPPGGRF_257', 'Point_NOPPGGRF_259', 'Point_NOPPGGRF_261', 'Point_NOPPGGRF_263', \n",
    "                    'Point_NOPPGGRF_265', 'Point_NOPPGGRF_331', 'Point_NOPPGGRF_333', 'Point_NOPPGGRF_335',\n",
    "                    'Point_NOPPGGRF_339', 'Point_NOPPGGRF_341', 'Point_NOPPGGRF_345', 'Point_NOPPGGRF_471',\n",
    "                    'Point_NOPPGGRF_475', 'Point_NOPPGGRF_477', 'Point_NOPPGGRF_479', 'Point_NOPPGGRF_547',\n",
    "                    'Point_NOPPGGRF_549', 'Point_NOPPGGRF_613', 'Point_NOPPGGRF_615', 'Point_NOPPGGRF_617', \n",
    "                    'Point_NOPPGGRF_619', 'Point_NOPPGGRF_621', 'Point_NOPPGGRF_690', 'Point_NOPPGGRF_765', \n",
    "                    'Point_NOPPGGRF_839', 'Point_NOPPGGRF_981', 'Point_NOPPGGRF_1140', 'Point_NOPPGGRF_1144', \n",
    "                    'Point_NOPPGGRF_1291', 'Point_NOPPGGRF_1309', 'Point_NOPPGGRF_1327', 'Point_NOPPGGRF_1399', \n",
    "                    'Point_NOPPGGRF_1417', 'Point_NOPPGGRF_1435', 'Point_PPGGRF_1', 'Point_PPGGRF_3', 'Point_PPGGRF_5', \n",
    "                    'Point_PPGGRF_7', 'Point_PPGGRF_10', 'Point_PPGGRF_11', 'Point_PPGGRF_14', 'Point_PPGGRF_41', \n",
    "                    'Point_PPGGRF_45', 'Point_PPGGRF_68', 'Point_PPGGRF_76', 'Point_PPGGRF_78', 'Point_PPGGRF_86',\n",
    "                    'Point_PPGGRF_120', 'Point_PPGGRF_124', 'Point_PPGGRF_130', 'Point_PPGGRF_132', 'Point_PPGGRF_134', \n",
    "                    'Point_PPGGRF_136', 'Point_PPGGRF_138', 'Point_PPGGRF_142', 'Point_PPGGRF_148', 'Point_PPGGRF_191', \n",
    "                    'Point_PPGGRF_193', 'Point_PPGGRF_235', 'Point_PPGGRF_237', 'Point_PPGGRF_239', 'Point_PPGGRF_245',\n",
    "                    'Point_PPGGRF_247', 'Point_PPGGRF_251', 'Point_PPGGRF_253', 'Point_PPGGRF_257', 'Point_PPGGRF_259', \n",
    "                    'Point_PPGGRF_261', 'Point_PPGGRF_263', 'Point_PPGGRF_265', 'Point_PPGGRF_267', 'Point_PPGGRF_269', \n",
    "                    'Point_PPGGRF_271', 'Point_PPGGRF_333', 'Point_PPGGRF_335', 'Point_PPGGRF_339', 'Point_PPGGRF_341', \n",
    "                    'Point_PPGGRF_345', 'Point_PPGGRF_471', 'Point_PPGGRF_475', 'Point_PPGGRF_479', 'Point_PPGGRF_547', \n",
    "                    'Point_PPGGRF_549', 'Point_PPGGRF_613', 'Point_PPGGRF_619', 'Point_PPGGRF_621', 'Point_PPGGRF_690',\n",
    "                    'Point_PPGGRF_695', 'Point_PPGGRF_765', 'Point_PPGGRF_1291', 'Point_PPGGRF_1309', 'Point_PPGGRF_1327',\n",
    "                    'Point_PPGGRF_1417', 'Point_PPGGRF_1435', 'Point_NOPPGGRF_Total', 'Point_PPGGRF_Total', \n",
    "                    'Point_GGRF_Total', 'Point_Count', 'Line_NOPPGGRF_68', 'Line_NOPPGGRF_78', 'Line_NOPPGGRF_549', \n",
    "                    'Line_PPGGRF_68', 'Line_PPGGRF_78', 'Line_NOPPGGRF_Total', 'Line_PPGGRF_Total', 'Line_GGRF_Total']\n",
    "\n",
    "# Delete fields\n",
    "try:\n",
    "    arcpy.DeleteField_management(Funding_Dist_wide, fields_to_delete)\n",
    "    print(\"Fields deleted successfully.\")\n",
    "except Exception as e:\n",
    "    print(f\"An error occurred: {e}\")"
   ]
  },
  {
   "cell_type": "markdown",
   "metadata": {},
   "source": [
    "### Save a Census Tract groupby CSV of Wide Data Set"
   ]
  },
  {
   "cell_type": "code",
   "execution_count": 121,
   "metadata": {},
   "outputs": [
    {
     "data": {
      "text/html": [
       "<div>\n",
       "<style scoped>\n",
       "    .dataframe tbody tr th:only-of-type {\n",
       "        vertical-align: middle;\n",
       "    }\n",
       "\n",
       "    .dataframe tbody tr th {\n",
       "        vertical-align: top;\n",
       "    }\n",
       "\n",
       "    .dataframe thead th {\n",
       "        text-align: right;\n",
       "    }\n",
       "</style>\n",
       "<table border=\"1\" class=\"dataframe\">\n",
       "  <thead>\n",
       "    <tr style=\"text-align: right;\">\n",
       "      <th></th>\n",
       "      <th>Census_Tract</th>\n",
       "      <th>GGRF</th>\n",
       "      <th>sum_group_1</th>\n",
       "      <th>sum_group_2</th>\n",
       "      <th>sum_group_3</th>\n",
       "      <th>sum_group_4</th>\n",
       "      <th>sum_group_5</th>\n",
       "      <th>sum_group_7</th>\n",
       "      <th>sum_group_8</th>\n",
       "      <th>sum_group_9</th>\n",
       "      <th>...</th>\n",
       "      <th>HousBurd_Pctl</th>\n",
       "      <th>PctBIPOC</th>\n",
       "      <th>Asthma_Pctl</th>\n",
       "      <th>ImpWaterBodPctl</th>\n",
       "      <th>Cleanups_Pctl</th>\n",
       "      <th>Poverty_Pctl</th>\n",
       "      <th>BIPOCMaj</th>\n",
       "      <th>DrinkingWaterPctl</th>\n",
       "      <th>Diesel_PM_Pctl</th>\n",
       "      <th>County</th>\n",
       "    </tr>\n",
       "  </thead>\n",
       "  <tbody>\n",
       "    <tr>\n",
       "      <th>7820</th>\n",
       "      <td>6.111000e+09</td>\n",
       "      <td>552510.833231</td>\n",
       "      <td>0.0</td>\n",
       "      <td>0.0</td>\n",
       "      <td>0.0</td>\n",
       "      <td>10000.0</td>\n",
       "      <td>0.0</td>\n",
       "      <td>0.0</td>\n",
       "      <td>0.0</td>\n",
       "      <td>0.0</td>\n",
       "      <td>...</td>\n",
       "      <td>54.626109</td>\n",
       "      <td>11.6129</td>\n",
       "      <td>8.624128</td>\n",
       "      <td>94.561109</td>\n",
       "      <td>81.914894</td>\n",
       "      <td>28.165829</td>\n",
       "      <td>BIPOC</td>\n",
       "      <td>76.445610</td>\n",
       "      <td>0.062228</td>\n",
       "      <td>Ventura</td>\n",
       "    </tr>\n",
       "    <tr>\n",
       "      <th>2864</th>\n",
       "      <td>6.037543e+09</td>\n",
       "      <td>92200.827499</td>\n",
       "      <td>0.0</td>\n",
       "      <td>0.0</td>\n",
       "      <td>0.0</td>\n",
       "      <td>15000.0</td>\n",
       "      <td>0.0</td>\n",
       "      <td>0.0</td>\n",
       "      <td>7500.0</td>\n",
       "      <td>0.0</td>\n",
       "      <td>...</td>\n",
       "      <td>79.911280</td>\n",
       "      <td>97.4161</td>\n",
       "      <td>93.058325</td>\n",
       "      <td>66.736665</td>\n",
       "      <td>17.077268</td>\n",
       "      <td>73.630653</td>\n",
       "      <td>BIPOC</td>\n",
       "      <td>50.405895</td>\n",
       "      <td>31.362788</td>\n",
       "      <td>Los Angeles</td>\n",
       "    </tr>\n",
       "    <tr>\n",
       "      <th>1185</th>\n",
       "      <td>6.037104e+09</td>\n",
       "      <td>317476.596026</td>\n",
       "      <td>0.0</td>\n",
       "      <td>0.0</td>\n",
       "      <td>0.0</td>\n",
       "      <td>68500.0</td>\n",
       "      <td>0.0</td>\n",
       "      <td>0.0</td>\n",
       "      <td>19000.0</td>\n",
       "      <td>5000.0</td>\n",
       "      <td>...</td>\n",
       "      <td>76.869455</td>\n",
       "      <td>94.3013</td>\n",
       "      <td>83.536889</td>\n",
       "      <td>0.000000</td>\n",
       "      <td>31.243001</td>\n",
       "      <td>73.316583</td>\n",
       "      <td>BIPOC</td>\n",
       "      <td>83.127264</td>\n",
       "      <td>50.043559</td>\n",
       "      <td>Los Angeles</td>\n",
       "    </tr>\n",
       "    <tr>\n",
       "      <th>6271</th>\n",
       "      <td>6.073021e+09</td>\n",
       "      <td>305335.395250</td>\n",
       "      <td>0.0</td>\n",
       "      <td>0.0</td>\n",
       "      <td>0.0</td>\n",
       "      <td>63000.0</td>\n",
       "      <td>0.0</td>\n",
       "      <td>0.0</td>\n",
       "      <td>0.0</td>\n",
       "      <td>0.0</td>\n",
       "      <td>...</td>\n",
       "      <td>1.406844</td>\n",
       "      <td>31.3450</td>\n",
       "      <td>6.069292</td>\n",
       "      <td>23.876522</td>\n",
       "      <td>0.000000</td>\n",
       "      <td>9.271357</td>\n",
       "      <td>BIPOC</td>\n",
       "      <td>23.466966</td>\n",
       "      <td>7.741133</td>\n",
       "      <td>San Diego</td>\n",
       "    </tr>\n",
       "    <tr>\n",
       "      <th>1736</th>\n",
       "      <td>6.037209e+09</td>\n",
       "      <td>85872.468588</td>\n",
       "      <td>0.0</td>\n",
       "      <td>0.0</td>\n",
       "      <td>0.0</td>\n",
       "      <td>71500.0</td>\n",
       "      <td>0.0</td>\n",
       "      <td>0.0</td>\n",
       "      <td>0.0</td>\n",
       "      <td>5000.0</td>\n",
       "      <td>...</td>\n",
       "      <td>85.500634</td>\n",
       "      <td>93.0399</td>\n",
       "      <td>78.501994</td>\n",
       "      <td>0.000000</td>\n",
       "      <td>62.672639</td>\n",
       "      <td>95.414573</td>\n",
       "      <td>BIPOC</td>\n",
       "      <td>92.531535</td>\n",
       "      <td>99.639079</td>\n",
       "      <td>Los Angeles</td>\n",
       "    </tr>\n",
       "    <tr>\n",
       "      <th>6307</th>\n",
       "      <td>6.075013e+09</td>\n",
       "      <td>65552.315479</td>\n",
       "      <td>0.0</td>\n",
       "      <td>0.0</td>\n",
       "      <td>0.0</td>\n",
       "      <td>63000.0</td>\n",
       "      <td>0.0</td>\n",
       "      <td>0.0</td>\n",
       "      <td>0.0</td>\n",
       "      <td>0.0</td>\n",
       "      <td>...</td>\n",
       "      <td>38.783270</td>\n",
       "      <td>24.1210</td>\n",
       "      <td>4.012961</td>\n",
       "      <td>86.959261</td>\n",
       "      <td>93.542367</td>\n",
       "      <td>8.530151</td>\n",
       "      <td>BIPOC</td>\n",
       "      <td>15.036843</td>\n",
       "      <td>96.938395</td>\n",
       "      <td>San Francisco</td>\n",
       "    </tr>\n",
       "    <tr>\n",
       "      <th>2997</th>\n",
       "      <td>6.037570e+09</td>\n",
       "      <td>581296.778932</td>\n",
       "      <td>0.0</td>\n",
       "      <td>0.0</td>\n",
       "      <td>0.0</td>\n",
       "      <td>21000.0</td>\n",
       "      <td>0.0</td>\n",
       "      <td>0.0</td>\n",
       "      <td>9000.0</td>\n",
       "      <td>0.0</td>\n",
       "      <td>...</td>\n",
       "      <td>93.726236</td>\n",
       "      <td>96.5231</td>\n",
       "      <td>87.387836</td>\n",
       "      <td>82.969341</td>\n",
       "      <td>25.625233</td>\n",
       "      <td>89.761307</td>\n",
       "      <td>BIPOC</td>\n",
       "      <td>31.172724</td>\n",
       "      <td>97.548227</td>\n",
       "      <td>Los Angeles</td>\n",
       "    </tr>\n",
       "    <tr>\n",
       "      <th>2710</th>\n",
       "      <td>6.037531e+09</td>\n",
       "      <td>55187.579126</td>\n",
       "      <td>0.0</td>\n",
       "      <td>0.0</td>\n",
       "      <td>0.0</td>\n",
       "      <td>25500.0</td>\n",
       "      <td>0.0</td>\n",
       "      <td>0.0</td>\n",
       "      <td>14000.0</td>\n",
       "      <td>0.0</td>\n",
       "      <td>...</td>\n",
       "      <td>62.420786</td>\n",
       "      <td>98.8021</td>\n",
       "      <td>65.191924</td>\n",
       "      <td>0.000000</td>\n",
       "      <td>76.801045</td>\n",
       "      <td>84.698492</td>\n",
       "      <td>BIPOC</td>\n",
       "      <td>75.134258</td>\n",
       "      <td>55.532047</td>\n",
       "      <td>Los Angeles</td>\n",
       "    </tr>\n",
       "    <tr>\n",
       "      <th>2092</th>\n",
       "      <td>6.037276e+09</td>\n",
       "      <td>162156.202428</td>\n",
       "      <td>0.0</td>\n",
       "      <td>0.0</td>\n",
       "      <td>0.0</td>\n",
       "      <td>132312.0</td>\n",
       "      <td>24610.0</td>\n",
       "      <td>0.0</td>\n",
       "      <td>0.0</td>\n",
       "      <td>0.0</td>\n",
       "      <td>...</td>\n",
       "      <td>80.468948</td>\n",
       "      <td>57.1541</td>\n",
       "      <td>38.758724</td>\n",
       "      <td>72.154557</td>\n",
       "      <td>60.377006</td>\n",
       "      <td>21.721106</td>\n",
       "      <td>BIPOC</td>\n",
       "      <td>43.387036</td>\n",
       "      <td>81.754823</td>\n",
       "      <td>Los Angeles</td>\n",
       "    </tr>\n",
       "    <tr>\n",
       "      <th>3194</th>\n",
       "      <td>6.037620e+09</td>\n",
       "      <td>234246.762841</td>\n",
       "      <td>0.0</td>\n",
       "      <td>0.0</td>\n",
       "      <td>0.0</td>\n",
       "      <td>176000.0</td>\n",
       "      <td>23000.0</td>\n",
       "      <td>0.0</td>\n",
       "      <td>19000.0</td>\n",
       "      <td>0.0</td>\n",
       "      <td>...</td>\n",
       "      <td>27.782003</td>\n",
       "      <td>37.9616</td>\n",
       "      <td>12.761715</td>\n",
       "      <td>51.217976</td>\n",
       "      <td>95.464726</td>\n",
       "      <td>22.474874</td>\n",
       "      <td>BIPOC</td>\n",
       "      <td>8.954665</td>\n",
       "      <td>83.273180</td>\n",
       "      <td>Los Angeles</td>\n",
       "    </tr>\n",
       "  </tbody>\n",
       "</table>\n",
       "<p>10 rows × 128 columns</p>\n",
       "</div>"
      ],
      "text/plain": [
       "      Census_Tract           GGRF  sum_group_1  sum_group_2  sum_group_3  \\\n",
       "7820  6.111000e+09  552510.833231          0.0          0.0          0.0   \n",
       "2864  6.037543e+09   92200.827499          0.0          0.0          0.0   \n",
       "1185  6.037104e+09  317476.596026          0.0          0.0          0.0   \n",
       "6271  6.073021e+09  305335.395250          0.0          0.0          0.0   \n",
       "1736  6.037209e+09   85872.468588          0.0          0.0          0.0   \n",
       "6307  6.075013e+09   65552.315479          0.0          0.0          0.0   \n",
       "2997  6.037570e+09  581296.778932          0.0          0.0          0.0   \n",
       "2710  6.037531e+09   55187.579126          0.0          0.0          0.0   \n",
       "2092  6.037276e+09  162156.202428          0.0          0.0          0.0   \n",
       "3194  6.037620e+09  234246.762841          0.0          0.0          0.0   \n",
       "\n",
       "      sum_group_4  sum_group_5  sum_group_7  sum_group_8  sum_group_9  ...  \\\n",
       "7820      10000.0          0.0          0.0          0.0          0.0  ...   \n",
       "2864      15000.0          0.0          0.0       7500.0          0.0  ...   \n",
       "1185      68500.0          0.0          0.0      19000.0       5000.0  ...   \n",
       "6271      63000.0          0.0          0.0          0.0          0.0  ...   \n",
       "1736      71500.0          0.0          0.0          0.0       5000.0  ...   \n",
       "6307      63000.0          0.0          0.0          0.0          0.0  ...   \n",
       "2997      21000.0          0.0          0.0       9000.0          0.0  ...   \n",
       "2710      25500.0          0.0          0.0      14000.0          0.0  ...   \n",
       "2092     132312.0      24610.0          0.0          0.0          0.0  ...   \n",
       "3194     176000.0      23000.0          0.0      19000.0          0.0  ...   \n",
       "\n",
       "      HousBurd_Pctl  PctBIPOC  Asthma_Pctl  ImpWaterBodPctl  Cleanups_Pctl  \\\n",
       "7820      54.626109   11.6129     8.624128        94.561109      81.914894   \n",
       "2864      79.911280   97.4161    93.058325        66.736665      17.077268   \n",
       "1185      76.869455   94.3013    83.536889         0.000000      31.243001   \n",
       "6271       1.406844   31.3450     6.069292        23.876522       0.000000   \n",
       "1736      85.500634   93.0399    78.501994         0.000000      62.672639   \n",
       "6307      38.783270   24.1210     4.012961        86.959261      93.542367   \n",
       "2997      93.726236   96.5231    87.387836        82.969341      25.625233   \n",
       "2710      62.420786   98.8021    65.191924         0.000000      76.801045   \n",
       "2092      80.468948   57.1541    38.758724        72.154557      60.377006   \n",
       "3194      27.782003   37.9616    12.761715        51.217976      95.464726   \n",
       "\n",
       "      Poverty_Pctl  BIPOCMaj  DrinkingWaterPctl  Diesel_PM_Pctl         County  \n",
       "7820     28.165829     BIPOC          76.445610        0.062228       Ventura   \n",
       "2864     73.630653     BIPOC          50.405895       31.362788    Los Angeles  \n",
       "1185     73.316583     BIPOC          83.127264       50.043559    Los Angeles  \n",
       "6271      9.271357     BIPOC          23.466966        7.741133      San Diego  \n",
       "1736     95.414573     BIPOC          92.531535       99.639079    Los Angeles  \n",
       "6307      8.530151     BIPOC          15.036843       96.938395  San Francisco  \n",
       "2997     89.761307     BIPOC          31.172724       97.548227    Los Angeles  \n",
       "2710     84.698492     BIPOC          75.134258       55.532047    Los Angeles  \n",
       "2092     21.721106     BIPOC          43.387036       81.754823    Los Angeles  \n",
       "3194     22.474874     BIPOC           8.954665       83.273180    Los Angeles  \n",
       "\n",
       "[10 rows x 128 columns]"
      ]
     },
     "execution_count": 121,
     "metadata": {},
     "output_type": "execute_result"
    }
   ],
   "source": [
    "# Input feature class\n",
    "fc = Funding_Dist\n",
    "\n",
    "# Convert to pandas DataFrame\n",
    "fields = [f.name for f in arcpy.ListFields(fc) if f.type not in (\"Geometry\", \"OID\")]\n",
    "data = [row for row in arcpy.da.SearchCursor(fc, fields)]\n",
    "df_wide = pd.DataFrame(data, columns=fields)\n",
    "\n",
    "# Grouping field\n",
    "group_field = [\"Census_Tract\"]\n",
    "\n",
    "# Fields to sum\n",
    "fields_to_sum = [  # (keep this list as-is)\n",
    "    \"GGRF\", 'sum_group_1', 'sum_group_2', 'sum_group_3', 'sum_group_4', 'sum_group_5', 'sum_group_7', 'sum_group_8',\n",
    "    'sum_group_9', 'sum_group_10', 'sum_group_11', 'sum_group_14', 'sum_group_41', 'sum_group_45', 'sum_group_68',\n",
    "    'sum_group_72', 'sum_group_76', 'sum_group_78', 'sum_group_80', 'sum_group_82', 'sum_group_86', 'sum_group_88',\n",
    "    'sum_group_90', 'sum_group_120', 'sum_group_124', 'sum_group_128', 'sum_group_130', 'sum_group_132', 'sum_group_134',\n",
    "    'sum_group_136', 'sum_group_138', 'sum_group_142', 'sum_group_148', 'sum_group_189', 'sum_group_191', 'sum_group_193',\n",
    "    'sum_group_235', 'sum_group_237', 'sum_group_239', 'sum_group_243', 'sum_group_245', 'sum_group_247', 'sum_group_249',\n",
    "    'sum_group_251', 'sum_group_253', 'sum_group_255', 'sum_group_257', 'sum_group_259', 'sum_group_261', 'sum_group_263',\n",
    "    'sum_group_265', 'sum_group_267', 'sum_group_331', 'sum_group_333', 'sum_group_335', 'sum_group_337', 'sum_group_339',\n",
    "    'sum_group_341', 'sum_group_345', 'sum_group_471', 'sum_group_475', 'sum_group_477', 'sum_group_479', 'sum_group_549',\n",
    "    'sum_group_613', 'sum_group_615', 'sum_group_617', 'sum_group_619', 'sum_group_621', 'sum_group_690', 'sum_group_695',\n",
    "    'sum_group_765', 'sum_group_837', 'sum_group_839', 'sum_group_981', 'sum_group_1136', 'sum_group_1140', 'sum_group_1144',\n",
    "    'sum_group_1291', 'sum_group_1309', 'sum_group_1327', 'sum_group_1399', 'sum_group_1417', 'sum_group_1435'\n",
    "]\n",
    "\n",
    "# Fields to copy (deduplicated)\n",
    "fields_to_copy = list(set([\n",
    "    \"PctBIPOC\", \"BIPOCMaj\", \"DemogMaj\", \"CES4range\", \"CES4decile\", 'CCIquartile',\n",
    "    \"County\", \"ApproxLoc\", \"Child_10\", \"Pop_10_64\", \"Elderly_65\", \"Hispanic\", \"White\", \"African_American\",\n",
    "    \"Native_American\", \"Other_Multiple\", \"Pacific_Islander\", \"Asian_American\", \"CIscoreP\", \"Ozone_Pctl\",\n",
    "    \"PM2_5_Pctl\", \"Diesel_PM_Pctl\", \"Pesticides_Pctl\", \"Tox_Releases_Pctl\", \"Traffic_Pctl\", \"DrinkingWaterPctl\",\n",
    "    \"Lead_Pctl\", \"Cleanups_Pctl\", \"GW_Threats_Pctl\", \"Haz_Waste_Pctl\", \"ImpWaterBodPctl\", \"Solid_Waste_Pctl\",\n",
    "    \"Pollution_Pctl\", \"Asthma_Pctl\", \"LowBirthW_Pctl\", \"Cardiovasc_Pctl\", \"Education_Pctl\", \"Ling_Isol_Pctl\",\n",
    "    \"Poverty_Pctl\", \"Unemploy_Pctl\", \"HousBurd_Pctl\", \"PopCharP\", \"Tribal_Name\"\n",
    "]))\n",
    "\n",
    "# Define aggregation rules\n",
    "agg_dict = {field: 'sum' for field in fields_to_sum}\n",
    "for field in fields_to_copy:\n",
    "    if field == \"Name\":\n",
    "        agg_dict[field] = lambda x: next((val for val in x if pd.notnull(val) and str(val).strip() != \"\"), None)\n",
    "    else:\n",
    "        agg_dict[field] = 'first'\n",
    "\n",
    "# Group and aggregate\n",
    "funding_CT_wide = df_wide.groupby(group_field, as_index=False).agg(agg_dict)\n",
    "\n",
    "# Preview sample\n",
    "funding_CT_wide.sample(10)"
   ]
  },
  {
   "cell_type": "code",
   "execution_count": 122,
   "metadata": {},
   "outputs": [],
   "source": [
    "funding_CT_wide = funding_CT_wide.rename(columns={'GGRF': 'Funding_Amount'})"
   ]
  },
  {
   "cell_type": "code",
   "execution_count": 123,
   "metadata": {},
   "outputs": [
    {
     "name": "stdout",
     "output_type": "stream",
     "text": [
      "12,775,208,202.749279\n"
     ]
    }
   ],
   "source": [
    "# check sum of GGRF total after groupby - QC\n",
    "\n",
    "total = funding_CT_wide[\"Funding_Amount\"].sum()\n",
    "print(f\"{total:,}\")"
   ]
  },
  {
   "cell_type": "code",
   "execution_count": 124,
   "metadata": {},
   "outputs": [
    {
     "name": "stdout",
     "output_type": "stream",
     "text": [
      "12,775,208,202.749279\n"
     ]
    }
   ],
   "source": [
    "# check sum of GGRF total before groupby (to compare to above - QC)\n",
    "total = df_wide[\"GGRF\"].sum()\n",
    "print(f\"{total:,}\")"
   ]
  },
  {
   "cell_type": "code",
   "execution_count": 125,
   "metadata": {},
   "outputs": [
    {
     "name": "stdout",
     "output_type": "stream",
     "text": [
      "Data saved to: C:\\Users\\gcowan\\Documents\\ArcGIS\\Projects\\Distribution Analysis\\Data Restructure\\Funding_Distribution_AR25\\Final Code Outputs\\Funding_Dist_Wide_CT_Tabular.csv\n"
     ]
    }
   ],
   "source": [
    "# Export to a CSV\n",
    "\n",
    "# Define the output CSV file path\n",
    "output_csv = r\"C:\\Users\\gcowan\\Documents\\ArcGIS\\Projects\\Distribution Analysis\\Data Restructure\\Funding_Distribution_AR25\\Final Code Outputs\\Funding_Dist_Wide_CT_Tabular.csv\"\n",
    "\n",
    "# Save the DataFrame to CSV\n",
    "funding_CT_wide.to_csv(output_csv, index=False)\n",
    "\n",
    "print(f\"Data saved to: {output_csv}\")"
   ]
  },
  {
   "cell_type": "markdown",
   "metadata": {},
   "source": [
    "## Create 'Long' File Version"
   ]
  },
  {
   "cell_type": "markdown",
   "metadata": {},
   "source": [
    "### Restructure the file"
   ]
  },
  {
   "cell_type": "code",
   "execution_count": 126,
   "metadata": {},
   "outputs": [
    {
     "name": "stdout",
     "output_type": "stream",
     "text": [
      "Unique ID field 'UniqueID_wide' added and populated successfully.\n"
     ]
    }
   ],
   "source": [
    "# add a wide record unique ID to the layer\n",
    "\n",
    "# Add a new field for the unique ID\n",
    "unique_id_field = \"UniqueID_wide\"\n",
    "arcpy.management.AddField(Funding_Dist, unique_id_field, \"LONG\")\n",
    "\n",
    "# Calculate the unique ID based on OBJECTID\n",
    "arcpy.management.CalculateField(Funding_Dist, unique_id_field, \"!OBJECTID!\", \"PYTHON3\")\n",
    "\n",
    "print(f\"Unique ID field '{unique_id_field}' added and populated successfully.\")"
   ]
  },
  {
   "cell_type": "code",
   "execution_count": 127,
   "metadata": {},
   "outputs": [
    {
     "name": "stdout",
     "output_type": "stream",
     "text": [
      "Restructuring completed.\n"
     ]
    }
   ],
   "source": [
    "# restructure the data to the long format\n",
    "\n",
    "# Path to save the 'long' version of the feature class\n",
    "Funding_Dist_long = f\"{project_gdb}\\\\Funding_Dist_{suffix}_long\"\n",
    "\n",
    "# List of funding columns\n",
    "funding_columns = ['sum_group_1', 'sum_group_2', 'sum_group_3', 'sum_group_4', 'sum_group_5', 'sum_group_7', 'sum_group_8',\n",
    "    'sum_group_9', 'sum_group_10', 'sum_group_11', 'sum_group_14', 'sum_group_41', 'sum_group_45', 'sum_group_68',\n",
    "    'sum_group_72', 'sum_group_76', 'sum_group_78', 'sum_group_80', 'sum_group_82', 'sum_group_86', 'sum_group_88',\n",
    "    'sum_group_90', 'sum_group_120', 'sum_group_124', 'sum_group_128', 'sum_group_130', 'sum_group_132', 'sum_group_134',\n",
    "    'sum_group_136', 'sum_group_138', 'sum_group_142', 'sum_group_148', 'sum_group_189', 'sum_group_191', 'sum_group_193',\n",
    "    'sum_group_235', 'sum_group_237', 'sum_group_239', 'sum_group_243', 'sum_group_245', 'sum_group_247', 'sum_group_249',\n",
    "    'sum_group_251', 'sum_group_253', 'sum_group_255', 'sum_group_257', 'sum_group_259', 'sum_group_261', 'sum_group_263',\n",
    "    'sum_group_265', 'sum_group_267', 'sum_group_331', 'sum_group_333', 'sum_group_335', 'sum_group_337', 'sum_group_339',\n",
    "    'sum_group_341', 'sum_group_345', 'sum_group_471', 'sum_group_475', 'sum_group_477', 'sum_group_479', 'sum_group_549',\n",
    "    'sum_group_613', 'sum_group_615', 'sum_group_617', 'sum_group_619', 'sum_group_621', 'sum_group_690', 'sum_group_695',\n",
    "    'sum_group_765', 'sum_group_837', 'sum_group_839', 'sum_group_981', 'sum_group_1136', 'sum_group_1140', 'sum_group_1144',\n",
    "    'sum_group_1291', 'sum_group_1309', 'sum_group_1327', 'sum_group_1399', 'sum_group_1417', 'sum_group_1435']\n",
    "\n",
    "# Get all the fields in the input shapefile\n",
    "all_fields = [f.name for f in arcpy.ListFields(Funding_Dist) if f.type not in (\"Geometry\", \"OID\")]\n",
    "\n",
    "# Create a copy of the input feature class\n",
    "arcpy.management.CopyFeatures(Funding_Dist, Funding_Dist_long)\n",
    "\n",
    "# Add new fields to the output shapefile\n",
    "arcpy.AddField_management(Funding_Dist_long, 'Program_Name', 'TEXT', field_length=100)\n",
    "arcpy.AddField_management(Funding_Dist_long, 'Funding_Amount', 'DOUBLE')\n",
    "\n",
    "# Open an InsertCursor for the output feature class\n",
    "with arcpy.da.InsertCursor(Funding_Dist_long, all_fields + ['Program_Name', 'Funding_Amount', 'SHAPE@']) as insert_cursor:\n",
    "    # Open a SearchCursor to iterate through the input shapefile\n",
    "    with arcpy.da.SearchCursor(Funding_Dist, all_fields + funding_columns + ['SHAPE@']) as search_cursor:\n",
    "        for row in search_cursor:\n",
    "            # Extract values for fields that should remain unchanged\n",
    "            original_values = list(row[:len(all_fields)])\n",
    "            geometry = row[-1]  # Extract the geometry\n",
    "            \n",
    "            # Iterate through each funding column\n",
    "            for idx, funding_column in enumerate(funding_columns, start=len(all_fields)):\n",
    "                funding_amount = row[idx]  # Access the funding amount from the corresponding column\n",
    "                \n",
    "                # Insert a new row if the funding amount is greater than 0\n",
    "                if funding_amount > 0:\n",
    "                    insert_cursor.insertRow(original_values + [funding_column, funding_amount, geometry])\n",
    "\n",
    "print(\"Restructuring completed.\")"
   ]
  },
  {
   "cell_type": "markdown",
   "metadata": {},
   "source": [
    "### Check program totals"
   ]
  },
  {
   "cell_type": "code",
   "execution_count": 128,
   "metadata": {},
   "outputs": [
    {
     "name": "stdout",
     "output_type": "stream",
     "text": [
      "The total sum calculated for all funding fields is: 12,775,208,202.74934\n"
     ]
    }
   ],
   "source": [
    "# check program total sum of individual summed fields for long version \n",
    "    # paste this list from above output\n",
    "\n",
    "# Define the columns to sum\n",
    "funding_columns = [\n",
    "'sum_group_1', 'sum_group_2', 'sum_group_3', 'sum_group_4', 'sum_group_5', 'sum_group_7', 'sum_group_8',\n",
    "    'sum_group_9', 'sum_group_10', 'sum_group_11', 'sum_group_14', 'sum_group_41', 'sum_group_45', 'sum_group_68',\n",
    "    'sum_group_72', 'sum_group_76', 'sum_group_78', 'sum_group_80', 'sum_group_82', 'sum_group_86', 'sum_group_88',\n",
    "    'sum_group_90', 'sum_group_120', 'sum_group_124', 'sum_group_128', 'sum_group_130', 'sum_group_132', 'sum_group_134',\n",
    "    'sum_group_136', 'sum_group_138', 'sum_group_142', 'sum_group_148', 'sum_group_189', 'sum_group_191', 'sum_group_193',\n",
    "    'sum_group_235', 'sum_group_237', 'sum_group_239', 'sum_group_243', 'sum_group_245', 'sum_group_247', 'sum_group_249',\n",
    "    'sum_group_251', 'sum_group_253', 'sum_group_255', 'sum_group_257', 'sum_group_259', 'sum_group_261', 'sum_group_263',\n",
    "    'sum_group_265', 'sum_group_267', 'sum_group_331', 'sum_group_333', 'sum_group_335', 'sum_group_337', 'sum_group_339',\n",
    "    'sum_group_341', 'sum_group_345', 'sum_group_471', 'sum_group_475', 'sum_group_477', 'sum_group_479', 'sum_group_549',\n",
    "    'sum_group_613', 'sum_group_615', 'sum_group_617', 'sum_group_619', 'sum_group_621', 'sum_group_690', 'sum_group_695',\n",
    "    'sum_group_765', 'sum_group_837', 'sum_group_839', 'sum_group_981', 'sum_group_1136', 'sum_group_1140', 'sum_group_1144',\n",
    "    'sum_group_1291', 'sum_group_1309', 'sum_group_1327', 'sum_group_1399', 'sum_group_1417', 'sum_group_1435'\n",
    "]\n",
    "\n",
    "# Initialize total sum\n",
    "total_sum = 0\n",
    "\n",
    "# Use a search cursor to iterate over the records and sum the values\n",
    "with arcpy.da.SearchCursor(Funding_Dist, funding_columns) as cursor:\n",
    "    for row in cursor:\n",
    "        for value in row:\n",
    "            if value is not None:  # Ensure value is not NULL\n",
    "                total_sum += value\n",
    "\n",
    "# Print the final summed total\n",
    "print(f\"The total sum calculated for all funding fields is: {total_sum:,}\")"
   ]
  },
  {
   "cell_type": "code",
   "execution_count": 129,
   "metadata": {},
   "outputs": [
    {
     "name": "stdout",
     "output_type": "stream",
     "text": [
      "The total sum calculated for the program funding field is: 12,775,208,202.74934\n"
     ]
    }
   ],
   "source": [
    "# check sum of final program total column\n",
    "\n",
    "# Define the column to sum\n",
    "funding_column = \"Funding_Amount\"\n",
    "\n",
    "# Initialize total sum\n",
    "total_sum = 0\n",
    "\n",
    "# Use a search cursor to iterate over the records and sum the values\n",
    "with arcpy.da.SearchCursor(Funding_Dist_long, [funding_column]) as cursor:\n",
    "    for row in cursor:\n",
    "        if row[0] is not None:  # Ensure value is not NULL\n",
    "            total_sum += row[0]\n",
    "\n",
    "# Print the final summed total\n",
    "print(f\"The total sum calculated for the program funding field is: {total_sum:,}\")"
   ]
  },
  {
   "cell_type": "markdown",
   "metadata": {},
   "source": [
    "### Add \"all CA\" rows"
   ]
  },
  {
   "cell_type": "code",
   "execution_count": 130,
   "metadata": {},
   "outputs": [
    {
     "name": "stdout",
     "output_type": "stream",
     "text": [
      "Funding_Amount updated from GGRF where blank, and Program_Name set to 'All California'.\n"
     ]
    }
   ],
   "source": [
    "# Use the original columns from the \"wide\" format to fill in the new ALL CA cateogry in the Funding_Amount and Project_Name fields\n",
    "target_field = \"Funding_Amount\"\n",
    "source_field = \"GGRF\"\n",
    "constant_field = \"Program_Name\"\n",
    "constant_value = \"All California\"\n",
    "\n",
    "with arcpy.da.UpdateCursor(Funding_Dist_long, [target_field, source_field, constant_field]) as cursor:\n",
    "    for row in cursor:\n",
    "        if row[0] in [None, \"\", \" \"]:\n",
    "            row[0] = row[1]\n",
    "            row[2] = constant_value  # set FieldC\n",
    "            cursor.updateRow(row)\n",
    "\n",
    "print(f\"{target_field} updated from {source_field} where blank, and {constant_field} set to '{constant_value}'.\")\n"
   ]
  },
  {
   "cell_type": "markdown",
   "metadata": {},
   "source": [
    "### Delete unneeded columns & rows"
   ]
  },
  {
   "cell_type": "code",
   "execution_count": 131,
   "metadata": {},
   "outputs": [
    {
     "name": "stdout",
     "output_type": "stream",
     "text": [
      "All specified funding columns have been processed and deleted.\n"
     ]
    }
   ],
   "source": [
    "# Delete the individual funding columns\n",
    "for column in funding_columns:\n",
    "    if arcpy.ListFields(Funding_Dist_long, column): \n",
    "        arcpy.DeleteField_management(Funding_Dist_long, column)\n",
    "\n",
    "# Print completion message\n",
    "print(\"All specified funding columns have been processed and deleted.\")"
   ]
  },
  {
   "cell_type": "code",
   "execution_count": 132,
   "metadata": {},
   "outputs": [
    {
     "name": "stdout",
     "output_type": "stream",
     "text": [
      "Fields deleted successfully.\n"
     ]
    }
   ],
   "source": [
    "# delete additional unneeded fields\n",
    "\n",
    "# List of fields to delete for \"long\" version (UPDATE with information from above re: new fields)\n",
    "fields_to_delete = ['CT_NOPPGGRF_4', 'CT_NOPPGGRF_8', 'CT_NOPPGGRF_9', 'CT_NOPPGGRF_80', 'CT_NOPPGGRF_82', 'CT_NOPPGGRF_88', \n",
    "                    'CT_NOPPGGRF_90', 'CT_NOPPGGRF_128', 'CT_NOPPGGRF_337', 'CT_NOPPGGRF_1136', 'CT_PPGGRF_4', 'CT_PPGGRF_8', \n",
    "                    'CT_PPGGRF_9', 'CT_PPGGRF_80', 'CT_PPGGRF_82', 'CT_PPGGRF_88', 'CT_PPGGRF_90', 'CT_PPGGRF_128', \n",
    "                    'CT_PPGGRF_189', 'CT_PPGGRF_329', 'CT_PPGGRF_337', 'CT_PPGGRF_837', 'Poly_NOPPGGRF_68', 'Poly_NOPPGGRF_78',\n",
    "                    'Poly_NOPPGGRF_86', 'Poly_NOPPGGRF_251', 'Poly_NOPPGGRF_265', 'Poly_NOPPGGRF_345', 'Poly_NOPPGGRF_549',\n",
    "                    'Poly_NOPPGGRF_695', 'Poly_PPGGRF_7', 'Poly_PPGGRF_68', 'Poly_PPGGRF_78', 'Poly_PPGGRF_251', \n",
    "                    'Poly_PPGGRF_265', 'Poly_PPGGRF_695', 'Point_NOPPGGRF_1', 'Point_NOPPGGRF_2', 'Point_NOPPGGRF_3', \n",
    "                    'Point_NOPPGGRF_5', 'Point_NOPPGGRF_11', 'Point_NOPPGGRF_14', 'Point_NOPPGGRF_41', 'Point_NOPPGGRF_45', \n",
    "                    'Point_NOPPGGRF_68', 'Point_NOPPGGRF_72', 'Point_NOPPGGRF_76', 'Point_NOPPGGRF_78', 'Point_NOPPGGRF_86',\n",
    "                    'Point_NOPPGGRF_124', 'Point_NOPPGGRF_132', 'Point_NOPPGGRF_134', 'Point_NOPPGGRF_136', 'Point_NOPPGGRF_138',\n",
    "                    'Point_NOPPGGRF_142', 'Point_NOPPGGRF_148', 'Point_NOPPGGRF_191', 'Point_NOPPGGRF_193', 'Point_NOPPGGRF_235',\n",
    "                    'Point_NOPPGGRF_237', 'Point_NOPPGGRF_239', 'Point_NOPPGGRF_243', 'Point_NOPPGGRF_245', 'Point_NOPPGGRF_247',\n",
    "                    'Point_NOPPGGRF_249', 'Point_NOPPGGRF_251', 'Point_NOPPGGRF_253', 'Point_NOPPGGRF_255', 'Point_NOPPGGRF_257',\n",
    "                    'Point_NOPPGGRF_259', 'Point_NOPPGGRF_261', 'Point_NOPPGGRF_263', 'Point_NOPPGGRF_265', 'Point_NOPPGGRF_331',\n",
    "                    'Point_NOPPGGRF_333', 'Point_NOPPGGRF_335', 'Point_NOPPGGRF_339', 'Point_NOPPGGRF_341', 'Point_NOPPGGRF_345',\n",
    "                    'Point_NOPPGGRF_471', 'Point_NOPPGGRF_475', 'Point_NOPPGGRF_477', 'Point_NOPPGGRF_479', 'Point_NOPPGGRF_547',\n",
    "                    'Point_NOPPGGRF_549', 'Point_NOPPGGRF_613', 'Point_NOPPGGRF_615', 'Point_NOPPGGRF_617', 'Point_NOPPGGRF_619',\n",
    "                    'Point_NOPPGGRF_621', 'Point_NOPPGGRF_690', 'Point_NOPPGGRF_765', 'Point_NOPPGGRF_839', 'Point_NOPPGGRF_981',\n",
    "                    'Point_NOPPGGRF_1140', 'Point_NOPPGGRF_1144', 'Point_NOPPGGRF_1291', 'Point_NOPPGGRF_1309',\n",
    "                    'Point_NOPPGGRF_1327', 'Point_NOPPGGRF_1399', 'Point_NOPPGGRF_1417', 'Point_NOPPGGRF_1435', \n",
    "                    'Point_PPGGRF_1', 'Point_PPGGRF_3', 'Point_PPGGRF_5', 'Point_PPGGRF_7', 'Point_PPGGRF_10', \n",
    "                    'Point_PPGGRF_11', 'Point_PPGGRF_14', 'Point_PPGGRF_41', 'Point_PPGGRF_45', 'Point_PPGGRF_68', \n",
    "                    'Point_PPGGRF_76', 'Point_PPGGRF_78', 'Point_PPGGRF_86', 'Point_PPGGRF_120', 'Point_PPGGRF_124',\n",
    "                    'Point_PPGGRF_130', 'Point_PPGGRF_132', 'Point_PPGGRF_134', 'Point_PPGGRF_136', 'Point_PPGGRF_138',\n",
    "                    'Point_PPGGRF_142', 'Point_PPGGRF_148', 'Point_PPGGRF_191', 'Point_PPGGRF_193', 'Point_PPGGRF_235', \n",
    "                    'Point_PPGGRF_237', 'Point_PPGGRF_239', 'Point_PPGGRF_245', 'Point_PPGGRF_247', 'Point_PPGGRF_251',\n",
    "                    'Point_PPGGRF_253', 'Point_PPGGRF_257', 'Point_PPGGRF_259', 'Point_PPGGRF_261', 'Point_PPGGRF_263', \n",
    "                    'Point_PPGGRF_265', 'Point_PPGGRF_267', 'Point_PPGGRF_269', 'Point_PPGGRF_271', 'Point_PPGGRF_333',\n",
    "                    'Point_PPGGRF_335', 'Point_PPGGRF_339', 'Point_PPGGRF_341', 'Point_PPGGRF_345', 'Point_PPGGRF_471', \n",
    "                    'Point_PPGGRF_475', 'Point_PPGGRF_479', 'Point_PPGGRF_547', 'Point_PPGGRF_549', 'Point_PPGGRF_613',\n",
    "                    'Point_PPGGRF_619', 'Point_PPGGRF_621', 'Point_PPGGRF_690', 'Point_PPGGRF_695', 'Point_PPGGRF_765',\n",
    "                    'Point_PPGGRF_1291', 'Point_PPGGRF_1309', 'Point_PPGGRF_1327', 'Point_PPGGRF_1417', 'Point_PPGGRF_1435',\n",
    "                    'Line_NOPPGGRF_68', 'Line_NOPPGGRF_78', 'Line_NOPPGGRF_549', 'Line_PPGGRF_68', 'Line_PPGGRF_78', 'CCIpc',\n",
    "                    'CCIpcPct', 'CCIpcDecile', 'CCIpcQuartile','GGRF']\n",
    "\n",
    "# Delete fields\n",
    "try:\n",
    "    arcpy.DeleteField_management(Funding_Dist_long, fields_to_delete)\n",
    "    print(\"Fields deleted successfully.\")\n",
    "except Exception as e:\n",
    "    print(f\"An error occurred: {e}\")"
   ]
  },
  {
   "cell_type": "markdown",
   "metadata": {},
   "source": [
    "### Add additional fields needed for 'long' version"
   ]
  },
  {
   "cell_type": "markdown",
   "metadata": {},
   "source": [
    "#### Demographic percentage range columns"
   ]
  },
  {
   "cell_type": "code",
   "execution_count": 133,
   "metadata": {},
   "outputs": [
    {
     "name": "stdout",
     "output_type": "stream",
     "text": [
      "Demographic range fields updated successfully.\n"
     ]
    }
   ],
   "source": [
    "# Add demographic percentage columns\n",
    "demographic_columns = [\"Hispanic\", \"White\", \"African_American\", \"Native_American\", \"Other_Multiple\", \n",
    "                       \"Pacific_Islander\", \"Asian_American\"]\n",
    "\n",
    "# Add new fields to hold the range label for each demographic column\n",
    "for column in demographic_columns:\n",
    "    range_field_name = f\"{column}_Range\"\n",
    "    arcpy.AddField_management(Funding_Dist_long, range_field_name, \"TEXT\", field_length=20)\n",
    "\n",
    "# Populate the new fields with the appropriate range label\n",
    "with arcpy.da.UpdateCursor(Funding_Dist_long, demographic_columns + [f\"{col}_Range\" for col in demographic_columns]) as cursor:\n",
    "    for row in cursor:\n",
    "        for col_index, column in enumerate(demographic_columns):\n",
    "            percent_value = row[col_index]\n",
    "            if percent_value is not None:\n",
    "                # Determine the range the value falls into\n",
    "                for i in range(1, 11):\n",
    "                    range_start = (i - 1) * 10\n",
    "                    range_end = i * 10\n",
    "                    if range_start <= percent_value < range_end or (i == 10 and percent_value == 100): \n",
    "                        range_label = f\"{range_start}-{range_end}%\"\n",
    "                        range_field_index = len(demographic_columns) + col_index\n",
    "                        row[range_field_index] = range_label\n",
    "                        break\n",
    "            else:\n",
    "                # If the value is None, leave the range field blank\n",
    "                range_field_index = len(demographic_columns) + col_index\n",
    "                row[range_field_index] = None\n",
    "        cursor.updateRow(row)\n",
    "\n",
    "print(\"Demographic range fields updated successfully.\")"
   ]
  },
  {
   "cell_type": "markdown",
   "metadata": {},
   "source": [
    "#### Per capita column (updated from 'wide' version)"
   ]
  },
  {
   "cell_type": "code",
   "execution_count": 134,
   "metadata": {},
   "outputs": [
    {
     "name": "stdout",
     "output_type": "stream",
     "text": [
      "Per capita funding values have been calculated and stored in the field 'CCIpc_prgm'.\n"
     ]
    }
   ],
   "source": [
    "# Update the per capita column for \"long\" version\n",
    "\n",
    "input_field = \"Funding_Amount\"\n",
    "population_field = \"Population\"\n",
    "per_capita_field = \"CCIpc_prgm\"\n",
    "\n",
    "# Add the new per capita field \n",
    "if per_capita_field not in [f.name for f in arcpy.ListFields(Funding_Dist_long)]:\n",
    "    arcpy.AddField_management(Funding_Dist_long, per_capita_field, \"DOUBLE\") \n",
    "\n",
    "# Calculate per capita funding\n",
    "with arcpy.da.UpdateCursor(Funding_Dist_long, [input_field, population_field, per_capita_field]) as cursor:\n",
    "    for row in cursor:\n",
    "        funding = row[0]\n",
    "        population = row[1]\n",
    "\n",
    "        # Check if population is valid and non-zero\n",
    "        if population and population > 0:\n",
    "            row[2] = funding / population  # Calculate per capita funding\n",
    "        else:\n",
    "            row[2] = None  # Assign NULL if population is 0 or None\n",
    "\n",
    "        cursor.updateRow(row)\n",
    "\n",
    "print(f\"Per capita funding values have been calculated and stored in the field '{per_capita_field}'.\")"
   ]
  },
  {
   "cell_type": "markdown",
   "metadata": {},
   "source": [
    "#### Program names"
   ]
  },
  {
   "cell_type": "code",
   "execution_count": 135,
   "metadata": {},
   "outputs": [
    {
     "name": "stdout",
     "output_type": "stream",
     "text": [
      "Program_Name values renamed successfully.\n"
     ]
    }
   ],
   "source": [
    "# Map old names in Program_Name to new descriptive names\n",
    "    # *Update with new program names* \n",
    "column_mapping = {\n",
    "\"All California\": \"<All Programs>\", \n",
    "\"sum_group_1\": \"Dairy Digester Research and Development Program\",\n",
    "\"sum_group_2\": \"Renewable and Alternative Fuels\",\n",
    "\"sum_group_3\": \"State Water Efficiency and Enhancement Program\",\n",
    "\"sum_group_4\": \"Clean Vehicle Rebate Project\",\n",
    "\"sum_group_5\": \"Clean Truck and Bus Vouchers (HVIP)\",\n",
    "\"sum_group_7\": \"Clean Mobility Options\",\n",
    "\"sum_group_8\": \"Clean Cars 4 All\",\n",
    "\"sum_group_9\": \"Financing Assistance for Lower-Income Consumers\",\n",
    "\"sum_group_10\":  \"Advanced Technology Demonstration and Pilot Projects\",\n",
    "\"sum_group_11\": \"Zero-Emission Truck and Bus Pilot\",\n",
    "\"sum_group_14\": \"Sustainable Agricultural Lands Conservation Program\",\n",
    "\"sum_group_41\": \"Affordable Housing and Sustainable Communities Program\",\n",
    "\"sum_group_45\": \"Urban and Community Forestry\",\n",
    "\"sum_group_68\": \"Low Carbon Transit Operations Program\",\n",
    "\"sum_group_72\": \"State Water Project Turbines\",\n",
    "\"sum_group_76\": \"Wetlands and Watershed Restoration\",\n",
    "\"sum_group_78\": \"Transit and Intercity Rail Capital Program\",\n",
    "\"sum_group_80\": \"Single-Family Solar Photovoltaics (PV)\",\n",
    "\"sum_group_82\": \"Water-Energy Grant Program\",\n",
    "\"sum_group_86\": \"Forest Health Program\",\n",
    "\"sum_group_88\": \"Single-Family Energy Efficiency and Solar PV\",\n",
    "\"sum_group_90\": \"Multi-Family Energy Efficiency and Renewables\",\n",
    "\"sum_group_120\": \"Agricultural Worker Vanpools\",\n",
    "\"sum_group_124\": \"Rural School Bus Pilot Projects\",\n",
    "\"sum_group_128\": \"Woodsmoke Reduction Program\",\n",
    "\"sum_group_130\": \"Active Transportation Program\",\n",
    "\"sum_group_132\": \"Organics and Recycling Loans\",\n",
    "\"sum_group_134\": \"Recycled Fiber, Plastic, and Glass Grant Program\",\n",
    "\"sum_group_136\": \"Food Waste Prevention and Rescue Grants\",\n",
    "\"sum_group_138\": \"Urban Greening Program\",\n",
    "\"sum_group_142\":  \"Transformative Climate Communities\",\n",
    "\"sum_group_148\": \"Organics Grants\",\n",
    "\"sum_group_189\": \"Community Solar Pilot\",\n",
    "\"sum_group_191\": \"Alternative Manure Management Program\",\n",
    "\"sum_group_193\": \"Healthy Soils Program\",\n",
    "\"sum_group_235\": \"Community Air Protection Incentives\",\n",
    "\"sum_group_237\": \"Funding Agricultural Replacement Measures for Emission Reductions Program\",\n",
    "\"sum_group_239\": \"Coastal Resilience Planning\",\n",
    "\"sum_group_243\": \"Climate Change Adaptation and Coastal Resilience Planning\",\n",
    "\"sum_group_245\": \"Wildfire Prevention Program\",\n",
    "\"sum_group_247\": \"Wildfire Prevention Grants Program\",\n",
    "\"sum_group_249\": \"Wildfire Response and Readiness\",\n",
    "\"sum_group_251\": \"Climate Adaptation and Resiliency Program\",\n",
    "\"sum_group_253\": \"Climate Ready Program\",\n",
    "\"sum_group_255\": \"Climate Change Research Program\",\n",
    "\"sum_group_257\": \"Food Production Investment Program\",\n",
    "\"sum_group_259\": \"Renewable Energy for Agriculture Program\",\n",
    "\"sum_group_261\": \"Training and Workforce Development Program\",\n",
    "\"sum_group_263\": \"Clean Off Road Equipment Voucher Incentive Project\",\n",
    "\"sum_group_265\": \"Community Air Grants\",\n",
    "\"sum_group_267\": \"Zero-and Near Zero-Emission Freight Facilities Project\",\n",
    "\"sum_group_331\": \"Prescribed Fire and Smoke Monitoring Program\",\n",
    "\"sum_group_333\": \"Fuels Reduction Crews\", \n",
    "\"sum_group_335\": \"Low-Carbon Fuel Production Program\",\n",
    "\"sum_group_337\": \"​Farmworker Housing Energy Efficiency & Solar PV​\",\n",
    "\"sum_group_339\": \"Regional Forest and Fire Capacity\",\n",
    "\"sum_group_341\": \"Community Assistance for Climate Equity Program\",\n",
    "\"sum_group_345\": \"Clean Mobility in Schools Project\",\n",
    "\"sum_group_471\": \"Outreach, Education, and Awareness\",\n",
    "\"sum_group_475\": \"Fluorinated Gases Emission Reduction Incentives\",\n",
    "\"sum_group_477\": \"Transition to a Carbon-Neutral Economy\",\n",
    "\"sum_group_479\": \"Forest Health Research and Monitoring\",\n",
    "\"sum_group_549\": \"Safe and Affordable Drinking Water Fund\",\n",
    "\"sum_group_613\":  \"High Road Training Partnerships\",\n",
    "\"sum_group_615\": \"Fire Engines and Maintenance\",\n",
    "\"sum_group_617\": \"AB617 Implementation Funds\",\n",
    "\"sum_group_619\": \"Community Composting for Green Spaces Grant Program\",\n",
    "\"sum_group_621\": \"Community Fire Planning and Preparedness\",\n",
    "\"sum_group_690\": \"Reuse Grant Program\",\n",
    "\"sum_group_695\": \"Sustainable Transportation Equity Project\",\n",
    "\"sum_group_765\": \"Climate Smart Agriculture Technical Assistance Program\",\n",
    "\"sum_group_837\": \"IDEAL ZEV Workforce Pilot Project\",\n",
    "\"sum_group_839\": \"SB 1383 Local Assistance Grant Program\",\n",
    "\"sum_group_981\": \"Co-Digestion Grant Program\",\n",
    "\"sum_group_1136\": \"Statewide Mobile Monitoring Initiative\",\n",
    "\"sum_group_1140\": \"California Schools Healthy Air, Plumbing and Efficiency Program (CALSHAPE)\",\n",
    "\"sum_group_1144\": \"Sea Level Rise Adaptation Plans\",\n",
    "\"sum_group_1291\": \"Demonstration State Forests\",\n",
    "\"sum_group_1309\": \"Miscellaneous Support and Special Projects for CAL FIRE Vegetation Management and Incident Response\",\n",
    "\"sum_group_1327\": \"Forest Legacy\",\n",
    "\"sum_group_1399\": \"Business and Workforce Development\",\n",
    "\"sum_group_1417\": \"California Forest Improvement Program\",\n",
    "\"sum_group_1435\": \"Wildfire Resilience (Various)\"}\n",
    "\n",
    "# Update the Program_Name field\n",
    "with arcpy.da.UpdateCursor(Funding_Dist_long, [\"Program_Name\"]) as cursor:\n",
    "    for row in cursor:\n",
    "        if row[0] in column_mapping:\n",
    "            row[0] = column_mapping[row[0]]  # Replace with the new name\n",
    "            cursor.updateRow(row)\n",
    "\n",
    "print(\"Program_Name values renamed successfully.\")"
   ]
  },
  {
   "cell_type": "code",
   "execution_count": 136,
   "metadata": {},
   "outputs": [
    {
     "name": "stdout",
     "output_type": "stream",
     "text": [
      "Sum divided by 2: 12,775,208,202.7491\n"
     ]
    }
   ],
   "source": [
    "# Final check of long version GGRF total\n",
    "\n",
    "total = 0\n",
    "\n",
    "with arcpy.da.SearchCursor(Funding_Dist_long, [\"Funding_Amount\"]) as cursor:\n",
    "    for row in cursor:\n",
    "        if row[0] is not None:\n",
    "            total += row[0]\n",
    "\n",
    "print(\"Sum divided by 2: {:,}\".format(total / 2))"
   ]
  },
  {
   "cell_type": "markdown",
   "metadata": {},
   "source": [
    "## Save both formats as layer packages"
   ]
  },
  {
   "cell_type": "code",
   "execution_count": 137,
   "metadata": {},
   "outputs": [
    {
     "name": "stdout",
     "output_type": "stream",
     "text": [
      "Feature layer 'FeatureLayer_Long' created successfully.\n",
      "Layer package saved successfully at: C:\\Users\\gcowan\\Documents\\ArcGIS\\Projects\\Distribution Analysis\\Data Restructure\\Funding_Distribution_AR25\\Final Code Outputs\\Funding_Dist_long.lpkx\n",
      "Temporary layer 'FeatureLayer_Long' deleted.\n",
      "Feature layer 'FeatureLayer_Wide' created successfully.\n",
      "Layer package saved successfully at: C:\\Users\\gcowan\\Documents\\ArcGIS\\Projects\\Distribution Analysis\\Data Restructure\\Funding_Distribution_AR25\\Final Code Outputs\\Funding_Dist_wide.lpkx\n",
      "Temporary layer 'FeatureLayer_Wide' deleted.\n"
     ]
    }
   ],
   "source": [
    "# Define paths\n",
    "Funding_Dist_wide = f\"{project_gdb}\\\\Funding_Dist_{suffix}_wide\"\n",
    "Funding_Dist_long = f\"{project_gdb}\\\\Funding_Dist_{suffix}_long\"\n",
    "\n",
    "layer_long_name = \"FeatureLayer_Long\"\n",
    "layer_wide_name = \"FeatureLayer_Wide\"\n",
    "\n",
    "FundingDist_lpkx_long = r\"C:\\Users\\gcowan\\Documents\\ArcGIS\\Projects\\Distribution Analysis\\Data Restructure\\Funding_Distribution_AR25\\Final Code Outputs\\Funding_Dist_long.lpkx\"\n",
    "FundingDist_lpkx_wide = r\"C:\\Users\\gcowan\\Documents\\ArcGIS\\Projects\\Distribution Analysis\\Data Restructure\\Funding_Distribution_AR25\\Final Code Outputs\\Funding_Dist_wide.lpkx\"\n",
    "\n",
    "# Save 'long' version layer package\n",
    "try:\n",
    "    # Step 1: Create a feature layer\n",
    "    arcpy.management.MakeFeatureLayer(Funding_Dist_long, layer_long_name)\n",
    "    print(f\"Feature layer '{layer_long_name}' created successfully.\")\n",
    "\n",
    "    # Step 2: Create a layer package\n",
    "    arcpy.management.PackageLayer(layer_long_name, FundingDist_lpkx_long, \"PRESERVE\", \"CONVERT_ARCSDE\", \"DEFAULT\", \"ALL\")\n",
    "    print(f\"Layer package saved successfully at: {FundingDist_lpkx_long}\")\n",
    "\n",
    "except Exception as e:\n",
    "    print(f\"An error occurred: {e}\")\n",
    "\n",
    "finally:\n",
    "    # Cleanup: Delete the temporary layer\n",
    "    if arcpy.Exists(layer_long_name):\n",
    "        arcpy.management.Delete(layer_long_name)\n",
    "        print(f\"Temporary layer '{layer_long_name}' deleted.\")\n",
    "\n",
    "# Save 'wide' version layer package\n",
    "try:\n",
    "    # Step 1: Create a feature layer\n",
    "    arcpy.management.MakeFeatureLayer(Funding_Dist_wide, layer_wide_name)\n",
    "    print(f\"Feature layer '{layer_wide_name}' created successfully.\")\n",
    "\n",
    "    # Step 2: Create a layer package\n",
    "    arcpy.management.PackageLayer(layer_wide_name, FundingDist_lpkx_wide, \"PRESERVE\", \"CONVERT_ARCSDE\", \"DEFAULT\", \"ALL\")\n",
    "    print(f\"Layer package saved successfully at: {FundingDist_lpkx_wide}\")\n",
    "\n",
    "except Exception as e:\n",
    "    print(f\"An error occurred: {e}\")\n",
    "\n",
    "finally:\n",
    "    # Cleanup: Delete the temporary layer\n",
    "    if arcpy.Exists(layer_wide_name):\n",
    "        arcpy.management.Delete(layer_wide_name)\n",
    "        print(f\"Temporary layer '{layer_wide_name}' deleted.\")"
   ]
  },
  {
   "cell_type": "markdown",
   "metadata": {},
   "source": [
    "## Restructure Data to Aggregate by Census Tract"
   ]
  },
  {
   "cell_type": "markdown",
   "metadata": {},
   "source": [
    "### Add additional fields needed for CT version"
   ]
  },
  {
   "cell_type": "markdown",
   "metadata": {},
   "source": [
    "#### LIC Funding Field"
   ]
  },
  {
   "cell_type": "code",
   "execution_count": 154,
   "metadata": {},
   "outputs": [
    {
     "name": "stdout",
     "output_type": "stream",
     "text": [
      "LIC funding field added\n"
     ]
    }
   ],
   "source": [
    "# Name of the new field\n",
    "new_field = \"LIC_Funding\"\n",
    "\n",
    "# Add the new field if it doesn't exist\n",
    "field_names = [f.name for f in arcpy.ListFields(Funding_Dist_long)]\n",
    "if new_field not in field_names:\n",
    "    arcpy.management.AddField(Funding_Dist_long, new_field, \"DOUBLE\")\n",
    "\n",
    "# Keywords to search for (case-insensitive)\n",
    "lic_keywords = [\"low-income community\", \"Low-income community\"]\n",
    "\n",
    "# Update the new field where Designation includes any LIC keyword\n",
    "with arcpy.da.UpdateCursor(Funding_Dist_long, [\"Designation\", \"Funding_Amount\", new_field]) as cursor:\n",
    "    for row in cursor:\n",
    "        designation = (row[0] or \"\").lower()\n",
    "        if any(keyword in designation for keyword in lic_keywords):\n",
    "            row[2] = row[1]\n",
    "        else:\n",
    "            row[2] = 0\n",
    "        cursor.updateRow(row)\n",
    "\n",
    "print(\"LIC funding field added\")"
   ]
  },
  {
   "cell_type": "markdown",
   "metadata": {},
   "source": [
    "#### DAC Funding Field"
   ]
  },
  {
   "cell_type": "code",
   "execution_count": 155,
   "metadata": {},
   "outputs": [
    {
     "name": "stdout",
     "output_type": "stream",
     "text": [
      "DAC funding field added\n"
     ]
    }
   ],
   "source": [
    "new_field = \"DAC_Funding\"\n",
    "\n",
    "# Add the new field if it doesn't exist\n",
    "field_names = [f.name for f in arcpy.ListFields(Funding_Dist_long)]\n",
    "if new_field not in field_names:\n",
    "    arcpy.management.AddField(Funding_Dist_long, new_field, \"DOUBLE\")\n",
    "\n",
    "# Update the new field where Designation includes \"Low-Income Community\"\n",
    "with arcpy.da.UpdateCursor(Funding_Dist_long, [\"Designation\", \"Funding_Amount\", new_field]) as cursor:\n",
    "    for row in cursor:\n",
    "        if \"Disadvantaged\" in (row[0] or \"\"):\n",
    "            row[2] = row[1]\n",
    "        else:\n",
    "            row[2] = 0\n",
    "        cursor.updateRow(row)\n",
    "\n",
    "print(\"DAC funding field added\")"
   ]
  },
  {
   "cell_type": "markdown",
   "metadata": {},
   "source": [
    "#### DAC 1/2 Mile Neighbor LIC Funding Field"
   ]
  },
  {
   "cell_type": "code",
   "execution_count": 156,
   "metadata": {},
   "outputs": [
    {
     "name": "stdout",
     "output_type": "stream",
     "text": [
      "DAC 1/2 mile LIC funding field added\n"
     ]
    }
   ],
   "source": [
    "new_field = \"DACN_LIC_Funding\"\n",
    "\n",
    "# Add the new field if it doesn't exist\n",
    "field_names = [f.name for f in arcpy.ListFields(Funding_Dist_long)]\n",
    "if new_field not in field_names:\n",
    "    arcpy.management.AddField(Funding_Dist_long, new_field, \"DOUBLE\")\n",
    "\n",
    "# Update the new field where Designation includes \"Low-Income Community\"\n",
    "with arcpy.da.UpdateCursor(Funding_Dist_long, [\"Designation\", \"Funding_Amount\", new_field]) as cursor:\n",
    "    for row in cursor:\n",
    "        if \"DAC 1/2 mile neighbor: low-income community\" in (row[0] or \"\"):\n",
    "            row[2] = row[1]\n",
    "        else:\n",
    "            row[2] = 0\n",
    "        cursor.updateRow(row)\n",
    "\n",
    "print(\"DAC 1/2 mile LIC funding field added\")"
   ]
  },
  {
   "cell_type": "markdown",
   "metadata": {},
   "source": [
    "#### DAC 1/2 Neighbor LIH Funding Field"
   ]
  },
  {
   "cell_type": "code",
   "execution_count": 157,
   "metadata": {},
   "outputs": [
    {
     "name": "stdout",
     "output_type": "stream",
     "text": [
      "DAC 1/2 mile LIH funding field added\n"
     ]
    }
   ],
   "source": [
    "new_field = \"DACN_LIH_Funding\"\n",
    "\n",
    "# Add the new field if it doesn't exist\n",
    "field_names = [f.name for f in arcpy.ListFields(Funding_Dist_long)]\n",
    "if new_field not in field_names:\n",
    "    arcpy.management.AddField(Funding_Dist_long, new_field, \"DOUBLE\")\n",
    "\n",
    "# Update the new field where Designation includes \"Low-Income Community\"\n",
    "with arcpy.da.UpdateCursor(Funding_Dist_long, [\"Designation\", \"Funding_Amount\", new_field]) as cursor:\n",
    "    for row in cursor:\n",
    "        if \"DAC 1/2 mile neighbor: low-income household eligible\" in (row[0] or \"\"):\n",
    "            row[2] = row[1]\n",
    "        else:\n",
    "            row[2] = 0\n",
    "        cursor.updateRow(row)\n",
    "\n",
    "print(\"DAC 1/2 mile LIH funding field added\")"
   ]
  },
  {
   "cell_type": "markdown",
   "metadata": {},
   "source": [
    "#### Not a Priority Population Funding Field"
   ]
  },
  {
   "cell_type": "code",
   "execution_count": 158,
   "metadata": {},
   "outputs": [
    {
     "name": "stdout",
     "output_type": "stream",
     "text": [
      "No PP funding field added\n"
     ]
    }
   ],
   "source": [
    "new_field = \"NOPP_Funding\"\n",
    "\n",
    "# Add the new field if it doesn't exist\n",
    "field_names = [f.name for f in arcpy.ListFields(Funding_Dist_long)]\n",
    "if new_field not in field_names:\n",
    "    arcpy.management.AddField(Funding_Dist_long, new_field, \"DOUBLE\")\n",
    "\n",
    "# Update the new field where Designation includes \"Low-Income Community\"\n",
    "with arcpy.da.UpdateCursor(Funding_Dist_long, [\"Designation\", \"Funding_Amount\", new_field]) as cursor:\n",
    "    for row in cursor:\n",
    "        if \"Low-income household eligible\" in (row[0] or \"\"):\n",
    "            row[2] = row[1]\n",
    "        else:\n",
    "            row[2] = 0\n",
    "        cursor.updateRow(row)\n",
    "\n",
    "print(\"No PP funding field added\")"
   ]
  },
  {
   "cell_type": "markdown",
   "metadata": {},
   "source": [
    "#### Tribal Funding"
   ]
  },
  {
   "cell_type": "code",
   "execution_count": 159,
   "metadata": {},
   "outputs": [
    {
     "name": "stdout",
     "output_type": "stream",
     "text": [
      "Tribal funding field added\n"
     ]
    }
   ],
   "source": [
    "new_field = \"Tribal_Funding\"\n",
    "\n",
    "# Add the new field if it doesn't exist\n",
    "field_names = [f.name for f in arcpy.ListFields(Funding_Dist_long)]\n",
    "if new_field not in field_names:\n",
    "    arcpy.management.AddField(Funding_Dist_long, new_field, \"DOUBLE\")\n",
    "\n",
    "# Update the new field where Designation includes \"Low-Income Community\"\n",
    "with arcpy.da.UpdateCursor(Funding_Dist_long, [\"Designation\", \"Funding_Amount\", new_field]) as cursor:\n",
    "    for row in cursor:\n",
    "        if \"Tribal\" in (row[0] or \"\"):\n",
    "            row[2] = row[1]\n",
    "        else:\n",
    "            row[2] = 0\n",
    "        cursor.updateRow(row)\n",
    "\n",
    "print(\"Tribal funding field added\")"
   ]
  },
  {
   "cell_type": "markdown",
   "metadata": {},
   "source": [
    "#### Check totals"
   ]
  },
  {
   "cell_type": "code",
   "execution_count": 166,
   "metadata": {},
   "outputs": [
    {
     "name": "stdout",
     "output_type": "stream",
     "text": [
      "LIC_Funding: 8,575,299,875.36\n",
      "DAC_Funding: 6,404,868,451.94\n",
      "DACN_LIC_Funding: 656,089,011.60\n",
      "DACN_LIH_Funding: 608,268,145.37\n",
      "NOPP_Funding: 2,745,787,049.97\n",
      "Tribal_Funding: 35,379,651.77\n"
     ]
    }
   ],
   "source": [
    "# Newly calculated field totals \n",
    "# Fields to sum\n",
    "fields_to_sum = [\n",
    "    \"LIC_Funding\",\n",
    "    \"DAC_Funding\",\n",
    "    \"DACN_LIC_Funding\",\n",
    "    \"DACN_LIH_Funding\",\n",
    "    \"NOPP_Funding\",\n",
    "    \"Tribal_Funding\"\n",
    "]\n",
    "\n",
    "# Dictionary to store the totals\n",
    "totals = {field: 0 for field in fields_to_sum}\n",
    "\n",
    "# Iterate over rows and sum values\n",
    "with arcpy.da.SearchCursor(Funding_Dist_long, fields_to_sum) as cursor:\n",
    "    for row in cursor:\n",
    "        for i, field in enumerate(fields_to_sum):\n",
    "            if row[i] is not None:\n",
    "                totals[field] += row[i]\n",
    "\n",
    "# Print results\n",
    "for field, total in totals.items():\n",
    "    print(f\"{field}: {total/2:,.2f}\")"
   ]
  },
  {
   "cell_type": "code",
   "execution_count": 167,
   "metadata": {},
   "outputs": [],
   "source": [
    "LIC_designations = {\n",
    "    \"DAC 1/2 mile neighbor: low-income community\",\n",
    "    \"Low-income community\",\n",
    "    \"Disadvantaged community: CES, Disadvantaged community: Tribal land, Low-income community\",\n",
    "    \"Disadvantaged community: CES, Low-income community\",\n",
    "    \"Disadvantaged community: Tribal land, Low-income community\"\n",
    "}\n",
    "\n",
    "DAC_designations = {\n",
    "    \"Disadvantaged community: CES\",\n",
    "    \"Disadvantaged community: CES, Disadvantaged community: Tribal land, Low-income community\",\n",
    "    \"Disadvantaged community: CES, Low-income community\",\n",
    "    \"Disadvantaged community: Tribal land\",\n",
    "    \"Disadvantaged community: Tribal land, Low-income community\"\n",
    "}\n",
    "\n",
    "DACN_LIC_designations = {\n",
    "    \"DAC 1/2 mile neighbor: low-income community\"\n",
    "}\n",
    "\n",
    "DACN_LIH_designations = {\n",
    "    \"DAC 1/2 mile neighbor: low-income household eligible\"\n",
    "}\n",
    "\n",
    "NOPP_designations = {\n",
    "    \"Low-income household eligible\"\n",
    "}\n",
    "\n",
    "tribal_designations = {\n",
    "    \"Disadvantaged community: CES, Disadvantaged community: Tribal land, Low-income community\",\n",
    "    \"Disadvantaged community: Tribal land\",\n",
    "    \"Disadvantaged community: Tribal land, Low-income community\"\n",
    "}\n"
   ]
  },
  {
   "cell_type": "code",
   "execution_count": 170,
   "metadata": {},
   "outputs": [
    {
     "name": "stdout",
     "output_type": "stream",
     "text": [
      "LIC Total Funding: 8,575,299,875.36\n",
      "DAC Total Funding: 6,404,868,451.94\n",
      "DACN_LIC Total Funding: 656,089,011.60\n",
      "DACN_LIH Total Funding: 608,268,145.37\n",
      "NOPP Total Funding: 2,745,787,049.97\n",
      "Tribal Total Funding: 35,379,651.77\n"
     ]
    }
   ],
   "source": [
    "# Dictionary of designation groups\n",
    "designation_groups = {\n",
    "    \"LIC\": LIC_designations,\n",
    "    \"DAC\": DAC_designations,\n",
    "    \"DACN_LIC\": DACN_LIC_designations,\n",
    "    \"DACN_LIH\": DACN_LIH_designations,\n",
    "    \"NOPP\": NOPP_designations,\n",
    "    \"Tribal\": tribal_designations\n",
    "}\n",
    "\n",
    "# Initialize totals\n",
    "totals = {key: 0 for key in designation_groups}\n",
    "\n",
    "# Cursor to iterate through records\n",
    "with arcpy.da.SearchCursor(Funding_Dist_long, [\"designation\", \"Funding_Amount\"]) as cursor:\n",
    "    for row in cursor:\n",
    "        designation = row[0]\n",
    "        amount = row[1] or 0\n",
    "        for group_name, designation_set in designation_groups.items():\n",
    "            if designation in designation_set:\n",
    "                totals[group_name] += amount\n",
    "\n",
    "# Print the results\n",
    "for group_name, total in totals.items():\n",
    "    print(f\"{group_name} Total Funding: {total/2:,.2f}\")\n"
   ]
  },
  {
   "cell_type": "markdown",
   "metadata": {},
   "source": [
    "### Aggregate by CT in a dataframe"
   ]
  },
  {
   "cell_type": "code",
   "execution_count": null,
   "metadata": {},
   "outputs": [
    {
     "data": {
      "text/html": [
       "<div>\n",
       "<style scoped>\n",
       "    .dataframe tbody tr th:only-of-type {\n",
       "        vertical-align: middle;\n",
       "    }\n",
       "\n",
       "    .dataframe tbody tr th {\n",
       "        vertical-align: top;\n",
       "    }\n",
       "\n",
       "    .dataframe thead th {\n",
       "        text-align: right;\n",
       "    }\n",
       "</style>\n",
       "<table border=\"1\" class=\"dataframe\">\n",
       "  <thead>\n",
       "    <tr style=\"text-align: right;\">\n",
       "      <th></th>\n",
       "      <th>Census_Tract</th>\n",
       "      <th>Program_Name</th>\n",
       "      <th>Funding_Amount</th>\n",
       "      <th>LIC_Funding</th>\n",
       "      <th>DAC_Funding</th>\n",
       "      <th>DACN_LIC_Funding</th>\n",
       "      <th>DACN_LIH_Funding</th>\n",
       "      <th>NOPP_Funding</th>\n",
       "      <th>Tribal_Funding</th>\n",
       "      <th>Population</th>\n",
       "      <th>...</th>\n",
       "      <th>Unemploy_Pctl</th>\n",
       "      <th>HousBurd_Pctl</th>\n",
       "      <th>PopCharP</th>\n",
       "      <th>Tribal_Name</th>\n",
       "      <th>African_American_Range</th>\n",
       "      <th>Native_American_Range</th>\n",
       "      <th>Other_Multiple_Range</th>\n",
       "      <th>Pacific_Islander_Range</th>\n",
       "      <th>Asian_American_Range</th>\n",
       "      <th>GEOID</th>\n",
       "    </tr>\n",
       "  </thead>\n",
       "  <tbody>\n",
       "    <tr>\n",
       "      <th>40458</th>\n",
       "      <td>6.075026e+09</td>\n",
       "      <td>Community Air Protection Incentives</td>\n",
       "      <td>105033.000000</td>\n",
       "      <td>105033.000000</td>\n",
       "      <td>0.0</td>\n",
       "      <td>0.000000</td>\n",
       "      <td>0.00000</td>\n",
       "      <td>0.000000</td>\n",
       "      <td>0.0</td>\n",
       "      <td>5255.0</td>\n",
       "      <td>...</td>\n",
       "      <td>30.882353</td>\n",
       "      <td>21.571610</td>\n",
       "      <td>43.166919</td>\n",
       "      <td></td>\n",
       "      <td>0-10%</td>\n",
       "      <td>0-10%</td>\n",
       "      <td>0-10%</td>\n",
       "      <td>0-10%</td>\n",
       "      <td>50-60%</td>\n",
       "      <td>06075026302</td>\n",
       "    </tr>\n",
       "    <tr>\n",
       "      <th>16552</th>\n",
       "      <td>6.037408e+09</td>\n",
       "      <td>&lt;All Programs&gt;</td>\n",
       "      <td>121847.165934</td>\n",
       "      <td>121847.165934</td>\n",
       "      <td>0.0</td>\n",
       "      <td>22403.295259</td>\n",
       "      <td>0.00000</td>\n",
       "      <td>0.000000</td>\n",
       "      <td>0.0</td>\n",
       "      <td>4986.0</td>\n",
       "      <td>...</td>\n",
       "      <td>55.023425</td>\n",
       "      <td>36.653992</td>\n",
       "      <td>33.648512</td>\n",
       "      <td></td>\n",
       "      <td>10-20%</td>\n",
       "      <td>0-10%</td>\n",
       "      <td>0-10%</td>\n",
       "      <td>0-10%</td>\n",
       "      <td>30-40%</td>\n",
       "      <td>06037408004</td>\n",
       "    </tr>\n",
       "    <tr>\n",
       "      <th>37915</th>\n",
       "      <td>6.073008e+09</td>\n",
       "      <td>Food Waste Prevention and Rescue Grants</td>\n",
       "      <td>750000.000000</td>\n",
       "      <td>0.000000</td>\n",
       "      <td>0.0</td>\n",
       "      <td>0.000000</td>\n",
       "      <td>0.00000</td>\n",
       "      <td>750000.000000</td>\n",
       "      <td>0.0</td>\n",
       "      <td>6979.0</td>\n",
       "      <td>...</td>\n",
       "      <td>9.721499</td>\n",
       "      <td>14.689480</td>\n",
       "      <td>20.902673</td>\n",
       "      <td></td>\n",
       "      <td>0-10%</td>\n",
       "      <td>0-10%</td>\n",
       "      <td>0-10%</td>\n",
       "      <td>0-10%</td>\n",
       "      <td>50-60%</td>\n",
       "      <td>06073008350</td>\n",
       "    </tr>\n",
       "    <tr>\n",
       "      <th>10995</th>\n",
       "      <td>6.037189e+09</td>\n",
       "      <td>Low Carbon Transit Operations Program</td>\n",
       "      <td>6457.377140</td>\n",
       "      <td>0.000000</td>\n",
       "      <td>0.0</td>\n",
       "      <td>0.000000</td>\n",
       "      <td>6457.37714</td>\n",
       "      <td>0.000000</td>\n",
       "      <td>0.0</td>\n",
       "      <td>3356.0</td>\n",
       "      <td>...</td>\n",
       "      <td>45.783446</td>\n",
       "      <td>61.939163</td>\n",
       "      <td>48.928391</td>\n",
       "      <td></td>\n",
       "      <td>0-10%</td>\n",
       "      <td>0-10%</td>\n",
       "      <td>0-10%</td>\n",
       "      <td>0-10%</td>\n",
       "      <td>0-10%</td>\n",
       "      <td>06037189102</td>\n",
       "    </tr>\n",
       "    <tr>\n",
       "      <th>15219</th>\n",
       "      <td>6.037302e+09</td>\n",
       "      <td>Single-Family Solar Photovoltaics (PV)</td>\n",
       "      <td>26125.000000</td>\n",
       "      <td>26125.000000</td>\n",
       "      <td>26125.0</td>\n",
       "      <td>0.000000</td>\n",
       "      <td>0.00000</td>\n",
       "      <td>0.000000</td>\n",
       "      <td>0.0</td>\n",
       "      <td>5510.0</td>\n",
       "      <td>...</td>\n",
       "      <td>59.383134</td>\n",
       "      <td>95.754119</td>\n",
       "      <td>82.816440</td>\n",
       "      <td></td>\n",
       "      <td>0-10%</td>\n",
       "      <td>0-10%</td>\n",
       "      <td>0-10%</td>\n",
       "      <td>0-10%</td>\n",
       "      <td>10-20%</td>\n",
       "      <td>06037302202</td>\n",
       "    </tr>\n",
       "    <tr>\n",
       "      <th>33860</th>\n",
       "      <td>6.067008e+09</td>\n",
       "      <td>Water-Energy Grant Program</td>\n",
       "      <td>9.000000</td>\n",
       "      <td>0.000000</td>\n",
       "      <td>0.0</td>\n",
       "      <td>0.000000</td>\n",
       "      <td>0.00000</td>\n",
       "      <td>9.000000</td>\n",
       "      <td>0.0</td>\n",
       "      <td>3059.0</td>\n",
       "      <td>...</td>\n",
       "      <td>66.605934</td>\n",
       "      <td>18.466413</td>\n",
       "      <td>44.654564</td>\n",
       "      <td></td>\n",
       "      <td>0-10%</td>\n",
       "      <td>0-10%</td>\n",
       "      <td>0-10%</td>\n",
       "      <td>0-10%</td>\n",
       "      <td>0-10%</td>\n",
       "      <td>06067008140</td>\n",
       "    </tr>\n",
       "    <tr>\n",
       "      <th>2014</th>\n",
       "      <td>6.001451e+09</td>\n",
       "      <td>Clean Vehicle Rebate Project</td>\n",
       "      <td>527585.000000</td>\n",
       "      <td>0.000000</td>\n",
       "      <td>0.0</td>\n",
       "      <td>0.000000</td>\n",
       "      <td>0.00000</td>\n",
       "      <td>527585.000000</td>\n",
       "      <td>0.0</td>\n",
       "      <td>5630.0</td>\n",
       "      <td>...</td>\n",
       "      <td>1.900052</td>\n",
       "      <td>25.323194</td>\n",
       "      <td>19.578921</td>\n",
       "      <td></td>\n",
       "      <td>0-10%</td>\n",
       "      <td>0-10%</td>\n",
       "      <td>0-10%</td>\n",
       "      <td>0-10%</td>\n",
       "      <td>50-60%</td>\n",
       "      <td>06001450750</td>\n",
       "    </tr>\n",
       "    <tr>\n",
       "      <th>9219</th>\n",
       "      <td>6.037113e+09</td>\n",
       "      <td>&lt;All Programs&gt;</td>\n",
       "      <td>87733.442845</td>\n",
       "      <td>0.000000</td>\n",
       "      <td>0.0</td>\n",
       "      <td>0.000000</td>\n",
       "      <td>0.00000</td>\n",
       "      <td>87733.442845</td>\n",
       "      <td>0.0</td>\n",
       "      <td>2303.0</td>\n",
       "      <td>...</td>\n",
       "      <td>65.629880</td>\n",
       "      <td>75.982256</td>\n",
       "      <td>45.196672</td>\n",
       "      <td></td>\n",
       "      <td>0-10%</td>\n",
       "      <td>0-10%</td>\n",
       "      <td>10-20%</td>\n",
       "      <td>0-10%</td>\n",
       "      <td>10-20%</td>\n",
       "      <td>06037113231</td>\n",
       "    </tr>\n",
       "    <tr>\n",
       "      <th>18492</th>\n",
       "      <td>6.037504e+09</td>\n",
       "      <td>Low Carbon Transit Operations Program</td>\n",
       "      <td>17.862263</td>\n",
       "      <td>17.862263</td>\n",
       "      <td>0.0</td>\n",
       "      <td>0.000000</td>\n",
       "      <td>0.00000</td>\n",
       "      <td>0.000000</td>\n",
       "      <td>0.0</td>\n",
       "      <td>4655.0</td>\n",
       "      <td>...</td>\n",
       "      <td>30.882353</td>\n",
       "      <td>40.899873</td>\n",
       "      <td>45.524458</td>\n",
       "      <td></td>\n",
       "      <td>0-10%</td>\n",
       "      <td>0-10%</td>\n",
       "      <td>0-10%</td>\n",
       "      <td>0-10%</td>\n",
       "      <td>0-10%</td>\n",
       "      <td>06037503502</td>\n",
       "    </tr>\n",
       "    <tr>\n",
       "      <th>19322</th>\n",
       "      <td>6.037535e+09</td>\n",
       "      <td>Clean Cars 4 All</td>\n",
       "      <td>10000.000000</td>\n",
       "      <td>10000.000000</td>\n",
       "      <td>0.0</td>\n",
       "      <td>10000.000000</td>\n",
       "      <td>0.00000</td>\n",
       "      <td>0.000000</td>\n",
       "      <td>0.0</td>\n",
       "      <td>4435.0</td>\n",
       "      <td>...</td>\n",
       "      <td>44.351900</td>\n",
       "      <td>13.561470</td>\n",
       "      <td>69.465456</td>\n",
       "      <td></td>\n",
       "      <td>0-10%</td>\n",
       "      <td>0-10%</td>\n",
       "      <td>0-10%</td>\n",
       "      <td>0-10%</td>\n",
       "      <td>0-10%</td>\n",
       "      <td>06037534700</td>\n",
       "    </tr>\n",
       "  </tbody>\n",
       "</table>\n",
       "<p>10 rows × 59 columns</p>\n",
       "</div>"
      ],
      "text/plain": [
       "       Census_Tract                             Program_Name  Funding_Amount  \\\n",
       "40458  6.075026e+09      Community Air Protection Incentives   105033.000000   \n",
       "16552  6.037408e+09                           <All Programs>   121847.165934   \n",
       "37915  6.073008e+09  Food Waste Prevention and Rescue Grants   750000.000000   \n",
       "10995  6.037189e+09    Low Carbon Transit Operations Program     6457.377140   \n",
       "15219  6.037302e+09   Single-Family Solar Photovoltaics (PV)    26125.000000   \n",
       "33860  6.067008e+09               Water-Energy Grant Program        9.000000   \n",
       "2014   6.001451e+09             Clean Vehicle Rebate Project   527585.000000   \n",
       "9219   6.037113e+09                           <All Programs>    87733.442845   \n",
       "18492  6.037504e+09    Low Carbon Transit Operations Program       17.862263   \n",
       "19322  6.037535e+09                         Clean Cars 4 All    10000.000000   \n",
       "\n",
       "         LIC_Funding  DAC_Funding  DACN_LIC_Funding  DACN_LIH_Funding  \\\n",
       "40458  105033.000000          0.0          0.000000           0.00000   \n",
       "16552  121847.165934          0.0      22403.295259           0.00000   \n",
       "37915       0.000000          0.0          0.000000           0.00000   \n",
       "10995       0.000000          0.0          0.000000        6457.37714   \n",
       "15219   26125.000000      26125.0          0.000000           0.00000   \n",
       "33860       0.000000          0.0          0.000000           0.00000   \n",
       "2014        0.000000          0.0          0.000000           0.00000   \n",
       "9219        0.000000          0.0          0.000000           0.00000   \n",
       "18492      17.862263          0.0          0.000000           0.00000   \n",
       "19322   10000.000000          0.0      10000.000000           0.00000   \n",
       "\n",
       "        NOPP_Funding  Tribal_Funding  Population  ...  Unemploy_Pctl  \\\n",
       "40458       0.000000             0.0      5255.0  ...      30.882353   \n",
       "16552       0.000000             0.0      4986.0  ...      55.023425   \n",
       "37915  750000.000000             0.0      6979.0  ...       9.721499   \n",
       "10995       0.000000             0.0      3356.0  ...      45.783446   \n",
       "15219       0.000000             0.0      5510.0  ...      59.383134   \n",
       "33860       9.000000             0.0      3059.0  ...      66.605934   \n",
       "2014   527585.000000             0.0      5630.0  ...       1.900052   \n",
       "9219    87733.442845             0.0      2303.0  ...      65.629880   \n",
       "18492       0.000000             0.0      4655.0  ...      30.882353   \n",
       "19322       0.000000             0.0      4435.0  ...      44.351900   \n",
       "\n",
       "      HousBurd_Pctl   PopCharP Tribal_Name African_American_Range  \\\n",
       "40458     21.571610  43.166919                              0-10%   \n",
       "16552     36.653992  33.648512                             10-20%   \n",
       "37915     14.689480  20.902673                              0-10%   \n",
       "10995     61.939163  48.928391                              0-10%   \n",
       "15219     95.754119  82.816440                              0-10%   \n",
       "33860     18.466413  44.654564                              0-10%   \n",
       "2014      25.323194  19.578921                              0-10%   \n",
       "9219      75.982256  45.196672                              0-10%   \n",
       "18492     40.899873  45.524458                              0-10%   \n",
       "19322     13.561470  69.465456                              0-10%   \n",
       "\n",
       "      Native_American_Range Other_Multiple_Range Pacific_Islander_Range  \\\n",
       "40458                 0-10%                0-10%                  0-10%   \n",
       "16552                 0-10%                0-10%                  0-10%   \n",
       "37915                 0-10%                0-10%                  0-10%   \n",
       "10995                 0-10%                0-10%                  0-10%   \n",
       "15219                 0-10%                0-10%                  0-10%   \n",
       "33860                 0-10%                0-10%                  0-10%   \n",
       "2014                  0-10%                0-10%                  0-10%   \n",
       "9219                  0-10%               10-20%                  0-10%   \n",
       "18492                 0-10%                0-10%                  0-10%   \n",
       "19322                 0-10%                0-10%                  0-10%   \n",
       "\n",
       "       Asian_American_Range        GEOID  \n",
       "40458                50-60%  06075026302  \n",
       "16552                30-40%  06037408004  \n",
       "37915                50-60%  06073008350  \n",
       "10995                 0-10%  06037189102  \n",
       "15219                10-20%  06037302202  \n",
       "33860                 0-10%  06067008140  \n",
       "2014                 50-60%  06001450750  \n",
       "9219                 10-20%  06037113231  \n",
       "18492                 0-10%  06037503502  \n",
       "19322                 0-10%  06037534700  \n",
       "\n",
       "[10 rows x 59 columns]"
      ]
     },
     "execution_count": 171,
     "metadata": {},
     "output_type": "execute_result"
    }
   ],
   "source": [
    "# Input feature class\n",
    "fc = Funding_Dist_long\n",
    "\n",
    "# Convert to pandas DataFrame\n",
    "fields = [f.name for f in arcpy.ListFields(fc) if f.type not in (\"Geometry\", \"OID\")]\n",
    "data = [row for row in arcpy.da.SearchCursor(fc, fields)]\n",
    "df = pd.DataFrame(data, columns=fields)\n",
    "\n",
    "# Grouping and aggregation setup\n",
    "group_field = [\"Census_Tract\", \"Program_Name\"]\n",
    "\n",
    "fields_to_sum = [\"Funding_Amount\", \"LIC_Funding\", \"DAC_Funding\", \"DACN_LIC_Funding\", \"DACN_LIH_Funding\",\n",
    "    \"NOPP_Funding\", \"Tribal_Funding\", \"Population\"]\n",
    "\n",
    "fields_to_copy = [\n",
    "    \"PctBIPOC\", \"BIPOCMaj\", \"DemogMaj\", \"CES4range\", \"CES4decile\", 'CCIquartile',\n",
    "    \"County\", \"ApproxLoc\", \"Child_10\", \"Pop_10_64\", \"Elderly_65\", \"Hispanic\", \"White\", \"African_American\",\n",
    "    \"Native_American\", \"Other_Multiple\", \"Pacific_Islander\", \"Asian_American\", \"CIscoreP\", \"Ozone_Pctl\",\n",
    "    \"PM2_5_Pctl\", \"Diesel_PM_Pctl\", \"Pesticides_Pctl\", \"Tox_Releases_Pctl\", \"Traffic_Pctl\", \"DrinkingWaterPctl\",\n",
    "    \"Lead_Pctl\", \"Cleanups_Pctl\", \"GW_Threats_Pctl\", \"Haz_Waste_Pctl\", \"ImpWaterBodPctl\", \"Solid_Waste_Pctl\",\n",
    "    \"Pollution_Pctl\", \"Asthma_Pctl\", \"LowBirthW_Pctl\", \"Cardiovasc_Pctl\", \"Education_Pctl\", \"Ling_Isol_Pctl\",\n",
    "    \"Poverty_Pctl\", \"Unemploy_Pctl\", \"HousBurd_Pctl\", \"PopCharP\", \"Tribal_Name\", \"African_American_Range\",\n",
    "    \"Native_American_Range\", \"Other_Multiple_Range\", \"Pacific_Islander_Range\", \"Asian_American_Range\", \"Hispanic_Range\", \"White_Range\"\n",
    "]\n",
    "\n",
    "fields_to_delete = [\"CCIpc_prgm\", \"Geography\", \"Designatio\"]\n",
    "\n",
    "# Drop fields you don’t want\n",
    "df_cleaned = df.drop(columns=fields_to_delete, errors='ignore')\n",
    "\n",
    "# Define aggregation rules\n",
    "agg_dict = {field: 'sum' for field in fields_to_sum}\n",
    "for field in fields_to_copy:\n",
    "    if field == \"Name\":\n",
    "        agg_dict[field] = lambda x: next((val for val in x if pd.notnull(val) and str(val).strip() != \"\"), None)\n",
    "    else:\n",
    "        agg_dict[field] = 'first'\n",
    "\n",
    "# Group and aggregate\n",
    "funding_CT = df_cleaned.groupby(group_field, as_index=False).agg(agg_dict)\n",
    "\n",
    "# zero-pad Tract to 11 digits and create GEOID\n",
    "funding_CT[\"GEOID\"] = funding_CT[\"Census_Tract\"].apply(lambda x: str(int(x)).zfill(11))\n",
    "\n",
    "funding_CT.sample(10)"
   ]
  },
  {
   "cell_type": "code",
   "execution_count": 172,
   "metadata": {},
   "outputs": [
    {
     "name": "stdout",
     "output_type": "stream",
     "text": [
      "Invalid or missing Funding_Amount entries: 0\n",
      "Total Funding Amount: 12,775,208,202.75\n"
     ]
    }
   ],
   "source": [
    "#Check the total funding amount to make sure the dataframe has been grouped without error - QC\n",
    "\n",
    "# Ensure Funding_Amount is numeric\n",
    "df_cleaned[\"Funding_Amount\"] = pd.to_numeric(df_cleaned[\"Funding_Amount\"], errors='coerce')\n",
    "\n",
    "# Print number of invalid or missing entries\n",
    "invalid_count = df_cleaned[\"Funding_Amount\"].isna().sum()\n",
    "print(f\"Invalid or missing Funding_Amount entries: {invalid_count}\")\n",
    "\n",
    "# Fill missing values with 0 (optional, if you want them counted in the sum)\n",
    "df_cleaned[\"Funding_Amount\"] = df_cleaned[\"Funding_Amount\"].fillna(0)\n",
    "\n",
    "# Print the total sum\n",
    "total_funding = df_cleaned[\"Funding_Amount\"].sum()\n",
    "print(f\"Total Funding Amount: {total_funding/2:,.2f}\")"
   ]
  },
  {
   "cell_type": "code",
   "execution_count": 173,
   "metadata": {},
   "outputs": [
    {
     "name": "stdout",
     "output_type": "stream",
     "text": [
      "Data saved to: C:\\Users\\gcowan\\Documents\\ArcGIS\\Projects\\Distribution Analysis\\Data Restructure\\Funding_Distribution_AR25\\Interm Code Outputs\\Funding_CT_Long.csv\n"
     ]
    }
   ],
   "source": [
    "# Export to a CSV (interm out put for census tract code below)\n",
    "\n",
    "# Define the output CSV file path\n",
    "output_csv = r\"C:\\Users\\gcowan\\Documents\\ArcGIS\\Projects\\Distribution Analysis\\Data Restructure\\Funding_Distribution_AR25\\Interm Code Outputs\\Funding_CT_Long.csv\"\n",
    "\n",
    "# Save the DataFrame to CSV\n",
    "funding_CT.to_csv(output_csv, index=False)\n",
    "\n",
    "print(f\"Data saved to: {output_csv}\")"
   ]
  },
  {
   "cell_type": "code",
   "execution_count": 176,
   "metadata": {},
   "outputs": [
    {
     "name": "stdout",
     "output_type": "stream",
     "text": [
      "Data saved to: C:\\Users\\gcowan\\Documents\\ArcGIS\\Projects\\Distribution Analysis\\Data Restructure\\Funding_Distribution_AR25\\Interm Code Outputs\\Funding_CT_Long.xlsx\n"
     ]
    }
   ],
   "source": [
    "# Export to an Excel file (final tabular format)\n",
    "\n",
    "# Define the output Excel file path\n",
    "output_excel = r\"C:\\Users\\gcowan\\Documents\\ArcGIS\\Projects\\Distribution Analysis\\Data Restructure\\Funding_Distribution_AR25\\Interm Code Outputs\\Funding_CT_Long.xlsx\"\n",
    "\n",
    "# Save the DataFrame to Excel\n",
    "funding_CT.to_excel(output_excel, index=False)\n",
    "\n",
    "print(f\"Data saved to: {output_excel}\")"
   ]
  },
  {
   "cell_type": "markdown",
   "metadata": {},
   "source": [
    "### Rejoin to census tract geography"
   ]
  },
  {
   "cell_type": "markdown",
   "metadata": {},
   "source": [
    "NOTE: due to issues with using Geopandas within the Arc Python enviornment joining the dataset aggregated by census tract is performed in an external enviornment with this notebook: [LINK to GitHub for code]"
   ]
  },
  {
   "cell_type": "code",
   "execution_count": 177,
   "metadata": {},
   "outputs": [
    {
     "data": {
      "text/html": [
       "<div class='gpresult'><h2 class='msg-title'>Messages</h2><div id='messages'>Start Time: Wednesday, June 18, 2025 6:14:51 PM<br>Succeeded at Wednesday, June 18, 2025 6:15:02 PM (Elapsed Time: 10.70 seconds)<br></div><div id = 'default' /></div></div>"
      ],
      "text/plain": [
       "<Result 'C:\\\\Users\\\\gcowan\\\\Documents\\\\ArcGIS\\\\Projects\\\\Distribution Analysis\\\\Data Restructure\\\\Funding_Distribution_AR25\\\\Funding_Distribution_AR25.gdb\\\\Funding_Dist_AR25_CT'>"
      ]
     },
     "execution_count": 177,
     "metadata": {},
     "output_type": "execute_result"
    }
   ],
   "source": [
    "# Path to your GeoPackage and layer\n",
    "gpkg_path = r\"C:\\Users\\gcowan\\Documents\\ArcGIS\\Projects\\Distribution Analysis\\Data Restructure\\Funding_Distribution_AR25\\Interm Code Outputs\\joined_CT_cci2.gpkg\"\n",
    "layer_name = \"main.joined_data\"  # Layer inside the GPKG\n",
    "\n",
    "# Path to your File Geodatabase (use your existing project_gdb variable)\n",
    "fgdb_path = project_gdb  \n",
    "# Output feature class name inside the FGDB\n",
    "out_fc_name = f\"Funding_Dist_{suffix}_CT\"\n",
    "\n",
    "# Full path to layer in GPKG\n",
    "gpkg_layer = f\"{gpkg_path}\\\\{layer_name}\"\n",
    "\n",
    "# Convert feature class from GeoPackage to File Geodatabase\n",
    "arcpy.FeatureClassToFeatureClass_conversion(gpkg_layer, fgdb_path, out_fc_name)\n"
   ]
  },
  {
   "cell_type": "code",
   "execution_count": 178,
   "metadata": {},
   "outputs": [
    {
     "name": "stdout",
     "output_type": "stream",
     "text": [
      "Fields deleted successfully.\n"
     ]
    }
   ],
   "source": [
    "aprx = arcpy.mp.ArcGISProject(\"CURRENT\")\n",
    "map_obj = aprx.activeMap\n",
    "\n",
    "# Get the layer by name\n",
    "layer_name = \"Funding_Dist_AR25_CT\"\n",
    "layers = map_obj.listLayers(layer_name)\n",
    "\n",
    "if not layers:\n",
    "    print(f\"Layer '{layer_name}' not found in the current map.\")\n",
    "else:\n",
    "    layer = layers[0]  # Safe now\n",
    "    fc_path = layer.dataSource\n",
    "\n",
    "    # Fields to delete\n",
    "    fields_to_delete_CT = [\n",
    "        'STATEFP', 'TRACTCE', 'GEOID', 'NAME', 'NAMELSAD',\n",
    "        'MTFCC', 'FUNCSTAT', 'ALAND', 'AWATER', 'INTPTLAT', 'INTPTLON',\n",
    "        'GeoID_Fmt', 'GeoID_Fm', 'Tract_x'\n",
    "    ]\n",
    "\n",
    "    # Delete fields\n",
    "    try:\n",
    "        arcpy.DeleteField_management(fc_path, fields_to_delete_CT)\n",
    "        print(\"Fields deleted successfully.\")\n",
    "    except Exception as e:\n",
    "        print(f\"An error occurred during field deletion: {e}\")\n"
   ]
  },
  {
   "cell_type": "code",
   "execution_count": 179,
   "metadata": {},
   "outputs": [
    {
     "name": "stdout",
     "output_type": "stream",
     "text": [
      "Feature layer 'FeatureLayer_CT' created successfully.\n",
      "'C:\\Users\\gcowan\\Documents\\ArcGIS\\Projects\\Distribution Analysis\\Data Restructure\\Funding_Distribution_AR25\\Funding_Distribution_AR25.gdb\\Funding_Dist_AR25_CT' added to map.\n",
      "Layer package saved successfully at: C:\\Users\\gcowan\\Documents\\ArcGIS\\Projects\\Distribution Analysis\\Data Restructure\\Funding_Distribution_AR25\\Final Code Outputs\\Funding_Dist_CT.lpkx\n",
      "Temporary layer 'FeatureLayer_CT' deleted.\n"
     ]
    }
   ],
   "source": [
    "# Define paths\n",
    "Funding_Dist_CT = f\"{project_gdb}\\\\Funding_Dist_{suffix}_CT\"\n",
    "layer_CT_name = \"FeatureLayer_CT\"\n",
    "FundingDist_lpkx_CT = r\"C:\\Users\\gcowan\\Documents\\ArcGIS\\Projects\\Distribution Analysis\\Data Restructure\\Funding_Distribution_AR25\\Final Code Outputs\\Funding_Dist_CT.lpkx\"\n",
    "\n",
    "try:\n",
    "    # Step 1: Create a feature layer\n",
    "    arcpy.management.MakeFeatureLayer(Funding_Dist_CT, layer_CT_name)\n",
    "    print(f\"Feature layer '{layer_CT_name}' created successfully.\")\n",
    "\n",
    "    # Step 1.5: Add to current map\n",
    "    map_obj = arcpy.mp.ArcGISProject(\"CURRENT\").activeMap\n",
    "    map_obj.addDataFromPath(Funding_Dist_CT)\n",
    "    print(f\"'{Funding_Dist_CT}' added to map.\")\n",
    "\n",
    "    # Step 2: Create a layer package\n",
    "    arcpy.management.PackageLayer(layer_CT_name, FundingDist_lpkx_CT, \"PRESERVE\", \"CONVERT_ARCSDE\", \"DEFAULT\", \"ALL\")\n",
    "    print(f\"Layer package saved successfully at: {FundingDist_lpkx_CT}\")\n",
    "\n",
    "except Exception as e:\n",
    "    print(f\"An error occurred: {e}\")\n",
    "\n",
    "finally:\n",
    "    # Cleanup: Delete the temporary layer\n",
    "    if arcpy.Exists(layer_CT_name):\n",
    "        arcpy.management.Delete(layer_CT_name)\n",
    "        print(f\"Temporary layer '{layer_CT_name}' deleted.\")\n"
   ]
  },
  {
   "cell_type": "code",
   "execution_count": 180,
   "metadata": {},
   "outputs": [
    {
     "name": "stdout",
     "output_type": "stream",
     "text": [
      "Feature layer 'FeatureLayer_CT' created successfully.\n",
      "'C:\\Users\\gcowan\\Documents\\ArcGIS\\Projects\\Distribution Analysis\\Data Restructure\\Funding_Distribution_AR25\\Funding_Distribution_AR25.gdb\\Funding_Dist_AR25_CT' added to map.\n",
      "Layer package saved successfully at: C:\\Users\\gcowan\\Documents\\ArcGIS\\Projects\\Distribution Analysis\\Data Restructure\\Funding_Distribution_AR25\\Final Code Outputs\\Funding_Dist_CT.lpkx\n",
      "Total Funding_Amount: $12,775,208,202.75\n",
      "Temporary layer 'FeatureLayer_CT' deleted.\n"
     ]
    }
   ],
   "source": [
    "# Define paths\n",
    "Funding_Dist_CT = f\"{project_gdb}\\\\Funding_Dist_{suffix}_CT\"\n",
    "layer_CT_name = \"FeatureLayer_CT\"\n",
    "FundingDist_lpkx_CT = r\"C:\\Users\\gcowan\\Documents\\ArcGIS\\Projects\\Distribution Analysis\\Data Restructure\\Funding_Distribution_AR25\\Final Code Outputs\\Funding_Dist_CT.lpkx\"\n",
    "\n",
    "try:\n",
    "    # Step 1: Create a feature layer\n",
    "    arcpy.management.MakeFeatureLayer(Funding_Dist_CT, layer_CT_name)\n",
    "    print(f\"Feature layer '{layer_CT_name}' created successfully.\")\n",
    "\n",
    "    # Step 1.5: Add to current map\n",
    "    map_obj = arcpy.mp.ArcGISProject(\"CURRENT\").activeMap\n",
    "    map_obj.addDataFromPath(Funding_Dist_CT)\n",
    "    print(f\"'{Funding_Dist_CT}' added to map.\")\n",
    "\n",
    "    # Step 2: Create a layer package\n",
    "    arcpy.management.PackageLayer(layer_CT_name, FundingDist_lpkx_CT, \"PRESERVE\", \"CONVERT_ARCSDE\", \"DEFAULT\", \"ALL\")\n",
    "    print(f\"Layer package saved successfully at: {FundingDist_lpkx_CT}\")\n",
    "\n",
    "    # Step 3: Sum the Funding_Amount field\n",
    "    total = 0\n",
    "    with arcpy.da.SearchCursor(Funding_Dist_CT, [\"Funding_Amount\"]) as cursor:\n",
    "        for row in cursor:\n",
    "            if row[0] is not None:\n",
    "                total += row[0]\n",
    "    print(f\"Total Funding_Amount: ${total/2:,.2f}\")\n",
    "\n",
    "except Exception as e:\n",
    "    print(f\"An error occurred: {e}\")\n",
    "\n",
    "finally:\n",
    "    # Cleanup: Delete the temporary layer\n",
    "    if arcpy.Exists(layer_CT_name):\n",
    "        arcpy.management.Delete(layer_CT_name)\n",
    "        print(f\"Temporary layer '{layer_CT_name}' deleted.\")\n"
   ]
  },
  {
   "cell_type": "code",
   "execution_count": null,
   "metadata": {},
   "outputs": [],
   "source": []
  }
 ],
 "metadata": {
  "kernelspec": {
   "display_name": "ArcGISPro",
   "language": "python",
   "name": "python3"
  },
  "language_info": {
   "file_extension": ".py",
   "mimetype": "text/x-python",
   "name": "python",
   "version": "3.11.10"
  }
 },
 "nbformat": 4,
 "nbformat_minor": 4
}
